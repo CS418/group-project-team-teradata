{
 "cells": [
  {
   "cell_type": "code",
   "execution_count": 1,
   "id": "1e2cbcda",
   "metadata": {
    "id": "1e2cbcda"
   },
   "outputs": [],
   "source": [
    "#Importing the libraries\n",
    "import pandas as pd\n",
    "import numpy as np\n",
    "import PIL\n",
    "import os\n",
    "import shutil\n",
    "import matplotlib.pyplot as plt\n",
    "import tensorflow as tf\n",
    "from tensorflow.keras import datasets, layers, models\n",
    "from tensorflow.keras.preprocessing.image import ImageDataGenerator\n",
    "from tensorflow.keras.optimizers import Adam\n",
    "from tensorflow.keras.applications import ResNet152V2, EfficientNetB7, VGG19"
   ]
  },
  {
   "cell_type": "code",
   "execution_count": null,
   "id": "0666f0df",
   "metadata": {
    "id": "0666f0df"
   },
   "outputs": [],
   "source": [
    "# Importing the image metadata\n",
    "PROJECT_PATH = \"./drive/MyDrive/DSc Project/\"\n",
    "metadata_path = os.path.join(PROJECT_PATH+\"ddi_metadata.csv\")\n",
    "metadata = pd.read_csv(metadata_path)\n",
    "metadata.head()\n",
    "metadata = metadata.set_index(\"DDI_file\")"
   ]
  },
  {
   "cell_type": "markdown",
   "id": "5d9578f0",
   "metadata": {
    "id": "9e5d0a11"
   },
   "source": [
    "## Data Cleaning"
   ]
  },
  {
   "cell_type": "code",
   "execution_count": null,
   "id": "8403cbf0",
   "metadata": {},
   "outputs": [],
   "source": [
    "# Importing the image metadata\n",
    "metadata_path = os.path.join(\"data\", \"ddi_metadata.csv\")\n",
    "metadata = pd.read_csv(metadata_path)\n",
    "metadata.head()\n",
    "metadata = metadata.set_index(\"DDI_file\")"
   ]
  },
  {
   "cell_type": "code",
   "execution_count": null,
   "id": "b270336a",
   "metadata": {},
   "outputs": [],
   "source": [
    "# Formatting the images into the individual classes\n",
    "src_dir = os.path.join(\"data\",\"image_data\")\n",
    "dst_dir = os.path.join(\"data\",\"ddi_images\")\n",
    "if(\"ddi_images\" not in os.listdir(\"data\")):\n",
    "    os.mkdir(os.path.join(\"data\",\"ddi_images\"))\n",
    "\n",
    "for filename in os.listdir(src_dir):\n",
    "    src_path = os.path.join(src_dir, filename)\n",
    "    disease = metadata.loc[filename][\"disease\"]\n",
    "    class_dir  = os.path.join(dst_dir,disease)\n",
    "    if(not os.path.exists(class_dir)):\n",
    "        os.mkdir(class_dir)\n",
    "    dst_path = os.path.join(class_dir,filename)\n",
    "    \n",
    "    shutil.copy(src_path, dst_path)"
   ]
  },
  {
   "cell_type": "code",
   "execution_count": null,
   "id": "8db5201e",
   "metadata": {},
   "outputs": [],
   "source": [
    "#Verify out data cleaning for any loss of data\n",
    "for dir_name in os.listdir(dst_dir):\n",
    "    dir_path = os.path.join(dst_dir,dir_name)\n",
    "    print(dir_name, len(os.listdir(dir_path)))"
   ]
  },
  {
   "cell_type": "code",
   "execution_count": null,
   "id": "f6298986",
   "metadata": {},
   "outputs": [],
   "source": [
    "# Insights about the data\n",
    "count = metadata.reset_index().groupby(\"disease\").count()\n",
    "x = count[\"DDI_file\"].index\n",
    "y = count[\"DDI_file\"].values\n",
    "x_sorted, y_sorted = zip(*sorted(zip(x,y), key=lambda p: p[1], reverse=True))"
   ]
  },
  {
   "cell_type": "code",
   "execution_count": null,
   "id": "7c232e43",
   "metadata": {},
   "outputs": [],
   "source": [
    "plt.figure(figsize=(20, 4.8))\n",
    "plt.xticks(range(len(x_sorted)),x_sorted,rotation=90)\n",
    "plt.bar(x_sorted, y_sorted)\n",
    "plt.xlabel(\"Disease\")\n",
    "plt.ylabel(\"No. of samples\")\n",
    "plt.title(\"No. of samples per disease\")\n",
    "plt.savefig(\"samples_bargraph_sorted.png\", bbox_inches=\"tight\")\n",
    "plt.show()"
   ]
  },
  {
   "cell_type": "markdown",
   "id": "9e5d0a11",
   "metadata": {
    "id": "9e5d0a11"
   },
   "source": [
    "## Training"
   ]
  },
  {
   "cell_type": "code",
   "execution_count": null,
   "id": "088042a2",
   "metadata": {
    "colab": {
     "base_uri": "https://localhost:8080/"
    },
    "id": "088042a2",
    "outputId": "b03e73dc-6012-4d65-89e6-1d5f21fcf03c"
   },
   "outputs": [
    {
     "name": "stdout",
     "output_type": "stream",
     "text": [
      "No Of Classes: 78\n"
     ]
    }
   ],
   "source": [
    "# Global Variables\n",
    "NO_OF_CLASSES = len(metadata[\"disease\"].unique())\n",
    "print(f\"No Of Classes: {NO_OF_CLASSES}\")\n",
    "\n",
    "BATCH_SIZE = 64"
   ]
  },
  {
   "cell_type": "code",
   "execution_count": null,
   "id": "229d9d5d",
   "metadata": {
    "id": "229d9d5d"
   },
   "outputs": [],
   "source": [
    "# Building the ResNet model\n",
    "def build_resnet_model(no_of_classes):\n",
    "    model = ResNet152V2(\n",
    "        include_top=True,\n",
    "        weights=None,\n",
    "        input_tensor=None,\n",
    "        input_shape=(32, 32, 1),\n",
    "        pooling=None,\n",
    "        classes=no_of_classes,\n",
    "        classifier_activation=\"softmax\",\n",
    "    )\n",
    "    \n",
    "    return model"
   ]
  },
  {
   "cell_type": "code",
   "execution_count": null,
   "id": "_zXw7cR_NrDH",
   "metadata": {
    "id": "_zXw7cR_NrDH"
   },
   "outputs": [],
   "source": [
    "#Building the EfficientNet Model\n",
    "def build_effnet_model(no_of_classes):\n",
    "    model = EfficientNetB7(\n",
    "        include_top=True,\n",
    "        weights=None,\n",
    "        input_tensor=None,\n",
    "        input_shape=(32, 32, 1),\n",
    "        pooling=None,\n",
    "        classes=no_of_classes,\n",
    "        classifier_activation=\"softmax\",\n",
    "    )\n",
    "    \n",
    "    return model"
   ]
  },
  {
   "cell_type": "code",
   "execution_count": null,
   "id": "OgcnKFnEFgC8",
   "metadata": {
    "id": "OgcnKFnEFgC8"
   },
   "outputs": [],
   "source": [
    "#Building the VGGNet model\n",
    "def build_vggnet_model(no_of_classes):\n",
    "    model = VGG19(\n",
    "        include_top=True,\n",
    "        weights=None,\n",
    "        input_tensor=None,\n",
    "        input_shape=(32, 32, 1),\n",
    "        pooling=None,\n",
    "        classes=no_of_classes,\n",
    "        classifier_activation=\"softmax\",\n",
    "    )\n",
    "    \n",
    "    return model"
   ]
  },
  {
   "cell_type": "code",
   "execution_count": null,
   "id": "9edef8f4",
   "metadata": {
    "colab": {
     "base_uri": "https://localhost:8080/"
    },
    "id": "9edef8f4",
    "outputId": "6681824f-558e-4885-effc-e8c3b17768c8"
   },
   "outputs": [
    {
     "name": "stdout",
     "output_type": "stream",
     "text": [
      "Found 550 images belonging to 78 classes.\n",
      "Found 106 images belonging to 78 classes.\n"
     ]
    }
   ],
   "source": [
    "# Image Data Generator to flow from the processed images\n",
    "# Reference: https://www.tensorflow.org/api_docs/python/tf/keras/preprocessing/image/ImageDataGenerator\n",
    "image_gen = ImageDataGenerator(\n",
    "    rescale=1./255,\n",
    "    zoom_range=0.1,\n",
    "    validation_split=0.2)\n",
    "\n",
    "train_gen = image_gen.flow_from_directory(\n",
    "        PROJECT_PATH+'ddi_images',\n",
    "        target_size=(32, 32),\n",
    "        batch_size=BATCH_SIZE,\n",
    "        color_mode=\"grayscale\",\n",
    "        class_mode='categorical',\n",
    "        subset=\"training\")\n",
    "\n",
    "val_gen = image_gen.flow_from_directory(\n",
    "        PROJECT_PATH+'ddi_images',\n",
    "        target_size=(32, 32),\n",
    "        batch_size=BATCH_SIZE,\n",
    "        color_mode=\"grayscale\",\n",
    "        class_mode='categorical',\n",
    "        subset=\"validation\")"
   ]
  },
  {
   "cell_type": "code",
   "execution_count": null,
   "id": "da1a73f2",
   "metadata": {
    "id": "da1a73f2"
   },
   "outputs": [],
   "source": [
    "# Getting the train and test size from the DataGenerator object\n",
    "TRAIN_SIZE = len(train_gen.filepaths)\n",
    "TEST_SIZE = len(val_gen.filepaths)"
   ]
  },
  {
   "cell_type": "code",
   "execution_count": null,
   "id": "c829f5de",
   "metadata": {
    "id": "c829f5de"
   },
   "outputs": [],
   "source": [
    "# Method to train the model\n",
    "# Reference: https://www.tensorflow.org/tutorials/images/cnn\n",
    "def train(model,train_generator,test_generator):\n",
    "    optimizer = Adam(learning_rate=0.0001)\n",
    "    model.compile(optimizer=optimizer,\n",
    "                  loss='categorical_crossentropy',\n",
    "                  metrics=['accuracy'])\n",
    "\n",
    "    history = model.fit(train_generator,\n",
    "                                  epochs=30,\n",
    "                                  steps_per_epoch=TRAIN_SIZE // BATCH_SIZE)\n",
    "                                  # validation_steps=TEST_SIZE // BATCH_SIZE,\n",
    "                                  # validation_data=test_generator)\n",
    "\n",
    "    return history"
   ]
  },
  {
   "cell_type": "code",
   "execution_count": null,
   "id": "wGJ69uXRO9oC",
   "metadata": {
    "id": "wGJ69uXRO9oC"
   },
   "outputs": [],
   "source": [
    "effnet_model = build_effnet_model(NO_OF_CLASSES)"
   ]
  },
  {
   "cell_type": "code",
   "execution_count": null,
   "id": "2grJ5ygAPbqD",
   "metadata": {
    "colab": {
     "base_uri": "https://localhost:8080/"
    },
    "id": "2grJ5ygAPbqD",
    "outputId": "40676546-543a-439a-d5ca-47e39da19e4f"
   },
   "outputs": [
    {
     "name": "stdout",
     "output_type": "stream",
     "text": [
      "Epoch 1/30\n",
      "8/8 [==============================] - 244s 9s/step - loss: 6.9127 - accuracy: 0.0185\n",
      "Epoch 2/30\n",
      "8/8 [==============================] - 10s 1s/step - loss: 6.5882 - accuracy: 0.0206\n",
      "Epoch 3/30\n",
      "8/8 [==============================] - 10s 1s/step - loss: 6.6979 - accuracy: 0.0206\n",
      "Epoch 4/30\n",
      "8/8 [==============================] - 9s 1s/step - loss: 6.1647 - accuracy: 0.0226\n",
      "Epoch 5/30\n",
      "8/8 [==============================] - 10s 1s/step - loss: 6.6500 - accuracy: 0.0309\n",
      "Epoch 6/30\n",
      "8/8 [==============================] - 11s 1s/step - loss: 6.2503 - accuracy: 0.0488\n",
      "Epoch 7/30\n",
      "8/8 [==============================] - 10s 1s/step - loss: 6.0472 - accuracy: 0.0556\n",
      "Epoch 8/30\n",
      "8/8 [==============================] - 9s 1s/step - loss: 6.1050 - accuracy: 0.0494\n",
      "Epoch 9/30\n",
      "8/8 [==============================] - 10s 1s/step - loss: 5.9375 - accuracy: 0.0638\n",
      "Epoch 10/30\n",
      "8/8 [==============================] - 10s 1s/step - loss: 5.7714 - accuracy: 0.0679\n",
      "Epoch 11/30\n",
      "8/8 [==============================] - 9s 1s/step - loss: 5.7053 - accuracy: 0.0741\n",
      "Epoch 12/30\n",
      "8/8 [==============================] - 9s 1s/step - loss: 5.6514 - accuracy: 0.0658\n",
      "Epoch 13/30\n",
      "8/8 [==============================] - 10s 1s/step - loss: 5.6520 - accuracy: 0.0453\n",
      "Epoch 14/30\n",
      "8/8 [==============================] - 10s 1s/step - loss: 5.6733 - accuracy: 0.0638\n",
      "Epoch 15/30\n",
      "8/8 [==============================] - 10s 1s/step - loss: 5.5579 - accuracy: 0.0700\n",
      "Epoch 16/30\n",
      "8/8 [==============================] - 9s 1s/step - loss: 5.5003 - accuracy: 0.0967\n",
      "Epoch 17/30\n",
      "8/8 [==============================] - 10s 1s/step - loss: 5.4492 - accuracy: 0.1055\n",
      "Epoch 18/30\n",
      "8/8 [==============================] - 10s 1s/step - loss: 5.3901 - accuracy: 0.0905\n",
      "Epoch 19/30\n",
      "8/8 [==============================] - 10s 1s/step - loss: 5.3057 - accuracy: 0.0864\n",
      "Epoch 20/30\n",
      "8/8 [==============================] - 9s 1s/step - loss: 5.2805 - accuracy: 0.0782\n",
      "Epoch 21/30\n",
      "8/8 [==============================] - 10s 1s/step - loss: 5.2771 - accuracy: 0.0967\n",
      "Epoch 22/30\n",
      "8/8 [==============================] - 10s 1s/step - loss: 5.2421 - accuracy: 0.1070\n",
      "Epoch 23/30\n",
      "8/8 [==============================] - 10s 1s/step - loss: 5.0534 - accuracy: 0.1255\n",
      "Epoch 24/30\n",
      "8/8 [==============================] - 9s 1s/step - loss: 5.1709 - accuracy: 0.1420\n",
      "Epoch 25/30\n",
      "8/8 [==============================] - 10s 1s/step - loss: 4.9272 - accuracy: 0.1255\n",
      "Epoch 26/30\n",
      "8/8 [==============================] - 10s 1s/step - loss: 5.0031 - accuracy: 0.1029\n",
      "Epoch 27/30\n",
      "8/8 [==============================] - 9s 1s/step - loss: 4.9548 - accuracy: 0.1132\n",
      "Epoch 28/30\n",
      "8/8 [==============================] - 9s 1s/step - loss: 5.1825 - accuracy: 0.1255\n",
      "Epoch 29/30\n",
      "8/8 [==============================] - 10s 1s/step - loss: 4.9261 - accuracy: 0.1132\n",
      "Epoch 30/30\n",
      "8/8 [==============================] - 11s 1s/step - loss: 4.8836 - accuracy: 0.1152\n"
     ]
    }
   ],
   "source": [
    "effnet_history = train(effnet_model, train_gen, val_gen)"
   ]
  },
  {
   "cell_type": "code",
   "execution_count": null,
   "id": "2-uN5mKXFtzZ",
   "metadata": {
    "id": "2-uN5mKXFtzZ"
   },
   "outputs": [],
   "source": [
    "vggnet_model = build_vggnet_model(NO_OF_CLASSES)"
   ]
  },
  {
   "cell_type": "code",
   "execution_count": null,
   "id": "bCfEaFnmF0Ja",
   "metadata": {
    "colab": {
     "base_uri": "https://localhost:8080/"
    },
    "id": "bCfEaFnmF0Ja",
    "outputId": "1d438c37-069d-4612-e521-4f16817900c9"
   },
   "outputs": [
    {
     "name": "stdout",
     "output_type": "stream",
     "text": [
      "Epoch 1/30\n",
      "8/8 [==============================] - 17s 924ms/step - loss: 4.3520 - accuracy: 0.1461\n",
      "Epoch 2/30\n",
      "8/8 [==============================] - 10s 1s/step - loss: 3.9579 - accuracy: 0.1708\n",
      "Epoch 3/30\n",
      "8/8 [==============================] - 10s 1s/step - loss: 3.5639 - accuracy: 0.1687\n",
      "Epoch 4/30\n",
      "8/8 [==============================] - 10s 1s/step - loss: 3.5549 - accuracy: 0.1797\n",
      "Epoch 5/30\n",
      "8/8 [==============================] - 9s 1s/step - loss: 3.5208 - accuracy: 0.1738\n",
      "Epoch 6/30\n",
      "8/8 [==============================] - 10s 1s/step - loss: 3.4855 - accuracy: 0.1728\n",
      "Epoch 7/30\n",
      "8/8 [==============================] - 10s 1s/step - loss: 3.4840 - accuracy: 0.1749\n",
      "Epoch 8/30\n",
      "8/8 [==============================] - 9s 1s/step - loss: 3.4902 - accuracy: 0.1770\n",
      "Epoch 9/30\n",
      "8/8 [==============================] - 9s 1s/step - loss: 3.4814 - accuracy: 0.1758\n",
      "Epoch 10/30\n",
      "8/8 [==============================] - 9s 1s/step - loss: 3.5464 - accuracy: 0.1728\n",
      "Epoch 11/30\n",
      "8/8 [==============================] - 9s 1s/step - loss: 3.5036 - accuracy: 0.1831\n",
      "Epoch 12/30\n",
      "8/8 [==============================] - 9s 1s/step - loss: 3.5790 - accuracy: 0.1728\n",
      "Epoch 13/30\n",
      "8/8 [==============================] - 9s 1s/step - loss: 3.5447 - accuracy: 0.1605\n",
      "Epoch 14/30\n",
      "8/8 [==============================] - 10s 1s/step - loss: 3.4663 - accuracy: 0.1749\n",
      "Epoch 15/30\n",
      "8/8 [==============================] - 10s 1s/step - loss: 3.4718 - accuracy: 0.1790\n",
      "Epoch 16/30\n",
      "8/8 [==============================] - 10s 1s/step - loss: 3.4540 - accuracy: 0.1758\n",
      "Epoch 17/30\n",
      "8/8 [==============================] - 9s 1s/step - loss: 3.5113 - accuracy: 0.1770\n",
      "Epoch 18/30\n",
      "8/8 [==============================] - 9s 1s/step - loss: 3.5373 - accuracy: 0.1667\n",
      "Epoch 19/30\n",
      "8/8 [==============================] - 10s 1s/step - loss: 3.4700 - accuracy: 0.1811\n",
      "Epoch 20/30\n",
      "8/8 [==============================] - 10s 1s/step - loss: 3.5053 - accuracy: 0.1728\n",
      "Epoch 21/30\n",
      "8/8 [==============================] - 9s 1s/step - loss: 3.4521 - accuracy: 0.1728\n",
      "Epoch 22/30\n",
      "8/8 [==============================] - 9s 1s/step - loss: 3.4670 - accuracy: 0.1687\n",
      "Epoch 23/30\n",
      "8/8 [==============================] - 9s 1s/step - loss: 3.4674 - accuracy: 0.1749\n",
      "Epoch 24/30\n",
      "8/8 [==============================] - 10s 1s/step - loss: 3.5032 - accuracy: 0.1584\n",
      "Epoch 25/30\n",
      "8/8 [==============================] - 9s 1s/step - loss: 3.4765 - accuracy: 0.1687\n",
      "Epoch 26/30\n",
      "8/8 [==============================] - 9s 1s/step - loss: 3.4182 - accuracy: 0.1831\n",
      "Epoch 27/30\n",
      "8/8 [==============================] - 10s 1s/step - loss: 3.4574 - accuracy: 0.1770\n",
      "Epoch 28/30\n",
      "8/8 [==============================] - 10s 1s/step - loss: 3.4639 - accuracy: 0.1708\n",
      "Epoch 29/30\n",
      "8/8 [==============================] - 9s 1s/step - loss: 3.4650 - accuracy: 0.1749\n",
      "Epoch 30/30\n",
      "8/8 [==============================] - 9s 1s/step - loss: 3.4878 - accuracy: 0.1667\n"
     ]
    }
   ],
   "source": [
    "vggnet_history = train(vggnet_model, train_gen, val_gen)"
   ]
  },
  {
   "cell_type": "code",
   "execution_count": null,
   "id": "W95GOyaqJuVn",
   "metadata": {
    "id": "W95GOyaqJuVn"
   },
   "outputs": [],
   "source": [
    "resnet_model = build_resnet_model(NO_OF_CLASSES)"
   ]
  },
  {
   "cell_type": "code",
   "execution_count": null,
   "id": "jFbbgbVaJ1v3",
   "metadata": {
    "colab": {
     "base_uri": "https://localhost:8080/"
    },
    "id": "jFbbgbVaJ1v3",
    "outputId": "3bb0a0bc-0b44-4779-8e11-d0bf99c6cded"
   },
   "outputs": [
    {
     "name": "stdout",
     "output_type": "stream",
     "text": [
      "Epoch 1/30\n",
      "8/8 [==============================] - 110s 1s/step - loss: 1.1311 - accuracy: 0.6893\n",
      "Epoch 2/30\n",
      "8/8 [==============================] - 10s 1s/step - loss: 1.2807 - accuracy: 0.6481\n",
      "Epoch 3/30\n",
      "8/8 [==============================] - 9s 1s/step - loss: 1.0323 - accuracy: 0.7016\n",
      "Epoch 4/30\n",
      "8/8 [==============================] - 9s 1s/step - loss: 1.1536 - accuracy: 0.6646\n",
      "Epoch 5/30\n",
      "8/8 [==============================] - 10s 1s/step - loss: 0.9443 - accuracy: 0.7551\n",
      "Epoch 6/30\n",
      "8/8 [==============================] - 10s 1s/step - loss: 0.8403 - accuracy: 0.7942\n",
      "Epoch 7/30\n",
      "8/8 [==============================] - 10s 1s/step - loss: 0.6933 - accuracy: 0.8169\n",
      "Epoch 8/30\n",
      "8/8 [==============================] - 9s 1s/step - loss: 0.7115 - accuracy: 0.8251\n",
      "Epoch 9/30\n",
      "8/8 [==============================] - 10s 1s/step - loss: 0.5759 - accuracy: 0.8555\n",
      "Epoch 10/30\n",
      "8/8 [==============================] - 10s 1s/step - loss: 0.5098 - accuracy: 0.8704\n",
      "Epoch 11/30\n",
      "8/8 [==============================] - 10s 1s/step - loss: 0.4663 - accuracy: 0.9053\n",
      "Epoch 12/30\n",
      "8/8 [==============================] - 9s 1s/step - loss: 0.3951 - accuracy: 0.9074\n",
      "Epoch 13/30\n",
      "8/8 [==============================] - 9s 1s/step - loss: 0.3789 - accuracy: 0.9074\n",
      "Epoch 14/30\n",
      "8/8 [==============================] - 10s 1s/step - loss: 0.4253 - accuracy: 0.8951\n",
      "Epoch 15/30\n",
      "8/8 [==============================] - 10s 1s/step - loss: 0.3368 - accuracy: 0.9115\n",
      "Epoch 16/30\n",
      "8/8 [==============================] - 10s 1s/step - loss: 0.3319 - accuracy: 0.9074\n",
      "Epoch 17/30\n",
      "8/8 [==============================] - 9s 1s/step - loss: 0.3066 - accuracy: 0.9218\n",
      "Epoch 18/30\n",
      "8/8 [==============================] - 10s 1s/step - loss: 0.2545 - accuracy: 0.9506\n",
      "Epoch 19/30\n",
      "8/8 [==============================] - 10s 1s/step - loss: 0.2480 - accuracy: 0.9424\n",
      "Epoch 20/30\n",
      "8/8 [==============================] - 10s 1s/step - loss: 0.2161 - accuracy: 0.9512\n",
      "Epoch 21/30\n",
      "8/8 [==============================] - 9s 1s/step - loss: 0.1928 - accuracy: 0.9650\n",
      "Epoch 22/30\n",
      "8/8 [==============================] - 10s 1s/step - loss: 0.1721 - accuracy: 0.9570\n",
      "Epoch 23/30\n",
      "8/8 [==============================] - 10s 1s/step - loss: 0.1360 - accuracy: 0.9727\n",
      "Epoch 24/30\n",
      "8/8 [==============================] - 9s 1s/step - loss: 0.1382 - accuracy: 0.9733\n",
      "Epoch 25/30\n",
      "8/8 [==============================] - 10s 1s/step - loss: 0.1331 - accuracy: 0.9733\n",
      "Epoch 26/30\n",
      "8/8 [==============================] - 10s 1s/step - loss: 0.1502 - accuracy: 0.9609\n",
      "Epoch 27/30\n",
      "8/8 [==============================] - 10s 1s/step - loss: 0.1801 - accuracy: 0.9588\n",
      "Epoch 28/30\n",
      "8/8 [==============================] - 10s 1s/step - loss: 0.1440 - accuracy: 0.9733\n",
      "Epoch 29/30\n",
      "8/8 [==============================] - 9s 1s/step - loss: 0.1187 - accuracy: 0.9712\n",
      "Epoch 30/30\n",
      "8/8 [==============================] - 10s 1s/step - loss: 0.1590 - accuracy: 0.9588\n"
     ]
    }
   ],
   "source": [
    "resnet_history = train(resnet_model, train_gen, val_gen)"
   ]
  },
  {
   "cell_type": "code",
   "execution_count": null,
   "id": "AtHoYot-H5Fl",
   "metadata": {
    "colab": {
     "base_uri": "https://localhost:8080/"
    },
    "id": "AtHoYot-H5Fl",
    "outputId": "52155a3c-a533-4cec-a3dc-2588eaf79435"
   },
   "outputs": [
    {
     "name": "stderr",
     "output_type": "stream",
     "text": [
      "WARNING:tensorflow:Compiled the loaded model, but the compiled metrics have yet to be built. `model.compile_metrics` will be empty until you train or evaluate the model.\n"
     ]
    }
   ],
   "source": [
    "resnet_model.save('resnet_23042023_1700.h5')"
   ]
  },
  {
   "cell_type": "code",
   "execution_count": null,
   "id": "hFesc3dk1gZU",
   "metadata": {
    "colab": {
     "base_uri": "https://localhost:8080/",
     "height": 472
    },
    "id": "hFesc3dk1gZU",
    "outputId": "efccb0c7-27de-49fb-b275-f44edff7aa75"
   },
   "outputs": [
    {
     "data": {
      "image/png": "[encoded data removed]",
      "text/plain": [
       "<Figure size 640x480 with 1 Axes>"
      ]
     },
     "metadata": {},
     "output_type": "display_data"
    }
   ],
   "source": [
    "# Plotting the ResNet performance \n",
    "plt.figure()\n",
    "plt.plot(resnet_history.history['loss'], label=\"Loss\")\n",
    "plt.plot(resnet_history.history['accuracy'], label=\"accuracy\")\n",
    "plt.xlabel(\"Epochs\")\n",
    "plt.legend()\n",
    "plt.title(\"ResNet Performance\")\n",
    "plt.show()"
   ]
  },
  {
   "cell_type": "code",
   "execution_count": null,
   "id": "i9IGZG1_4I_i",
   "metadata": {
    "colab": {
     "base_uri": "https://localhost:8080/",
     "height": 472
    },
    "id": "i9IGZG1_4I_i",
    "outputId": "5bc0d67e-f2aa-4e98-e5fa-1f8f54098d27"
   },
   "outputs": [
    {
     "data": {
      "image/png": "[encoded data removed]",
      "text/plain": [
       "<Figure size 640x480 with 1 Axes>"
      ]
     },
     "metadata": {},
     "output_type": "display_data"
    }
   ],
   "source": [
    "#Plotting the VGGNet Performance\n",
    "plt.figure()\n",
    "plt.plot(vggnet_history.history['loss'], label=\"Loss\")\n",
    "plt.plot(vggnet_history.history['accuracy'], label=\"accuracy\")\n",
    "plt.xlabel(\"Epochs\")\n",
    "plt.legend()\n",
    "plt.title(\"VGGNet Performance\")\n",
    "plt.show()"
   ]
  },
  {
   "cell_type": "code",
   "execution_count": null,
   "id": "SFlcZB5K4ayt",
   "metadata": {
    "colab": {
     "base_uri": "https://localhost:8080/",
     "height": 472
    },
    "id": "SFlcZB5K4ayt",
    "outputId": "f1a60c81-3063-4c2f-e55b-b0a4144a2dea"
   },
   "outputs": [
    {
     "data": {
      "image/png": "[encoded data removed]",
      "text/plain": [
       "<Figure size 640x480 with 1 Axes>"
      ]
     },
     "metadata": {},
     "output_type": "display_data"
    }
   ],
   "source": [
    "# Plotting the EfficientNet Performance\n",
    "plt.figure()\n",
    "plt.plot(effnet_history.history['loss'], label=\"Loss\")\n",
    "plt.plot(effnet_history.history['accuracy'], label=\"accuracy\")\n",
    "plt.xlabel(\"Epochs\")\n",
    "plt.legend()\n",
    "plt.title(\"EfficientNet Performance\")\n",
    "plt.show()"
   ]
  }
 ],
 "metadata": {
  "accelerator": "GPU",
  "colab": {
   "provenance": []
  },
  "gpuClass": "standard",
  "kernelspec": {
   "display_name": "Python 3 (ipykernel)",
   "language": "python",
   "name": "python3"
  },
  "language_info": {
   "codemirror_mode": {
    "name": "ipython",
    "version": 3
   },
   "file_extension": ".py",
   "mimetype": "text/x-python",
   "name": "python",
   "nbconvert_exporter": "python",
   "pygments_lexer": "ipython3",
   "version": "3.8.10"
  },
  "varInspector": {
   "cols": {
    "lenName": 16,
    "lenType": 16,
    "lenVar": 40
   },
   "kernels_config": {
    "python": {
     "delete_cmd_postfix": "",
     "delete_cmd_prefix": "del ",
     "library": "var_list.py",
     "varRefreshCmd": "print(var_dic_list())"
    },
    "r": {
     "delete_cmd_postfix": ") ",
     "delete_cmd_prefix": "rm(",
     "library": "var_list.r",
     "varRefreshCmd": "cat(var_dic_list()) "
    }
   },
   "types_to_exclude": [
    "module",
    "function",
    "builtin_function_or_method",
    "instance",
    "_Feature"
   ],
   "window_display": false
  }
 },
 "nbformat": 4,
 "nbformat_minor": 5
}
