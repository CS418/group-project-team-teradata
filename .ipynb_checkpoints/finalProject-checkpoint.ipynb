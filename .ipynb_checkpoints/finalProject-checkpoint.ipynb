{
 "cells": [
  {
   "cell_type": "code",
   "execution_count": 1,
   "id": "eb2efeea",
   "metadata": {},
   "outputs": [],
   "source": [
    "# importing all the necessary libraries\n",
    "\n",
    "import numpy as np\n",
    "import pandas as pd"
   ]
  },
  {
   "cell_type": "code",
   "execution_count": 2,
   "id": "968f562a",
   "metadata": {},
   "outputs": [],
   "source": [
    "# reading the csv file\n",
    "\n",
    "df = pd.read_csv(\"data/dermatology.csv\")"
   ]
  },
  {
   "cell_type": "code",
   "execution_count": 4,
   "id": "98f376d4",
   "metadata": {},
   "outputs": [
    {
     "data": {
      "text/plain": [
       "Index(['erythema', 'scaling', 'definite borders', 'itching',\n",
       "       'koebner phenomenon', 'polygonal papules', 'follicular papules',\n",
       "       'oral mucosal involvement', 'knee and elbow involvement',\n",
       "       'scalp involvement', 'family history', 'melanin incontinence',\n",
       "       'eosinophils in the infiltrate', 'PNL infiltrate',\n",
       "       'fibrosis of the papillary dermis', 'exocytosis', 'acanthosis',\n",
       "       'hyperkeratosis', 'parakeratosis', 'clubbing of the rete ridges',\n",
       "       'elongation of the rete ridges',\n",
       "       'thinning of the suprapapillary epidermis', 'spongiform pustule',\n",
       "       'munro microabcess', 'focal hypergranulosis',\n",
       "       'disappearance of the granular layer',\n",
       "       'vacuolisation and damage of basal layer', 'spongiosis',\n",
       "       'saw-tooth appearance of retes', 'follicular horn plug',\n",
       "       'perifollicular parakeratosis', 'inflammatory monoluclear inflitrate',\n",
       "       'band-like infiltrate', 'Age', 'Class Code'],\n",
       "      dtype='object')"
      ]
     },
     "execution_count": 4,
     "metadata": {},
     "output_type": "execute_result"
    }
   ],
   "source": [
    "#columns\n",
    "\n",
    "df.columns"
   ]
  },
  {
   "cell_type": "code",
   "execution_count": null,
   "id": "e697f609",
   "metadata": {},
   "outputs": [],
   "source": []
  }
 ],
 "metadata": {
  "kernelspec": {
   "display_name": "Python 3 (ipykernel)",
   "language": "python",
   "name": "python3"
  },
  "language_info": {
   "codemirror_mode": {
    "name": "ipython",
    "version": 3
   },
   "file_extension": ".py",
   "mimetype": "text/x-python",
   "name": "python",
   "nbconvert_exporter": "python",
   "pygments_lexer": "ipython3",
   "version": "3.8.10"
  }
 },
 "nbformat": 4,
 "nbformat_minor": 5
}
