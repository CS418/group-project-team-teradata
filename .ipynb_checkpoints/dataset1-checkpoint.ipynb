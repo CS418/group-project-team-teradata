{
 "cells": [
  {
   "cell_type": "code",
   "execution_count": 1,
   "id": "eb2efeea",
   "metadata": {},
   "outputs": [],
   "source": [
    "# Importing the necessary libraries\n",
    "\n",
    "import numpy as np\n",
    "import pandas as pd\n",
    "from sklearn.linear_model import LinearRegression\n",
    "from sklearn.model_selection import train_test_split\n",
    "import matplotlib.pyplot as plt\n",
    "import seaborn\n",
    "from sklearn.metrics import accuracy_score\n",
    "from sklearn.ensemble import RandomForestClassifier\n",
    "from sklearn.model_selection import train_test_split\n",
    "from sklearn.linear_model import LogisticRegression\n",
    "from sklearn import preprocessing\n",
    "from sklearn.pipeline import make_pipeline\n",
    "from sklearn.preprocessing import StandardScaler\n",
    "from sklearn import svm\n",
    "from sklearn.svm import SVC\n",
    "from matplotlib import pyplot"
   ]
  },
  {
   "cell_type": "code",
   "execution_count": 2,
   "id": "968f562a",
   "metadata": {},
   "outputs": [],
   "source": [
    "# reading the csv file\n",
    "\n",
    "df = pd.read_csv(\"data/dermatology_data.data\")"
   ]
  },
  {
   "cell_type": "code",
   "execution_count": 3,
   "id": "98f376d4",
   "metadata": {},
   "outputs": [],
   "source": [
    "#columns\n",
    "\n",
    "\"\"\"We tried to insert the columns directly into the csv file in our local host,\n",
    "   but when opened the file in excel, the excel is filling the unknown or empty cells\n",
    "   with zeros(0).\n",
    "   So we are expilcitly coding the columns in the code.\n",
    "\"\"\"\n",
    "\n",
    "df.columns = ['erythema', 'scaling', 'definite borders', 'itching',\n",
    "       'koebner phenomenon', 'polygonal papules', 'follicular papules',\n",
    "       'oral mucosal involvement', 'knee and elbow involvement',\n",
    "       'scalp involvement', 'family history', 'melanin incontinence',\n",
    "       'eosinophils in the infiltrate', 'PNL infiltrate',\n",
    "       'fibrosis of the papillary dermis', 'exocytosis', 'acanthosis',\n",
    "       'hyperkeratosis', 'parakeratosis', 'clubbing of the rete ridges',\n",
    "       'elongation of the rete ridges',\n",
    "       'thinning of the suprapapillary epidermis', 'spongiform pustule',\n",
    "       'munro microabcess', 'focal hypergranulosis',\n",
    "       'disappearance of the granular layer',\n",
    "       'vacuolisation and damage of basal layer', 'spongiosis',\n",
    "       'saw-tooth appearance of retes', 'follicular horn plug',\n",
    "       'perifollicular parakeratosis', 'inflammatory monoluclear inflitrate',\n",
    "       'band-like infiltrate', 'Age', 'Class Code']"
   ]
  },
  {
   "cell_type": "code",
   "execution_count": 4,
   "id": "e697f609",
   "metadata": {},
   "outputs": [
    {
     "data": {
      "text/plain": [
       "<bound method NDFrame.describe of      erythema  scaling  definite borders  itching  koebner phenomenon  \\\n",
       "0           3        3                 3        2                   1   \n",
       "1           2        1                 2        3                   1   \n",
       "2           2        2                 2        0                   0   \n",
       "3           2        3                 2        2                   2   \n",
       "4           2        3                 2        0                   0   \n",
       "..        ...      ...               ...      ...                 ...   \n",
       "360         2        1                 1        0                   1   \n",
       "361         3        2                 1        0                   1   \n",
       "362         3        2                 2        2                   3   \n",
       "363         2        1                 3        1                   2   \n",
       "364         3        2                 2        0                   0   \n",
       "\n",
       "     polygonal papules  follicular papules  oral mucosal involvement  \\\n",
       "0                    0                   0                         0   \n",
       "1                    3                   0                         3   \n",
       "2                    0                   0                         0   \n",
       "3                    2                   0                         2   \n",
       "4                    0                   0                         0   \n",
       "..                 ...                 ...                       ...   \n",
       "360                  0                   0                         0   \n",
       "361                  0                   0                         0   \n",
       "362                  2                   0                         2   \n",
       "363                  3                   0                         2   \n",
       "364                  0                   0                         0   \n",
       "\n",
       "     knee and elbow involvement  scalp involvement  ...  \\\n",
       "0                             1                  1  ...   \n",
       "1                             0                  0  ...   \n",
       "2                             3                  2  ...   \n",
       "3                             0                  0  ...   \n",
       "4                             0                  0  ...   \n",
       "..                          ...                ...  ...   \n",
       "360                           0                  0  ...   \n",
       "361                           0                  0  ...   \n",
       "362                           0                  0  ...   \n",
       "363                           0                  0  ...   \n",
       "364                           3                  3  ...   \n",
       "\n",
       "     disappearance of the granular layer  \\\n",
       "0                                      0   \n",
       "1                                      0   \n",
       "2                                      3   \n",
       "3                                      2   \n",
       "4                                      0   \n",
       "..                                   ...   \n",
       "360                                    0   \n",
       "361                                    1   \n",
       "362                                    0   \n",
       "363                                    0   \n",
       "364                                    2   \n",
       "\n",
       "     vacuolisation and damage of basal layer  spongiosis  \\\n",
       "0                                          0           0   \n",
       "1                                          2           3   \n",
       "2                                          0           0   \n",
       "3                                          3           2   \n",
       "4                                          0           2   \n",
       "..                                       ...         ...   \n",
       "360                                        0           1   \n",
       "361                                        0           1   \n",
       "362                                        3           0   \n",
       "363                                        2           0   \n",
       "364                                        0           0   \n",
       "\n",
       "     saw-tooth appearance of retes  follicular horn plug  \\\n",
       "0                                0                     0   \n",
       "1                                2                     0   \n",
       "2                                0                     0   \n",
       "3                                3                     0   \n",
       "4                                0                     0   \n",
       "..                             ...                   ...   \n",
       "360                              0                     0   \n",
       "361                              0                     0   \n",
       "362                              3                     0   \n",
       "363                              1                     0   \n",
       "364                              0                     0   \n",
       "\n",
       "     perifollicular parakeratosis  inflammatory monoluclear inflitrate  \\\n",
       "0                               0                                    1   \n",
       "1                               0                                    2   \n",
       "2                               0                                    3   \n",
       "3                               0                                    2   \n",
       "4                               0                                    1   \n",
       "..                            ...                                  ...   \n",
       "360                             0                                    2   \n",
       "361                             0                                    2   \n",
       "362                             0                                    2   \n",
       "363                             0                                    2   \n",
       "364                             0                                    3   \n",
       "\n",
       "     band-like infiltrate  Age  Class Code  \n",
       "0                       0    8           1  \n",
       "1                       3   26           3  \n",
       "2                       0   40           1  \n",
       "3                       3   45           3  \n",
       "4                       0   41           2  \n",
       "..                    ...  ...         ...  \n",
       "360                     0   25           4  \n",
       "361                     0   36           4  \n",
       "362                     3   28           3  \n",
       "363                     3   50           3  \n",
       "364                     0   35           1  \n",
       "\n",
       "[365 rows x 35 columns]>"
      ]
     },
     "execution_count": 4,
     "metadata": {},
     "output_type": "execute_result"
    }
   ],
   "source": [
    "df.describe"
   ]
  },
  {
   "cell_type": "code",
   "execution_count": 5,
   "id": "5fc07a83",
   "metadata": {},
   "outputs": [
    {
     "data": {
      "text/plain": [
       "erythema                                     int64\n",
       "scaling                                      int64\n",
       "definite borders                             int64\n",
       "itching                                      int64\n",
       "koebner phenomenon                           int64\n",
       "polygonal papules                            int64\n",
       "follicular papules                           int64\n",
       "oral mucosal involvement                     int64\n",
       "knee and elbow involvement                   int64\n",
       "scalp involvement                            int64\n",
       "family history                               int64\n",
       "melanin incontinence                         int64\n",
       "eosinophils in the infiltrate                int64\n",
       "PNL infiltrate                               int64\n",
       "fibrosis of the papillary dermis             int64\n",
       "exocytosis                                   int64\n",
       "acanthosis                                   int64\n",
       "hyperkeratosis                               int64\n",
       "parakeratosis                                int64\n",
       "clubbing of the rete ridges                  int64\n",
       "elongation of the rete ridges                int64\n",
       "thinning of the suprapapillary epidermis     int64\n",
       "spongiform pustule                           int64\n",
       "munro microabcess                            int64\n",
       "focal hypergranulosis                        int64\n",
       "disappearance of the granular layer          int64\n",
       "vacuolisation and damage of basal layer      int64\n",
       "spongiosis                                   int64\n",
       "saw-tooth appearance of retes                int64\n",
       "follicular horn plug                         int64\n",
       "perifollicular parakeratosis                 int64\n",
       "inflammatory monoluclear inflitrate          int64\n",
       "band-like infiltrate                         int64\n",
       "Age                                         object\n",
       "Class Code                                   int64\n",
       "dtype: object"
      ]
     },
     "execution_count": 5,
     "metadata": {},
     "output_type": "execute_result"
    }
   ],
   "source": [
    "df.dtypes"
   ]
  },
  {
   "cell_type": "code",
   "execution_count": 6,
   "id": "9ce3566b",
   "metadata": {},
   "outputs": [
    {
     "name": "stdout",
     "output_type": "stream",
     "text": [
      "                                          erythema   scaling  \\\n",
      "erythema                                  1.000000  0.435607   \n",
      "scaling                                   0.435607  1.000000   \n",
      "definite borders                          0.260654  0.360846   \n",
      "itching                                  -0.047353 -0.085602   \n",
      "koebner phenomenon                        0.000498 -0.010024   \n",
      "polygonal papules                         0.033449 -0.074691   \n",
      "follicular papules                       -0.109647 -0.092188   \n",
      "oral mucosal involvement                 -0.026946 -0.082639   \n",
      "knee and elbow involvement                0.141151  0.298182   \n",
      "scalp involvement                         0.186609  0.302209   \n",
      "family history                            0.171989  0.181852   \n",
      "melanin incontinence                      0.042008 -0.074514   \n",
      "eosinophils in the infiltrate             0.075146  0.042494   \n",
      "PNL infiltrate                            0.224048  0.283231   \n",
      "fibrosis of the papillary dermis         -0.354787 -0.383395   \n",
      "exocytosis                                0.022048 -0.112344   \n",
      "acanthosis                                0.064184  0.108059   \n",
      "hyperkeratosis                           -0.055667  0.013719   \n",
      "parakeratosis                             0.210208  0.298726   \n",
      "clubbing of the rete ridges               0.157469  0.321456   \n",
      "elongation of the rete ridges             0.007586  0.139914   \n",
      "thinning of the suprapapillary epidermis  0.167784  0.331044   \n",
      "spongiform pustule                        0.169696  0.298250   \n",
      "munro microabcess                         0.113366  0.186830   \n",
      "focal hypergranulosis                    -0.013896 -0.084684   \n",
      "disappearance of the granular layer       0.159014  0.212024   \n",
      "vacuolisation and damage of basal layer   0.002425 -0.109187   \n",
      "spongiosis                                0.023084  0.010748   \n",
      "saw-tooth appearance of retes            -0.005915 -0.114134   \n",
      "follicular horn plug                     -0.005515 -0.010335   \n",
      "perifollicular parakeratosis              0.009474 -0.010949   \n",
      "inflammatory monoluclear inflitrate       0.075570 -0.010041   \n",
      "band-like infiltrate                     -0.007099 -0.131738   \n",
      "Class Code                               -0.335800 -0.468502   \n",
      "\n",
      "                                          definite borders   itching  \\\n",
      "erythema                                          0.260654 -0.047353   \n",
      "scaling                                           0.360846 -0.085602   \n",
      "definite borders                                  1.000000 -0.056217   \n",
      "itching                                          -0.056217  1.000000   \n",
      "koebner phenomenon                                0.239187  0.271582   \n",
      "polygonal papules                                 0.326968  0.412835   \n",
      "follicular papules                               -0.168728 -0.144099   \n",
      "oral mucosal involvement                          0.285790  0.362073   \n",
      "knee and elbow involvement                        0.305436 -0.302110   \n",
      "scalp involvement                                 0.267366 -0.153884   \n",
      "family history                                    0.114550 -0.135533   \n",
      "melanin incontinence                              0.310555  0.362174   \n",
      "eosinophils in the infiltrate                    -0.134167  0.097059   \n",
      "PNL infiltrate                                    0.038365 -0.143139   \n",
      "fibrosis of the papillary dermis                 -0.277433  0.205211   \n",
      "exocytosis                                       -0.199864  0.210223   \n",
      "acanthosis                                        0.190815  0.067028   \n",
      "hyperkeratosis                                    0.040818 -0.005734   \n",
      "parakeratosis                                     0.357020 -0.070416   \n",
      "clubbing of the rete ridges                       0.386015 -0.230524   \n",
      "elongation of the rete ridges                     0.198695 -0.121157   \n",
      "thinning of the suprapapillary epidermis          0.368059 -0.242449   \n",
      "spongiform pustule                                0.245189 -0.151424   \n",
      "munro microabcess                                 0.241031 -0.054341   \n",
      "focal hypergranulosis                             0.290224  0.366460   \n",
      "disappearance of the granular layer               0.353809 -0.191183   \n",
      "vacuolisation and damage of basal layer           0.297138  0.370701   \n",
      "spongiosis                                       -0.249164  0.010451   \n",
      "saw-tooth appearance of retes                     0.273529  0.379251   \n",
      "follicular horn plug                             -0.087689 -0.175467   \n",
      "perifollicular parakeratosis                     -0.125562 -0.183683   \n",
      "inflammatory monoluclear inflitrate               0.106925  0.067809   \n",
      "band-like infiltrate                              0.281452  0.389908   \n",
      "Class Code                                       -0.396057  0.056936   \n",
      "\n",
      "                                          koebner phenomenon  \\\n",
      "erythema                                            0.000498   \n",
      "scaling                                            -0.010024   \n",
      "definite borders                                    0.239187   \n",
      "itching                                             0.271582   \n",
      "koebner phenomenon                                  1.000000   \n",
      "polygonal papules                                   0.393592   \n",
      "follicular papules                                 -0.173438   \n",
      "oral mucosal involvement                            0.392060   \n",
      "knee and elbow involvement                         -0.065678   \n",
      "scalp involvement                                   0.014118   \n",
      "family history                                     -0.084046   \n",
      "melanin incontinence                                0.385167   \n",
      "eosinophils in the infiltrate                      -0.047053   \n",
      "PNL infiltrate                                     -0.170882   \n",
      "fibrosis of the papillary dermis                   -0.248425   \n",
      "exocytosis                                          0.149341   \n",
      "acanthosis                                         -0.054368   \n",
      "hyperkeratosis                                      0.001301   \n",
      "parakeratosis                                      -0.039630   \n",
      "clubbing of the rete ridges                         0.007275   \n",
      "elongation of the rete ridges                      -0.165733   \n",
      "thinning of the suprapapillary epidermis            0.024919   \n",
      "spongiform pustule                                 -0.002912   \n",
      "munro microabcess                                   0.156883   \n",
      "focal hypergranulosis                               0.399907   \n",
      "disappearance of the granular layer                 0.003301   \n",
      "vacuolisation and damage of basal layer             0.375926   \n",
      "spongiosis                                         -0.002478   \n",
      "saw-tooth appearance of retes                       0.381149   \n",
      "follicular horn plug                               -0.148507   \n",
      "perifollicular parakeratosis                       -0.164937   \n",
      "inflammatory monoluclear inflitrate                 0.081283   \n",
      "band-like infiltrate                                0.382270   \n",
      "Class Code                                         -0.092382   \n",
      "\n",
      "                                          polygonal papules  \\\n",
      "erythema                                           0.033449   \n",
      "scaling                                           -0.074691   \n",
      "definite borders                                   0.326968   \n",
      "itching                                            0.412835   \n",
      "koebner phenomenon                                 0.393592   \n",
      "polygonal papules                                  1.000000   \n",
      "follicular papules                                -0.137526   \n",
      "oral mucosal involvement                           0.865064   \n",
      "knee and elbow involvement                        -0.275696   \n",
      "scalp involvement                                 -0.254163   \n",
      "family history                                    -0.152404   \n",
      "melanin incontinence                               0.906988   \n",
      "eosinophils in the infiltrate                      0.028402   \n",
      "PNL infiltrate                                    -0.315667   \n",
      "fibrosis of the papillary dermis                  -0.158634   \n",
      "exocytosis                                         0.382805   \n",
      "acanthosis                                         0.129329   \n",
      "hyperkeratosis                                    -0.165411   \n",
      "parakeratosis                                     -0.044038   \n",
      "clubbing of the rete ridges                       -0.295914   \n",
      "elongation of the rete ridges                     -0.402164   \n",
      "thinning of the suprapapillary epidermis          -0.288491   \n",
      "spongiform pustule                                -0.207214   \n",
      "munro microabcess                                 -0.202633   \n",
      "focal hypergranulosis                              0.880901   \n",
      "disappearance of the granular layer               -0.120473   \n",
      "vacuolisation and damage of basal layer            0.911572   \n",
      "spongiosis                                         0.082789   \n",
      "saw-tooth appearance of retes                      0.895043   \n",
      "follicular horn plug                              -0.095809   \n",
      "perifollicular parakeratosis                      -0.110547   \n",
      "inflammatory monoluclear inflitrate                0.227406   \n",
      "band-like infiltrate                               0.905763   \n",
      "Class Code                                         0.057176   \n",
      "\n",
      "                                          follicular papules  \\\n",
      "erythema                                           -0.109647   \n",
      "scaling                                            -0.092188   \n",
      "definite borders                                   -0.168728   \n",
      "itching                                            -0.144099   \n",
      "koebner phenomenon                                 -0.173438   \n",
      "polygonal papules                                  -0.137526   \n",
      "follicular papules                                  1.000000   \n",
      "oral mucosal involvement                           -0.132810   \n",
      "knee and elbow involvement                          0.222643   \n",
      "scalp involvement                                  -0.003997   \n",
      "family history                                      0.192623   \n",
      "melanin incontinence                               -0.136595   \n",
      "eosinophils in the infiltrate                      -0.087748   \n",
      "PNL infiltrate                                     -0.120354   \n",
      "fibrosis of the papillary dermis                    0.019389   \n",
      "exocytosis                                         -0.009714   \n",
      "acanthosis                                         -0.096554   \n",
      "hyperkeratosis                                      0.188790   \n",
      "parakeratosis                                      -0.030869   \n",
      "clubbing of the rete ridges                        -0.116437   \n",
      "elongation of the rete ridges                      -0.106159   \n",
      "thinning of the suprapapillary epidermis           -0.128934   \n",
      "spongiform pustule                                 -0.057658   \n",
      "munro microabcess                                  -0.096282   \n",
      "focal hypergranulosis                              -0.119131   \n",
      "disappearance of the granular layer                -0.157808   \n",
      "vacuolisation and damage of basal layer            -0.140404   \n",
      "spongiosis                                         -0.012057   \n",
      "saw-tooth appearance of retes                      -0.139582   \n",
      "follicular horn plug                                0.785247   \n",
      "perifollicular parakeratosis                        0.844903   \n",
      "inflammatory monoluclear inflitrate                -0.085999   \n",
      "band-like infiltrate                               -0.134335   \n",
      "Class Code                                          0.477632   \n",
      "\n",
      "                                          oral mucosal involvement  \\\n",
      "erythema                                                 -0.026946   \n",
      "scaling                                                  -0.082639   \n",
      "definite borders                                          0.285790   \n",
      "itching                                                   0.362073   \n",
      "koebner phenomenon                                        0.392060   \n",
      "polygonal papules                                         0.865064   \n",
      "follicular papules                                       -0.132810   \n",
      "oral mucosal involvement                                  1.000000   \n",
      "knee and elbow involvement                               -0.283119   \n",
      "scalp involvement                                        -0.260716   \n",
      "family history                                           -0.152368   \n",
      "melanin incontinence                                      0.869156   \n",
      "eosinophils in the infiltrate                             0.013707   \n",
      "PNL infiltrate                                           -0.304841   \n",
      "fibrosis of the papillary dermis                         -0.140605   \n",
      "exocytosis                                                0.363164   \n",
      "acanthosis                                                0.101670   \n",
      "hyperkeratosis                                           -0.156190   \n",
      "parakeratosis                                            -0.041126   \n",
      "clubbing of the rete ridges                              -0.285766   \n",
      "elongation of the rete ridges                            -0.388372   \n",
      "thinning of the suprapapillary epidermis                 -0.278597   \n",
      "spongiform pustule                                       -0.200107   \n",
      "munro microabcess                                        -0.191569   \n",
      "focal hypergranulosis                                     0.884285   \n",
      "disappearance of the granular layer                      -0.107444   \n",
      "vacuolisation and damage of basal layer                   0.887487   \n",
      "spongiosis                                                0.123183   \n",
      "saw-tooth appearance of retes                             0.875136   \n",
      "follicular horn plug                                     -0.082916   \n",
      "perifollicular parakeratosis                             -0.106756   \n",
      "inflammatory monoluclear inflitrate                       0.250015   \n",
      "band-like infiltrate                                      0.892277   \n",
      "Class Code                                                0.055215   \n",
      "\n",
      "                                          knee and elbow involvement  \\\n",
      "erythema                                                    0.141151   \n",
      "scaling                                                     0.298182   \n",
      "definite borders                                            0.305436   \n",
      "itching                                                    -0.302110   \n",
      "koebner phenomenon                                         -0.065678   \n",
      "polygonal papules                                          -0.275696   \n",
      "follicular papules                                          0.222643   \n",
      "oral mucosal involvement                                   -0.283119   \n",
      "knee and elbow involvement                                  1.000000   \n",
      "scalp involvement                                           0.660260   \n",
      "family history                                              0.342462   \n",
      "melanin incontinence                                       -0.271951   \n",
      "eosinophils in the infiltrate                              -0.198378   \n",
      "PNL infiltrate                                              0.332706   \n",
      "fibrosis of the papillary dermis                           -0.227100   \n",
      "exocytosis                                                 -0.533249   \n",
      "acanthosis                                                  0.116670   \n",
      "hyperkeratosis                                              0.230490   \n",
      "parakeratosis                                               0.442761   \n",
      "clubbing of the rete ridges                                 0.722823   \n",
      "elongation of the rete ridges                               0.497589   \n",
      "thinning of the suprapapillary epidermis                    0.645798   \n",
      "spongiform pustule                                          0.447940   \n",
      "munro microabcess                                           0.518942   \n",
      "focal hypergranulosis                                      -0.267144   \n",
      "disappearance of the granular layer                         0.482614   \n",
      "vacuolisation and damage of basal layer                    -0.281784   \n",
      "spongiosis                                                 -0.417120   \n",
      "saw-tooth appearance of retes                              -0.280029   \n",
      "follicular horn plug                                        0.233218   \n",
      "perifollicular parakeratosis                                0.257988   \n",
      "inflammatory monoluclear inflitrate                        -0.067483   \n",
      "band-like infiltrate                                       -0.276325   \n",
      "Class Code                                                 -0.382977   \n",
      "\n",
      "                                          scalp involvement  ...  \\\n",
      "erythema                                           0.186609  ...   \n",
      "scaling                                            0.302209  ...   \n",
      "definite borders                                   0.267366  ...   \n",
      "itching                                           -0.153884  ...   \n",
      "koebner phenomenon                                 0.014118  ...   \n",
      "polygonal papules                                 -0.254163  ...   \n",
      "follicular papules                                -0.003997  ...   \n",
      "oral mucosal involvement                          -0.260716  ...   \n",
      "knee and elbow involvement                         0.660260  ...   \n",
      "scalp involvement                                  1.000000  ...   \n",
      "family history                                     0.292321  ...   \n",
      "melanin incontinence                              -0.257704  ...   \n",
      "eosinophils in the infiltrate                     -0.077537  ...   \n",
      "PNL infiltrate                                     0.352404  ...   \n",
      "fibrosis of the papillary dermis                  -0.227189  ...   \n",
      "exocytosis                                        -0.531130  ...   \n",
      "acanthosis                                         0.158563  ...   \n",
      "hyperkeratosis                                     0.186144  ...   \n",
      "parakeratosis                                      0.480579  ...   \n",
      "clubbing of the rete ridges                        0.769369  ...   \n",
      "elongation of the rete ridges                      0.555367  ...   \n",
      "thinning of the suprapapillary epidermis           0.746793  ...   \n",
      "spongiform pustule                                 0.464010  ...   \n",
      "munro microabcess                                  0.632690  ...   \n",
      "focal hypergranulosis                             -0.256475  ...   \n",
      "disappearance of the granular layer                0.488372  ...   \n",
      "vacuolisation and damage of basal layer           -0.253429  ...   \n",
      "spongiosis                                        -0.419951  ...   \n",
      "saw-tooth appearance of retes                     -0.258154  ...   \n",
      "follicular horn plug                              -0.052285  ...   \n",
      "perifollicular parakeratosis                      -0.017731  ...   \n",
      "inflammatory monoluclear inflitrate                0.033354  ...   \n",
      "band-like infiltrate                              -0.250965  ...   \n",
      "Class Code                                        -0.534427  ...   \n",
      "\n",
      "                                          focal hypergranulosis  \\\n",
      "erythema                                              -0.013896   \n",
      "scaling                                               -0.084684   \n",
      "definite borders                                       0.290224   \n",
      "itching                                                0.366460   \n",
      "koebner phenomenon                                     0.399907   \n",
      "polygonal papules                                      0.880901   \n",
      "follicular papules                                    -0.119131   \n",
      "oral mucosal involvement                               0.884285   \n",
      "knee and elbow involvement                            -0.267144   \n",
      "scalp involvement                                     -0.256475   \n",
      "family history                                        -0.166706   \n",
      "melanin incontinence                                   0.896472   \n",
      "eosinophils in the infiltrate                          0.061746   \n",
      "PNL infiltrate                                        -0.308426   \n",
      "fibrosis of the papillary dermis                      -0.168425   \n",
      "exocytosis                                             0.388330   \n",
      "acanthosis                                             0.119149   \n",
      "hyperkeratosis                                        -0.166915   \n",
      "parakeratosis                                         -0.032486   \n",
      "clubbing of the rete ridges                           -0.292837   \n",
      "elongation of the rete ridges                         -0.397983   \n",
      "thinning of the suprapapillary epidermis              -0.285491   \n",
      "spongiform pustule                                    -0.205059   \n",
      "munro microabcess                                     -0.222907   \n",
      "focal hypergranulosis                                  1.000000   \n",
      "disappearance of the granular layer                   -0.138335   \n",
      "vacuolisation and damage of basal layer                0.909596   \n",
      "spongiosis                                             0.050174   \n",
      "saw-tooth appearance of retes                          0.884006   \n",
      "follicular horn plug                                  -0.071576   \n",
      "perifollicular parakeratosis                          -0.096193   \n",
      "inflammatory monoluclear inflitrate                    0.231231   \n",
      "band-like infiltrate                                   0.904460   \n",
      "Class Code                                             0.062642   \n",
      "\n",
      "                                          disappearance of the granular layer  \\\n",
      "erythema                                                             0.159014   \n",
      "scaling                                                              0.212024   \n",
      "definite borders                                                     0.353809   \n",
      "itching                                                             -0.191183   \n",
      "koebner phenomenon                                                   0.003301   \n",
      "polygonal papules                                                   -0.120473   \n",
      "follicular papules                                                  -0.157808   \n",
      "oral mucosal involvement                                            -0.107444   \n",
      "knee and elbow involvement                                           0.482614   \n",
      "scalp involvement                                                    0.488372   \n",
      "family history                                                       0.196462   \n",
      "melanin incontinence                                                -0.138234   \n",
      "eosinophils in the infiltrate                                       -0.167430   \n",
      "PNL infiltrate                                                       0.166620   \n",
      "fibrosis of the papillary dermis                                    -0.197976   \n",
      "exocytosis                                                          -0.373978   \n",
      "acanthosis                                                           0.090962   \n",
      "hyperkeratosis                                                       0.008836   \n",
      "parakeratosis                                                        0.288003   \n",
      "clubbing of the rete ridges                                          0.590498   \n",
      "elongation of the rete ridges                                        0.395590   \n",
      "thinning of the suprapapillary epidermis                             0.548213   \n",
      "spongiform pustule                                                   0.272738   \n",
      "munro microabcess                                                    0.434168   \n",
      "focal hypergranulosis                                               -0.138335   \n",
      "disappearance of the granular layer                                  1.000000   \n",
      "vacuolisation and damage of basal layer                             -0.145341   \n",
      "spongiosis                                                          -0.253924   \n",
      "saw-tooth appearance of retes                                       -0.133853   \n",
      "follicular horn plug                                                -0.124525   \n",
      "perifollicular parakeratosis                                        -0.126850   \n",
      "inflammatory monoluclear inflitrate                                  0.080269   \n",
      "band-like infiltrate                                                -0.142027   \n",
      "Class Code                                                          -0.428408   \n",
      "\n",
      "                                          vacuolisation and damage of basal layer  \\\n",
      "erythema                                                                 0.002425   \n",
      "scaling                                                                 -0.109187   \n",
      "definite borders                                                         0.297138   \n",
      "itching                                                                  0.370701   \n",
      "koebner phenomenon                                                       0.375926   \n",
      "polygonal papules                                                        0.911572   \n",
      "follicular papules                                                      -0.140404   \n",
      "oral mucosal involvement                                                 0.887487   \n",
      "knee and elbow involvement                                              -0.281784   \n",
      "scalp involvement                                                       -0.253429   \n",
      "family history                                                          -0.156067   \n",
      "melanin incontinence                                                     0.941623   \n",
      "eosinophils in the infiltrate                                            0.039496   \n",
      "PNL infiltrate                                                          -0.318750   \n",
      "fibrosis of the papillary dermis                                        -0.169175   \n",
      "exocytosis                                                               0.383551   \n",
      "acanthosis                                                               0.130193   \n",
      "hyperkeratosis                                                          -0.164269   \n",
      "parakeratosis                                                           -0.034364   \n",
      "clubbing of the rete ridges                                             -0.296671   \n",
      "elongation of the rete ridges                                           -0.405635   \n",
      "thinning of the suprapapillary epidermis                                -0.291752   \n",
      "spongiform pustule                                                      -0.211549   \n",
      "munro microabcess                                                       -0.222404   \n",
      "focal hypergranulosis                                                    0.909596   \n",
      "disappearance of the granular layer                                     -0.145341   \n",
      "vacuolisation and damage of basal layer                                  1.000000   \n",
      "spongiosis                                                               0.055340   \n",
      "saw-tooth appearance of retes                                            0.938359   \n",
      "follicular horn plug                                                    -0.091675   \n",
      "perifollicular parakeratosis                                            -0.112860   \n",
      "inflammatory monoluclear inflitrate                                      0.253318   \n",
      "band-like infiltrate                                                     0.937521   \n",
      "Class Code                                                               0.054779   \n",
      "\n",
      "                                          spongiosis  \\\n",
      "erythema                                    0.023084   \n",
      "scaling                                     0.010748   \n",
      "definite borders                           -0.249164   \n",
      "itching                                     0.010451   \n",
      "koebner phenomenon                         -0.002478   \n",
      "polygonal papules                           0.082789   \n",
      "follicular papules                         -0.012057   \n",
      "oral mucosal involvement                    0.123183   \n",
      "knee and elbow involvement                 -0.417120   \n",
      "scalp involvement                          -0.419951   \n",
      "family history                             -0.151192   \n",
      "melanin incontinence                        0.060781   \n",
      "eosinophils in the infiltrate               0.157650   \n",
      "PNL infiltrate                             -0.124273   \n",
      "fibrosis of the papillary dermis           -0.181568   \n",
      "exocytosis                                  0.568202   \n",
      "acanthosis                                 -0.071201   \n",
      "hyperkeratosis                             -0.250894   \n",
      "parakeratosis                              -0.224684   \n",
      "clubbing of the rete ridges                -0.505705   \n",
      "elongation of the rete ridges              -0.583316   \n",
      "thinning of the suprapapillary epidermis   -0.508326   \n",
      "spongiform pustule                         -0.284701   \n",
      "munro microabcess                          -0.385007   \n",
      "focal hypergranulosis                       0.050174   \n",
      "disappearance of the granular layer        -0.253924   \n",
      "vacuolisation and damage of basal layer     0.055340   \n",
      "spongiosis                                  1.000000   \n",
      "saw-tooth appearance of retes               0.067972   \n",
      "follicular horn plug                        0.059355   \n",
      "perifollicular parakeratosis                0.070691   \n",
      "inflammatory monoluclear inflitrate         0.062170   \n",
      "band-like infiltrate                        0.038695   \n",
      "Class Code                                  0.216956   \n",
      "\n",
      "                                          saw-tooth appearance of retes  \\\n",
      "erythema                                                      -0.005915   \n",
      "scaling                                                       -0.114134   \n",
      "definite borders                                               0.273529   \n",
      "itching                                                        0.379251   \n",
      "koebner phenomenon                                             0.381149   \n",
      "polygonal papules                                              0.895043   \n",
      "follicular papules                                            -0.139582   \n",
      "oral mucosal involvement                                       0.875136   \n",
      "knee and elbow involvement                                    -0.280029   \n",
      "scalp involvement                                             -0.258154   \n",
      "family history                                                -0.163647   \n",
      "melanin incontinence                                           0.900172   \n",
      "eosinophils in the infiltrate                                  0.040475   \n",
      "PNL infiltrate                                                -0.316862   \n",
      "fibrosis of the papillary dermis                              -0.161333   \n",
      "exocytosis                                                     0.387159   \n",
      "acanthosis                                                     0.097804   \n",
      "hyperkeratosis                                                -0.139521   \n",
      "parakeratosis                                                 -0.039723   \n",
      "clubbing of the rete ridges                                   -0.300336   \n",
      "elongation of the rete ridges                                 -0.408174   \n",
      "thinning of the suprapapillary epidermis                      -0.292802   \n",
      "spongiform pustule                                            -0.210310   \n",
      "munro microabcess                                             -0.202158   \n",
      "focal hypergranulosis                                          0.884006   \n",
      "disappearance of the granular layer                           -0.133853   \n",
      "vacuolisation and damage of basal layer                        0.938359   \n",
      "spongiosis                                                     0.067972   \n",
      "saw-tooth appearance of retes                                  1.000000   \n",
      "follicular horn plug                                          -0.091023   \n",
      "perifollicular parakeratosis                                  -0.112199   \n",
      "inflammatory monoluclear inflitrate                            0.248870   \n",
      "band-like infiltrate                                           0.928703   \n",
      "Class Code                                                     0.059828   \n",
      "\n",
      "                                          follicular horn plug  \\\n",
      "erythema                                             -0.005515   \n",
      "scaling                                              -0.010335   \n",
      "definite borders                                     -0.087689   \n",
      "itching                                              -0.175467   \n",
      "koebner phenomenon                                   -0.148507   \n",
      "polygonal papules                                    -0.095809   \n",
      "follicular papules                                    0.785247   \n",
      "oral mucosal involvement                             -0.082916   \n",
      "knee and elbow involvement                            0.233218   \n",
      "scalp involvement                                    -0.052285   \n",
      "family history                                        0.242138   \n",
      "melanin incontinence                                 -0.093795   \n",
      "eosinophils in the infiltrate                        -0.078444   \n",
      "PNL infiltrate                                       -0.118097   \n",
      "fibrosis of the papillary dermis                     -0.084191   \n",
      "exocytosis                                            0.067140   \n",
      "acanthosis                                           -0.028465   \n",
      "hyperkeratosis                                        0.095727   \n",
      "parakeratosis                                         0.005719   \n",
      "clubbing of the rete ridges                          -0.128416   \n",
      "elongation of the rete ridges                        -0.177047   \n",
      "thinning of the suprapapillary epidermis             -0.136157   \n",
      "spongiform pustule                                   -0.092948   \n",
      "munro microabcess                                    -0.110901   \n",
      "focal hypergranulosis                                -0.071576   \n",
      "disappearance of the granular layer                  -0.124525   \n",
      "vacuolisation and damage of basal layer              -0.091675   \n",
      "spongiosis                                            0.059355   \n",
      "saw-tooth appearance of retes                        -0.091023   \n",
      "follicular horn plug                                  1.000000   \n",
      "perifollicular parakeratosis                          0.928918   \n",
      "inflammatory monoluclear inflitrate                  -0.058780   \n",
      "band-like infiltrate                                 -0.099779   \n",
      "Class Code                                            0.431835   \n",
      "\n",
      "                                          perifollicular parakeratosis  \\\n",
      "erythema                                                      0.009474   \n",
      "scaling                                                      -0.010949   \n",
      "definite borders                                             -0.125562   \n",
      "itching                                                      -0.183683   \n",
      "koebner phenomenon                                           -0.164937   \n",
      "polygonal papules                                            -0.110547   \n",
      "follicular papules                                            0.844903   \n",
      "oral mucosal involvement                                     -0.106756   \n",
      "knee and elbow involvement                                    0.257988   \n",
      "scalp involvement                                            -0.017731   \n",
      "family history                                                0.231544   \n",
      "melanin incontinence                                         -0.109798   \n",
      "eosinophils in the infiltrate                                -0.079909   \n",
      "PNL infiltrate                                               -0.110164   \n",
      "fibrosis of the papillary dermis                             -0.093028   \n",
      "exocytosis                                                    0.059550   \n",
      "acanthosis                                                   -0.079935   \n",
      "hyperkeratosis                                                0.087374   \n",
      "parakeratosis                                                 0.010340   \n",
      "clubbing of the rete ridges                                  -0.132489   \n",
      "elongation of the rete ridges                                -0.187215   \n",
      "thinning of the suprapapillary epidermis                     -0.144689   \n",
      "spongiform pustule                                           -0.087201   \n",
      "munro microabcess                                            -0.112971   \n",
      "focal hypergranulosis                                        -0.096193   \n",
      "disappearance of the granular layer                          -0.126850   \n",
      "vacuolisation and damage of basal layer                      -0.112860   \n",
      "spongiosis                                                    0.070691   \n",
      "saw-tooth appearance of retes                                -0.112199   \n",
      "follicular horn plug                                          0.928918   \n",
      "perifollicular parakeratosis                                  1.000000   \n",
      "inflammatory monoluclear inflitrate                          -0.073314   \n",
      "band-like infiltrate                                         -0.113386   \n",
      "Class Code                                                    0.456894   \n",
      "\n",
      "                                          inflammatory monoluclear inflitrate  \\\n",
      "erythema                                                             0.075570   \n",
      "scaling                                                             -0.010041   \n",
      "definite borders                                                     0.106925   \n",
      "itching                                                              0.067809   \n",
      "koebner phenomenon                                                   0.081283   \n",
      "polygonal papules                                                    0.227406   \n",
      "follicular papules                                                  -0.085999   \n",
      "oral mucosal involvement                                             0.250015   \n",
      "knee and elbow involvement                                          -0.067483   \n",
      "scalp involvement                                                    0.033354   \n",
      "family history                                                      -0.090569   \n",
      "melanin incontinence                                                 0.258526   \n",
      "eosinophils in the infiltrate                                       -0.048603   \n",
      "PNL infiltrate                                                      -0.086743   \n",
      "fibrosis of the papillary dermis                                    -0.025817   \n",
      "exocytosis                                                           0.149321   \n",
      "acanthosis                                                           0.132097   \n",
      "hyperkeratosis                                                      -0.118018   \n",
      "parakeratosis                                                       -0.012100   \n",
      "clubbing of the rete ridges                                          0.007002   \n",
      "elongation of the rete ridges                                        0.015425   \n",
      "thinning of the suprapapillary epidermis                             0.027447   \n",
      "spongiform pustule                                                   0.063175   \n",
      "munro microabcess                                                   -0.012492   \n",
      "focal hypergranulosis                                                0.231231   \n",
      "disappearance of the granular layer                                  0.080269   \n",
      "vacuolisation and damage of basal layer                              0.253318   \n",
      "spongiosis                                                           0.062170   \n",
      "saw-tooth appearance of retes                                        0.248870   \n",
      "follicular horn plug                                                -0.058780   \n",
      "perifollicular parakeratosis                                        -0.073314   \n",
      "inflammatory monoluclear inflitrate                                  1.000000   \n",
      "band-like infiltrate                                                 0.234919   \n",
      "Class Code                                                          -0.022100   \n",
      "\n",
      "                                          band-like infiltrate  Class Code  \n",
      "erythema                                             -0.007099   -0.335800  \n",
      "scaling                                              -0.131738   -0.468502  \n",
      "definite borders                                      0.281452   -0.396057  \n",
      "itching                                               0.389908    0.056936  \n",
      "koebner phenomenon                                    0.382270   -0.092382  \n",
      "polygonal papules                                     0.905763    0.057176  \n",
      "follicular papules                                   -0.134335    0.477632  \n",
      "oral mucosal involvement                              0.892277    0.055215  \n",
      "knee and elbow involvement                           -0.276325   -0.382977  \n",
      "scalp involvement                                    -0.250965   -0.534427  \n",
      "family history                                       -0.168636   -0.144983  \n",
      "melanin incontinence                                  0.916797    0.056789  \n",
      "eosinophils in the infiltrate                         0.027902   -0.062822  \n",
      "PNL infiltrate                                       -0.320007   -0.551652  \n",
      "fibrosis of the papillary dermis                     -0.172607    0.526728  \n",
      "exocytosis                                            0.384931    0.286431  \n",
      "acanthosis                                            0.086601   -0.079714  \n",
      "hyperkeratosis                                       -0.145231   -0.055447  \n",
      "parakeratosis                                        -0.069086   -0.423982  \n",
      "clubbing of the rete ridges                          -0.303010   -0.670244  \n",
      "elongation of the rete ridges                        -0.418133   -0.359587  \n",
      "thinning of the suprapapillary epidermis             -0.297153   -0.686302  \n",
      "spongiform pustule                                   -0.222040   -0.450291  \n",
      "munro microabcess                                    -0.198946   -0.522000  \n",
      "focal hypergranulosis                                 0.904460    0.062642  \n",
      "disappearance of the granular layer                  -0.142027   -0.428408  \n",
      "vacuolisation and damage of basal layer               0.937521    0.054779  \n",
      "spongiosis                                            0.038695    0.216956  \n",
      "saw-tooth appearance of retes                         0.928703    0.059828  \n",
      "follicular horn plug                                 -0.099779    0.431835  \n",
      "perifollicular parakeratosis                         -0.113386    0.456894  \n",
      "inflammatory monoluclear inflitrate                   0.234919   -0.022100  \n",
      "band-like infiltrate                                  1.000000    0.056612  \n",
      "Class Code                                            0.056612    1.000000  \n",
      "\n",
      "[34 rows x 34 columns]\n"
     ]
    }
   ],
   "source": [
    "# preparing the correlation matrix\n",
    "\n",
    "print(df.corr())"
   ]
  },
  {
   "cell_type": "code",
   "execution_count": 7,
   "id": "c6d268c1",
   "metadata": {},
   "outputs": [
    {
     "data": {
      "image/png": "[encoded data removed]",
      "text/plain": [
       "<Figure size 288x288 with 1 Axes>"
      ]
     },
     "metadata": {
      "needs_background": "light"
     },
     "output_type": "display_data"
    }
   ],
   "source": [
    "plt.matshow(df.corr())\n",
    "plt.show()"
   ]
  },
  {
   "cell_type": "code",
   "execution_count": 8,
   "id": "8e606a9e",
   "metadata": {},
   "outputs": [
    {
     "data": {
      "image/png": "[encoded data removed]",
      "text/plain": [
       "<Figure size 432x288 with 2 Axes>"
      ]
     },
     "metadata": {
      "needs_background": "light"
     },
     "output_type": "display_data"
    }
   ],
   "source": [
    "seaborn.heatmap(df.corr())\n",
    "plt.savefig(\"plots/Correlation Matrix.png\")"
   ]
  },
  {
   "cell_type": "code",
   "execution_count": 9,
   "id": "6d5fe5d5",
   "metadata": {},
   "outputs": [
    {
     "name": "stdout",
     "output_type": "stream",
     "text": [
      "8\n",
      "[32, 33, 34, 35, 261, 262, 263, 264]\n"
     ]
    }
   ],
   "source": [
    "# Data Cleaning\n",
    "\n",
    "\"\"\"\n",
    "Link to the source of data : https://archive.ics.uci.edu/ml/datasets/Dermatology\n",
    "In the resource itself they provided that there are 8 missing values in Age attribute.\n",
    "This data is part of an intensive reasearch project.\n",
    "So there may not be a lot of missing data.\n",
    "\"\"\"\n",
    "\n",
    "\"\"\"\n",
    "Here I am using regression and I am training the model with all the attributes except 'Age'.\n",
    "\"\"\"\n",
    "\n",
    "df_copy = df.copy(deep=True)\n",
    "\n",
    "list_of_indexes = []  # to strore the indexes where the data is '?'\n",
    "count = 0 \n",
    "\n",
    "for i in range(len(df_copy)):\n",
    "    if(df_copy['Age'][i]=='?'):\n",
    "        count = count + 1\n",
    "        list_of_indexes.append(i)\n",
    "\n",
    "print(count)\n",
    "print(list_of_indexes)"
   ]
  },
  {
   "cell_type": "code",
   "execution_count": 10,
   "id": "a9cc9af5",
   "metadata": {},
   "outputs": [
    {
     "data": {
      "text/html": [
       "<div>\n",
       "<style scoped>\n",
       "    .dataframe tbody tr th:only-of-type {\n",
       "        vertical-align: middle;\n",
       "    }\n",
       "\n",
       "    .dataframe tbody tr th {\n",
       "        vertical-align: top;\n",
       "    }\n",
       "\n",
       "    .dataframe thead th {\n",
       "        text-align: right;\n",
       "    }\n",
       "</style>\n",
       "<table border=\"1\" class=\"dataframe\">\n",
       "  <thead>\n",
       "    <tr style=\"text-align: right;\">\n",
       "      <th></th>\n",
       "      <th>erythema</th>\n",
       "      <th>scaling</th>\n",
       "      <th>definite borders</th>\n",
       "      <th>itching</th>\n",
       "      <th>koebner phenomenon</th>\n",
       "      <th>polygonal papules</th>\n",
       "      <th>follicular papules</th>\n",
       "      <th>oral mucosal involvement</th>\n",
       "      <th>knee and elbow involvement</th>\n",
       "      <th>scalp involvement</th>\n",
       "      <th>...</th>\n",
       "      <th>disappearance of the granular layer</th>\n",
       "      <th>vacuolisation and damage of basal layer</th>\n",
       "      <th>spongiosis</th>\n",
       "      <th>saw-tooth appearance of retes</th>\n",
       "      <th>follicular horn plug</th>\n",
       "      <th>perifollicular parakeratosis</th>\n",
       "      <th>inflammatory monoluclear inflitrate</th>\n",
       "      <th>band-like infiltrate</th>\n",
       "      <th>Age</th>\n",
       "      <th>Class Code</th>\n",
       "    </tr>\n",
       "  </thead>\n",
       "  <tbody>\n",
       "    <tr>\n",
       "      <th>32</th>\n",
       "      <td>2</td>\n",
       "      <td>2</td>\n",
       "      <td>1</td>\n",
       "      <td>0</td>\n",
       "      <td>0</td>\n",
       "      <td>0</td>\n",
       "      <td>0</td>\n",
       "      <td>0</td>\n",
       "      <td>1</td>\n",
       "      <td>0</td>\n",
       "      <td>...</td>\n",
       "      <td>0</td>\n",
       "      <td>0</td>\n",
       "      <td>0</td>\n",
       "      <td>0</td>\n",
       "      <td>0</td>\n",
       "      <td>0</td>\n",
       "      <td>0</td>\n",
       "      <td>0</td>\n",
       "      <td>?</td>\n",
       "      <td>1</td>\n",
       "    </tr>\n",
       "    <tr>\n",
       "      <th>33</th>\n",
       "      <td>2</td>\n",
       "      <td>1</td>\n",
       "      <td>0</td>\n",
       "      <td>0</td>\n",
       "      <td>2</td>\n",
       "      <td>0</td>\n",
       "      <td>0</td>\n",
       "      <td>0</td>\n",
       "      <td>0</td>\n",
       "      <td>0</td>\n",
       "      <td>...</td>\n",
       "      <td>0</td>\n",
       "      <td>0</td>\n",
       "      <td>0</td>\n",
       "      <td>0</td>\n",
       "      <td>0</td>\n",
       "      <td>0</td>\n",
       "      <td>0</td>\n",
       "      <td>0</td>\n",
       "      <td>?</td>\n",
       "      <td>4</td>\n",
       "    </tr>\n",
       "    <tr>\n",
       "      <th>34</th>\n",
       "      <td>2</td>\n",
       "      <td>2</td>\n",
       "      <td>1</td>\n",
       "      <td>2</td>\n",
       "      <td>0</td>\n",
       "      <td>0</td>\n",
       "      <td>0</td>\n",
       "      <td>0</td>\n",
       "      <td>0</td>\n",
       "      <td>0</td>\n",
       "      <td>...</td>\n",
       "      <td>0</td>\n",
       "      <td>0</td>\n",
       "      <td>0</td>\n",
       "      <td>0</td>\n",
       "      <td>0</td>\n",
       "      <td>0</td>\n",
       "      <td>0</td>\n",
       "      <td>0</td>\n",
       "      <td>?</td>\n",
       "      <td>2</td>\n",
       "    </tr>\n",
       "    <tr>\n",
       "      <th>35</th>\n",
       "      <td>2</td>\n",
       "      <td>1</td>\n",
       "      <td>2</td>\n",
       "      <td>3</td>\n",
       "      <td>2</td>\n",
       "      <td>3</td>\n",
       "      <td>0</td>\n",
       "      <td>2</td>\n",
       "      <td>0</td>\n",
       "      <td>0</td>\n",
       "      <td>...</td>\n",
       "      <td>0</td>\n",
       "      <td>2</td>\n",
       "      <td>0</td>\n",
       "      <td>2</td>\n",
       "      <td>0</td>\n",
       "      <td>0</td>\n",
       "      <td>0</td>\n",
       "      <td>3</td>\n",
       "      <td>?</td>\n",
       "      <td>3</td>\n",
       "    </tr>\n",
       "    <tr>\n",
       "      <th>261</th>\n",
       "      <td>2</td>\n",
       "      <td>1</td>\n",
       "      <td>0</td>\n",
       "      <td>2</td>\n",
       "      <td>0</td>\n",
       "      <td>0</td>\n",
       "      <td>0</td>\n",
       "      <td>0</td>\n",
       "      <td>0</td>\n",
       "      <td>0</td>\n",
       "      <td>...</td>\n",
       "      <td>0</td>\n",
       "      <td>0</td>\n",
       "      <td>2</td>\n",
       "      <td>0</td>\n",
       "      <td>0</td>\n",
       "      <td>0</td>\n",
       "      <td>3</td>\n",
       "      <td>0</td>\n",
       "      <td>?</td>\n",
       "      <td>5</td>\n",
       "    </tr>\n",
       "    <tr>\n",
       "      <th>262</th>\n",
       "      <td>1</td>\n",
       "      <td>1</td>\n",
       "      <td>1</td>\n",
       "      <td>3</td>\n",
       "      <td>0</td>\n",
       "      <td>0</td>\n",
       "      <td>0</td>\n",
       "      <td>0</td>\n",
       "      <td>0</td>\n",
       "      <td>0</td>\n",
       "      <td>...</td>\n",
       "      <td>0</td>\n",
       "      <td>0</td>\n",
       "      <td>3</td>\n",
       "      <td>0</td>\n",
       "      <td>0</td>\n",
       "      <td>0</td>\n",
       "      <td>2</td>\n",
       "      <td>0</td>\n",
       "      <td>?</td>\n",
       "      <td>5</td>\n",
       "    </tr>\n",
       "    <tr>\n",
       "      <th>263</th>\n",
       "      <td>1</td>\n",
       "      <td>1</td>\n",
       "      <td>0</td>\n",
       "      <td>2</td>\n",
       "      <td>0</td>\n",
       "      <td>0</td>\n",
       "      <td>0</td>\n",
       "      <td>0</td>\n",
       "      <td>1</td>\n",
       "      <td>0</td>\n",
       "      <td>...</td>\n",
       "      <td>0</td>\n",
       "      <td>0</td>\n",
       "      <td>2</td>\n",
       "      <td>0</td>\n",
       "      <td>0</td>\n",
       "      <td>0</td>\n",
       "      <td>3</td>\n",
       "      <td>0</td>\n",
       "      <td>?</td>\n",
       "      <td>5</td>\n",
       "    </tr>\n",
       "    <tr>\n",
       "      <th>264</th>\n",
       "      <td>1</td>\n",
       "      <td>1</td>\n",
       "      <td>0</td>\n",
       "      <td>3</td>\n",
       "      <td>0</td>\n",
       "      <td>0</td>\n",
       "      <td>0</td>\n",
       "      <td>0</td>\n",
       "      <td>0</td>\n",
       "      <td>0</td>\n",
       "      <td>...</td>\n",
       "      <td>0</td>\n",
       "      <td>0</td>\n",
       "      <td>2</td>\n",
       "      <td>0</td>\n",
       "      <td>0</td>\n",
       "      <td>0</td>\n",
       "      <td>3</td>\n",
       "      <td>0</td>\n",
       "      <td>?</td>\n",
       "      <td>5</td>\n",
       "    </tr>\n",
       "  </tbody>\n",
       "</table>\n",
       "<p>8 rows × 35 columns</p>\n",
       "</div>"
      ],
      "text/plain": [
       "     erythema  scaling  definite borders  itching  koebner phenomenon  \\\n",
       "32          2        2                 1        0                   0   \n",
       "33          2        1                 0        0                   2   \n",
       "34          2        2                 1        2                   0   \n",
       "35          2        1                 2        3                   2   \n",
       "261         2        1                 0        2                   0   \n",
       "262         1        1                 1        3                   0   \n",
       "263         1        1                 0        2                   0   \n",
       "264         1        1                 0        3                   0   \n",
       "\n",
       "     polygonal papules  follicular papules  oral mucosal involvement  \\\n",
       "32                   0                   0                         0   \n",
       "33                   0                   0                         0   \n",
       "34                   0                   0                         0   \n",
       "35                   3                   0                         2   \n",
       "261                  0                   0                         0   \n",
       "262                  0                   0                         0   \n",
       "263                  0                   0                         0   \n",
       "264                  0                   0                         0   \n",
       "\n",
       "     knee and elbow involvement  scalp involvement  ...  \\\n",
       "32                            1                  0  ...   \n",
       "33                            0                  0  ...   \n",
       "34                            0                  0  ...   \n",
       "35                            0                  0  ...   \n",
       "261                           0                  0  ...   \n",
       "262                           0                  0  ...   \n",
       "263                           1                  0  ...   \n",
       "264                           0                  0  ...   \n",
       "\n",
       "     disappearance of the granular layer  \\\n",
       "32                                     0   \n",
       "33                                     0   \n",
       "34                                     0   \n",
       "35                                     0   \n",
       "261                                    0   \n",
       "262                                    0   \n",
       "263                                    0   \n",
       "264                                    0   \n",
       "\n",
       "     vacuolisation and damage of basal layer  spongiosis  \\\n",
       "32                                         0           0   \n",
       "33                                         0           0   \n",
       "34                                         0           0   \n",
       "35                                         2           0   \n",
       "261                                        0           2   \n",
       "262                                        0           3   \n",
       "263                                        0           2   \n",
       "264                                        0           2   \n",
       "\n",
       "     saw-tooth appearance of retes  follicular horn plug  \\\n",
       "32                               0                     0   \n",
       "33                               0                     0   \n",
       "34                               0                     0   \n",
       "35                               2                     0   \n",
       "261                              0                     0   \n",
       "262                              0                     0   \n",
       "263                              0                     0   \n",
       "264                              0                     0   \n",
       "\n",
       "     perifollicular parakeratosis  inflammatory monoluclear inflitrate  \\\n",
       "32                              0                                    0   \n",
       "33                              0                                    0   \n",
       "34                              0                                    0   \n",
       "35                              0                                    0   \n",
       "261                             0                                    3   \n",
       "262                             0                                    2   \n",
       "263                             0                                    3   \n",
       "264                             0                                    3   \n",
       "\n",
       "     band-like infiltrate  Age  Class Code  \n",
       "32                      0    ?           1  \n",
       "33                      0    ?           4  \n",
       "34                      0    ?           2  \n",
       "35                      3    ?           3  \n",
       "261                     0    ?           5  \n",
       "262                     0    ?           5  \n",
       "263                     0    ?           5  \n",
       "264                     0    ?           5  \n",
       "\n",
       "[8 rows x 35 columns]"
      ]
     },
     "execution_count": 10,
     "metadata": {},
     "output_type": "execute_result"
    }
   ],
   "source": [
    "# finding the rows where there is missing data\n",
    "\n",
    "df_copy[df_copy['Age'] == '?']"
   ]
  },
  {
   "cell_type": "code",
   "execution_count": 11,
   "id": "590cabde",
   "metadata": {},
   "outputs": [],
   "source": [
    "# dropping the columns from the deep copy of the df to train the model\n",
    "\n",
    "for i in range(len(df_copy)):\n",
    "    if(df_copy['Age'][i]=='?'):\n",
    "        df_copy.drop(i, axis=0, inplace=True)"
   ]
  },
  {
   "cell_type": "code",
   "execution_count": 12,
   "id": "c37b5aa8",
   "metadata": {},
   "outputs": [
    {
     "data": {
      "text/html": [
       "<div>\n",
       "<style scoped>\n",
       "    .dataframe tbody tr th:only-of-type {\n",
       "        vertical-align: middle;\n",
       "    }\n",
       "\n",
       "    .dataframe tbody tr th {\n",
       "        vertical-align: top;\n",
       "    }\n",
       "\n",
       "    .dataframe thead th {\n",
       "        text-align: right;\n",
       "    }\n",
       "</style>\n",
       "<table border=\"1\" class=\"dataframe\">\n",
       "  <thead>\n",
       "    <tr style=\"text-align: right;\">\n",
       "      <th></th>\n",
       "      <th>erythema</th>\n",
       "      <th>scaling</th>\n",
       "      <th>definite borders</th>\n",
       "      <th>itching</th>\n",
       "      <th>koebner phenomenon</th>\n",
       "      <th>polygonal papules</th>\n",
       "      <th>follicular papules</th>\n",
       "      <th>oral mucosal involvement</th>\n",
       "      <th>knee and elbow involvement</th>\n",
       "      <th>scalp involvement</th>\n",
       "      <th>...</th>\n",
       "      <th>disappearance of the granular layer</th>\n",
       "      <th>vacuolisation and damage of basal layer</th>\n",
       "      <th>spongiosis</th>\n",
       "      <th>saw-tooth appearance of retes</th>\n",
       "      <th>follicular horn plug</th>\n",
       "      <th>perifollicular parakeratosis</th>\n",
       "      <th>inflammatory monoluclear inflitrate</th>\n",
       "      <th>band-like infiltrate</th>\n",
       "      <th>Age</th>\n",
       "      <th>Class Code</th>\n",
       "    </tr>\n",
       "  </thead>\n",
       "  <tbody>\n",
       "  </tbody>\n",
       "</table>\n",
       "<p>0 rows × 35 columns</p>\n",
       "</div>"
      ],
      "text/plain": [
       "Empty DataFrame\n",
       "Columns: [erythema, scaling, definite borders, itching, koebner phenomenon, polygonal papules, follicular papules, oral mucosal involvement, knee and elbow involvement, scalp involvement, family history, melanin incontinence, eosinophils in the infiltrate, PNL infiltrate, fibrosis of the papillary dermis, exocytosis, acanthosis, hyperkeratosis, parakeratosis, clubbing of the rete ridges, elongation of the rete ridges, thinning of the suprapapillary epidermis, spongiform pustule, munro microabcess, focal hypergranulosis, disappearance of the granular layer, vacuolisation and damage of basal layer, spongiosis, saw-tooth appearance of retes, follicular horn plug, perifollicular parakeratosis, inflammatory monoluclear inflitrate, band-like infiltrate, Age, Class Code]\n",
       "Index: []\n",
       "\n",
       "[0 rows x 35 columns]"
      ]
     },
     "execution_count": 12,
     "metadata": {},
     "output_type": "execute_result"
    }
   ],
   "source": [
    "# ensuring the data was cleaned\n",
    "\n",
    "df_copy[df_copy['Age'] == '?']"
   ]
  },
  {
   "cell_type": "code",
   "execution_count": 13,
   "id": "8a93918e",
   "metadata": {},
   "outputs": [
    {
     "data": {
      "text/html": [
       "<style>#sk-container-id-1 {color: black;background-color: white;}#sk-container-id-1 pre{padding: 0;}#sk-container-id-1 div.sk-toggleable {background-color: white;}#sk-container-id-1 label.sk-toggleable__label {cursor: pointer;display: block;width: 100%;margin-bottom: 0;padding: 0.3em;box-sizing: border-box;text-align: center;}#sk-container-id-1 label.sk-toggleable__label-arrow:before {content: \"▸\";float: left;margin-right: 0.25em;color: #696969;}#sk-container-id-1 label.sk-toggleable__label-arrow:hover:before {color: black;}#sk-container-id-1 div.sk-estimator:hover label.sk-toggleable__label-arrow:before {color: black;}#sk-container-id-1 div.sk-toggleable__content {max-height: 0;max-width: 0;overflow: hidden;text-align: left;background-color: #f0f8ff;}#sk-container-id-1 div.sk-toggleable__content pre {margin: 0.2em;color: black;border-radius: 0.25em;background-color: #f0f8ff;}#sk-container-id-1 input.sk-toggleable__control:checked~div.sk-toggleable__content {max-height: 200px;max-width: 100%;overflow: auto;}#sk-container-id-1 input.sk-toggleable__control:checked~label.sk-toggleable__label-arrow:before {content: \"▾\";}#sk-container-id-1 div.sk-estimator input.sk-toggleable__control:checked~label.sk-toggleable__label {background-color: #d4ebff;}#sk-container-id-1 div.sk-label input.sk-toggleable__control:checked~label.sk-toggleable__label {background-color: #d4ebff;}#sk-container-id-1 input.sk-hidden--visually {border: 0;clip: rect(1px 1px 1px 1px);clip: rect(1px, 1px, 1px, 1px);height: 1px;margin: -1px;overflow: hidden;padding: 0;position: absolute;width: 1px;}#sk-container-id-1 div.sk-estimator {font-family: monospace;background-color: #f0f8ff;border: 1px dotted black;border-radius: 0.25em;box-sizing: border-box;margin-bottom: 0.5em;}#sk-container-id-1 div.sk-estimator:hover {background-color: #d4ebff;}#sk-container-id-1 div.sk-parallel-item::after {content: \"\";width: 100%;border-bottom: 1px solid gray;flex-grow: 1;}#sk-container-id-1 div.sk-label:hover label.sk-toggleable__label {background-color: #d4ebff;}#sk-container-id-1 div.sk-serial::before {content: \"\";position: absolute;border-left: 1px solid gray;box-sizing: border-box;top: 0;bottom: 0;left: 50%;z-index: 0;}#sk-container-id-1 div.sk-serial {display: flex;flex-direction: column;align-items: center;background-color: white;padding-right: 0.2em;padding-left: 0.2em;position: relative;}#sk-container-id-1 div.sk-item {position: relative;z-index: 1;}#sk-container-id-1 div.sk-parallel {display: flex;align-items: stretch;justify-content: center;background-color: white;position: relative;}#sk-container-id-1 div.sk-item::before, #sk-container-id-1 div.sk-parallel-item::before {content: \"\";position: absolute;border-left: 1px solid gray;box-sizing: border-box;top: 0;bottom: 0;left: 50%;z-index: -1;}#sk-container-id-1 div.sk-parallel-item {display: flex;flex-direction: column;z-index: 1;position: relative;background-color: white;}#sk-container-id-1 div.sk-parallel-item:first-child::after {align-self: flex-end;width: 50%;}#sk-container-id-1 div.sk-parallel-item:last-child::after {align-self: flex-start;width: 50%;}#sk-container-id-1 div.sk-parallel-item:only-child::after {width: 0;}#sk-container-id-1 div.sk-dashed-wrapped {border: 1px dashed gray;margin: 0 0.4em 0.5em 0.4em;box-sizing: border-box;padding-bottom: 0.4em;background-color: white;}#sk-container-id-1 div.sk-label label {font-family: monospace;font-weight: bold;display: inline-block;line-height: 1.2em;}#sk-container-id-1 div.sk-label-container {text-align: center;}#sk-container-id-1 div.sk-container {/* jupyter's `normalize.less` sets `[hidden] { display: none; }` but bootstrap.min.css set `[hidden] { display: none !important; }` so we also need the `!important` here to be able to override the default hidden behavior on the sphinx rendered scikit-learn.org. See: https://github.com/scikit-learn/scikit-learn/issues/21755 */display: inline-block !important;position: relative;}#sk-container-id-1 div.sk-text-repr-fallback {display: none;}</style><div id=\"sk-container-id-1\" class=\"sk-top-container\"><div class=\"sk-text-repr-fallback\"><pre>LinearRegression()</pre><b>In a Jupyter environment, please rerun this cell to show the HTML representation or trust the notebook. <br />On GitHub, the HTML representation is unable to render, please try loading this page with nbviewer.org.</b></div><div class=\"sk-container\" hidden><div class=\"sk-item\"><div class=\"sk-estimator sk-toggleable\"><input class=\"sk-toggleable__control sk-hidden--visually\" id=\"sk-estimator-id-1\" type=\"checkbox\" checked><label for=\"sk-estimator-id-1\" class=\"sk-toggleable__label sk-toggleable__label-arrow\">LinearRegression</label><div class=\"sk-toggleable__content\"><pre>LinearRegression()</pre></div></div></div></div></div>"
      ],
      "text/plain": [
       "LinearRegression()"
      ]
     },
     "execution_count": 13,
     "metadata": {},
     "output_type": "execute_result"
    }
   ],
   "source": [
    "x = df_copy.drop('Age', axis=1) # x -> dataframe without 'Age' attribute\n",
    "y = df_copy['Age'] # y -> dataframe with just the 'Age' attribute\n",
    "\n",
    "#x_train, x_test, y_train, y_test = train_test_split(x, y, test_size=0.2)\n",
    "\n",
    "model = LinearRegression(fit_intercept=True) # defining the linear regression model\n",
    "model.fit(x,y) # training the model with the cleaned data"
   ]
  },
  {
   "cell_type": "code",
   "execution_count": 14,
   "id": "79fdd40f",
   "metadata": {},
   "outputs": [
    {
     "name": "stderr",
     "output_type": "stream",
     "text": [
      "/home/dheeraj/.local/lib/python3.8/site-packages/sklearn/base.py:439: UserWarning: X does not have valid feature names, but LinearRegression was fitted with feature names\n",
      "  warnings.warn(\n",
      "/home/dheeraj/.local/lib/python3.8/site-packages/sklearn/base.py:439: UserWarning: X does not have valid feature names, but LinearRegression was fitted with feature names\n",
      "  warnings.warn(\n",
      "/home/dheeraj/.local/lib/python3.8/site-packages/sklearn/base.py:439: UserWarning: X does not have valid feature names, but LinearRegression was fitted with feature names\n",
      "  warnings.warn(\n",
      "/home/dheeraj/.local/lib/python3.8/site-packages/sklearn/base.py:439: UserWarning: X does not have valid feature names, but LinearRegression was fitted with feature names\n",
      "  warnings.warn(\n",
      "/home/dheeraj/.local/lib/python3.8/site-packages/sklearn/base.py:439: UserWarning: X does not have valid feature names, but LinearRegression was fitted with feature names\n",
      "  warnings.warn(\n",
      "/home/dheeraj/.local/lib/python3.8/site-packages/sklearn/base.py:439: UserWarning: X does not have valid feature names, but LinearRegression was fitted with feature names\n",
      "  warnings.warn(\n",
      "/home/dheeraj/.local/lib/python3.8/site-packages/sklearn/base.py:439: UserWarning: X does not have valid feature names, but LinearRegression was fitted with feature names\n",
      "  warnings.warn(\n",
      "/home/dheeraj/.local/lib/python3.8/site-packages/sklearn/base.py:439: UserWarning: X does not have valid feature names, but LinearRegression was fitted with feature names\n",
      "  warnings.warn(\n"
     ]
    }
   ],
   "source": [
    "x_df = df.drop('Age', axis=1).values.reshape(-1,1)\n",
    "y_df = df['Age']\n",
    "\n",
    "\n",
    "#predicted_values = model.predict(x_df)\n",
    "\n",
    "list_of_predicted_values = []\n",
    "\n",
    "for idx, row in df[df[\"Age\"] == \"?\"].iterrows():\n",
    "    x = df.iloc[idx, list(range(33))+[34]]\n",
    "    age = int (model.predict([x])[0])\n",
    "    list_of_predicted_values.append([idx, age])\n",
    "    df.iloc[idx, 33] = age"
   ]
  },
  {
   "cell_type": "code",
   "execution_count": 15,
   "id": "5eabee50",
   "metadata": {},
   "outputs": [
    {
     "data": {
      "text/plain": [
       "[[32, 38],\n",
       " [33, 34],\n",
       " [34, 36],\n",
       " [35, 34],\n",
       " [261, 37],\n",
       " [262, 40],\n",
       " [263, 39],\n",
       " [264, 36]]"
      ]
     },
     "execution_count": 15,
     "metadata": {},
     "output_type": "execute_result"
    }
   ],
   "source": [
    "list_of_predicted_values # Predicted values by the model along with the row numbers"
   ]
  },
  {
   "cell_type": "code",
   "execution_count": 16,
   "id": "95f96efc",
   "metadata": {},
   "outputs": [],
   "source": [
    "# The data consists of different set of attributes\n",
    "# One is clinical attributes and second is histopathological attributes\n",
    "\n",
    "# Selecting the clinical data attributes and creating the clinical dataframe\n",
    "\n",
    "clinical_df = df[['erythema', 'scaling', 'definite borders', 'itching',\n",
    "       'koebner phenomenon', 'polygonal papules', 'follicular papules',\n",
    "       'oral mucosal involvement', 'knee and elbow involvement',\n",
    "       'scalp involvement', 'family history', 'Age']]"
   ]
  },
  {
   "cell_type": "code",
   "execution_count": 17,
   "id": "1521bd21",
   "metadata": {},
   "outputs": [],
   "source": [
    "# Selecting the histopathological data attributes and creating the histopathological dataframe\n",
    "\n",
    "histopathological_df = df[['melanin incontinence',\n",
    "       'eosinophils in the infiltrate', 'PNL infiltrate',\n",
    "       'fibrosis of the papillary dermis', 'exocytosis', 'acanthosis',\n",
    "       'hyperkeratosis', 'parakeratosis', 'clubbing of the rete ridges',\n",
    "       'elongation of the rete ridges',\n",
    "       'thinning of the suprapapillary epidermis', 'spongiform pustule',\n",
    "       'munro microabcess', 'focal hypergranulosis',\n",
    "       'disappearance of the granular layer',\n",
    "       'vacuolisation and damage of basal layer', 'spongiosis',\n",
    "       'saw-tooth appearance of retes', 'follicular horn plug',\n",
    "       'perifollicular parakeratosis', 'inflammatory monoluclear inflitrate',\n",
    "       'band-like infiltrate']]"
   ]
  },
  {
   "cell_type": "code",
   "execution_count": 18,
   "id": "c7adcad3",
   "metadata": {},
   "outputs": [
    {
     "data": {
      "text/plain": [
       "<bound method NDFrame.describe of      erythema  scaling  definite borders  itching  koebner phenomenon  \\\n",
       "0           3        3                 3        2                   1   \n",
       "1           2        1                 2        3                   1   \n",
       "2           2        2                 2        0                   0   \n",
       "3           2        3                 2        2                   2   \n",
       "4           2        3                 2        0                   0   \n",
       "..        ...      ...               ...      ...                 ...   \n",
       "360         2        1                 1        0                   1   \n",
       "361         3        2                 1        0                   1   \n",
       "362         3        2                 2        2                   3   \n",
       "363         2        1                 3        1                   2   \n",
       "364         3        2                 2        0                   0   \n",
       "\n",
       "     polygonal papules  follicular papules  oral mucosal involvement  \\\n",
       "0                    0                   0                         0   \n",
       "1                    3                   0                         3   \n",
       "2                    0                   0                         0   \n",
       "3                    2                   0                         2   \n",
       "4                    0                   0                         0   \n",
       "..                 ...                 ...                       ...   \n",
       "360                  0                   0                         0   \n",
       "361                  0                   0                         0   \n",
       "362                  2                   0                         2   \n",
       "363                  3                   0                         2   \n",
       "364                  0                   0                         0   \n",
       "\n",
       "     knee and elbow involvement  scalp involvement  family history Age  \n",
       "0                             1                  1               1   8  \n",
       "1                             0                  0               0  26  \n",
       "2                             3                  2               0  40  \n",
       "3                             0                  0               0  45  \n",
       "4                             0                  0               0  41  \n",
       "..                          ...                ...             ...  ..  \n",
       "360                           0                  0               0  25  \n",
       "361                           0                  0               0  36  \n",
       "362                           0                  0               0  28  \n",
       "363                           0                  0               0  50  \n",
       "364                           3                  3               0  35  \n",
       "\n",
       "[365 rows x 12 columns]>"
      ]
     },
     "execution_count": 18,
     "metadata": {},
     "output_type": "execute_result"
    }
   ],
   "source": [
    "clinical_df.describe"
   ]
  },
  {
   "cell_type": "code",
   "execution_count": 19,
   "id": "f8ab275c",
   "metadata": {},
   "outputs": [
    {
     "data": {
      "text/plain": [
       "<bound method NDFrame.describe of      melanin incontinence  eosinophils in the infiltrate  PNL infiltrate  \\\n",
       "0                       0                              0               1   \n",
       "1                       1                              0               0   \n",
       "2                       0                              0               3   \n",
       "3                       1                              0               0   \n",
       "4                       0                              2               1   \n",
       "..                    ...                            ...             ...   \n",
       "360                     0                              0               1   \n",
       "361                     0                              0               0   \n",
       "362                     2                              2               0   \n",
       "363                     2                              0               0   \n",
       "364                     0                              0               1   \n",
       "\n",
       "     fibrosis of the papillary dermis  exocytosis  acanthosis  hyperkeratosis  \\\n",
       "0                                   0           1           2               0   \n",
       "1                                   0           1           2               0   \n",
       "2                                   0           0           2               0   \n",
       "3                                   0           1           2               0   \n",
       "4                                   0           2           2               0   \n",
       "..                                ...         ...         ...             ...   \n",
       "360                                 0           1           1               0   \n",
       "361                                 0           2           2               0   \n",
       "362                                 0           3           3               0   \n",
       "363                                 0           3           2               0   \n",
       "364                                 0           0           2               0   \n",
       "\n",
       "     parakeratosis  clubbing of the rete ridges  \\\n",
       "0                2                            2   \n",
       "1                2                            0   \n",
       "2                3                            2   \n",
       "3                0                            0   \n",
       "4                2                            0   \n",
       "..             ...                          ...   \n",
       "360              0                            0   \n",
       "361              0                            0   \n",
       "362              0                            0   \n",
       "363              0                            0   \n",
       "364              2                            3   \n",
       "\n",
       "     elongation of the rete ridges  ...  munro microabcess  \\\n",
       "0                                2  ...                  1   \n",
       "1                                0  ...                  0   \n",
       "2                                2  ...                  0   \n",
       "3                                0  ...                  0   \n",
       "4                                0  ...                  0   \n",
       "..                             ...  ...                ...   \n",
       "360                              0  ...                  0   \n",
       "361                              0  ...                  0   \n",
       "362                              0  ...                  0   \n",
       "363                              0  ...                  0   \n",
       "364                              2  ...                  2   \n",
       "\n",
       "     focal hypergranulosis  disappearance of the granular layer  \\\n",
       "0                        0                                    0   \n",
       "1                        2                                    0   \n",
       "2                        0                                    3   \n",
       "3                        2                                    2   \n",
       "4                        0                                    0   \n",
       "..                     ...                                  ...   \n",
       "360                      0                                    0   \n",
       "361                      0                                    1   \n",
       "362                      3                                    0   \n",
       "363                      3                                    0   \n",
       "364                      0                                    2   \n",
       "\n",
       "     vacuolisation and damage of basal layer  spongiosis  \\\n",
       "0                                          0           0   \n",
       "1                                          2           3   \n",
       "2                                          0           0   \n",
       "3                                          3           2   \n",
       "4                                          0           2   \n",
       "..                                       ...         ...   \n",
       "360                                        0           1   \n",
       "361                                        0           1   \n",
       "362                                        3           0   \n",
       "363                                        2           0   \n",
       "364                                        0           0   \n",
       "\n",
       "     saw-tooth appearance of retes  follicular horn plug  \\\n",
       "0                                0                     0   \n",
       "1                                2                     0   \n",
       "2                                0                     0   \n",
       "3                                3                     0   \n",
       "4                                0                     0   \n",
       "..                             ...                   ...   \n",
       "360                              0                     0   \n",
       "361                              0                     0   \n",
       "362                              3                     0   \n",
       "363                              1                     0   \n",
       "364                              0                     0   \n",
       "\n",
       "     perifollicular parakeratosis  inflammatory monoluclear inflitrate  \\\n",
       "0                               0                                    1   \n",
       "1                               0                                    2   \n",
       "2                               0                                    3   \n",
       "3                               0                                    2   \n",
       "4                               0                                    1   \n",
       "..                            ...                                  ...   \n",
       "360                             0                                    2   \n",
       "361                             0                                    2   \n",
       "362                             0                                    2   \n",
       "363                             0                                    2   \n",
       "364                             0                                    3   \n",
       "\n",
       "     band-like infiltrate  \n",
       "0                       0  \n",
       "1                       3  \n",
       "2                       0  \n",
       "3                       3  \n",
       "4                       0  \n",
       "..                    ...  \n",
       "360                     0  \n",
       "361                     0  \n",
       "362                     3  \n",
       "363                     3  \n",
       "364                     0  \n",
       "\n",
       "[365 rows x 22 columns]>"
      ]
     },
     "execution_count": 19,
     "metadata": {},
     "output_type": "execute_result"
    }
   ],
   "source": [
    "histopathological_df.describe"
   ]
  },
  {
   "cell_type": "code",
   "execution_count": 20,
   "id": "33928122",
   "metadata": {},
   "outputs": [],
   "source": [
    "# Class code is something we want to predict\n",
    "# But the class code is already provided \n",
    "# We want to isolate the data so that we can vrify the output data.\n",
    "\n",
    "class_code = df['Class Code']"
   ]
  },
  {
   "cell_type": "code",
   "execution_count": 21,
   "id": "9d2149c6",
   "metadata": {},
   "outputs": [
    {
     "data": {
      "text/plain": [
       "<bound method NDFrame.describe of 0      1\n",
       "1      3\n",
       "2      1\n",
       "3      3\n",
       "4      2\n",
       "      ..\n",
       "360    4\n",
       "361    4\n",
       "362    3\n",
       "363    3\n",
       "364    1\n",
       "Name: Class Code, Length: 365, dtype: int64>"
      ]
     },
     "execution_count": 21,
     "metadata": {},
     "output_type": "execute_result"
    }
   ],
   "source": [
    "class_code.describe"
   ]
  },
  {
   "cell_type": "code",
   "execution_count": 22,
   "id": "aa613975",
   "metadata": {},
   "outputs": [],
   "source": [
    "accuracy_scores_all_attributes = list()\n",
    "accuracy_scores_clinical_attributes = list()\n",
    "accuracy_scores_histopathological_attributes = list()\n",
    "models_used = ['Logistic Regression', 'Random Forest Classifier', 'Linear Support Vector Machine']"
   ]
  },
  {
   "cell_type": "code",
   "execution_count": 23,
   "id": "33008c20",
   "metadata": {},
   "outputs": [],
   "source": [
    "x =  df.drop('Class Code', axis=1)\n",
    "y = df['Class Code']\n",
    "\n",
    "x_train, x_test, y_train, y_test = train_test_split(x, y, random_state=0, train_size=0.2)"
   ]
  },
  {
   "cell_type": "code",
   "execution_count": 24,
   "id": "42354f52",
   "metadata": {},
   "outputs": [
    {
     "data": {
      "text/html": [
       "<style>#sk-container-id-2 {color: black;background-color: white;}#sk-container-id-2 pre{padding: 0;}#sk-container-id-2 div.sk-toggleable {background-color: white;}#sk-container-id-2 label.sk-toggleable__label {cursor: pointer;display: block;width: 100%;margin-bottom: 0;padding: 0.3em;box-sizing: border-box;text-align: center;}#sk-container-id-2 label.sk-toggleable__label-arrow:before {content: \"▸\";float: left;margin-right: 0.25em;color: #696969;}#sk-container-id-2 label.sk-toggleable__label-arrow:hover:before {color: black;}#sk-container-id-2 div.sk-estimator:hover label.sk-toggleable__label-arrow:before {color: black;}#sk-container-id-2 div.sk-toggleable__content {max-height: 0;max-width: 0;overflow: hidden;text-align: left;background-color: #f0f8ff;}#sk-container-id-2 div.sk-toggleable__content pre {margin: 0.2em;color: black;border-radius: 0.25em;background-color: #f0f8ff;}#sk-container-id-2 input.sk-toggleable__control:checked~div.sk-toggleable__content {max-height: 200px;max-width: 100%;overflow: auto;}#sk-container-id-2 input.sk-toggleable__control:checked~label.sk-toggleable__label-arrow:before {content: \"▾\";}#sk-container-id-2 div.sk-estimator input.sk-toggleable__control:checked~label.sk-toggleable__label {background-color: #d4ebff;}#sk-container-id-2 div.sk-label input.sk-toggleable__control:checked~label.sk-toggleable__label {background-color: #d4ebff;}#sk-container-id-2 input.sk-hidden--visually {border: 0;clip: rect(1px 1px 1px 1px);clip: rect(1px, 1px, 1px, 1px);height: 1px;margin: -1px;overflow: hidden;padding: 0;position: absolute;width: 1px;}#sk-container-id-2 div.sk-estimator {font-family: monospace;background-color: #f0f8ff;border: 1px dotted black;border-radius: 0.25em;box-sizing: border-box;margin-bottom: 0.5em;}#sk-container-id-2 div.sk-estimator:hover {background-color: #d4ebff;}#sk-container-id-2 div.sk-parallel-item::after {content: \"\";width: 100%;border-bottom: 1px solid gray;flex-grow: 1;}#sk-container-id-2 div.sk-label:hover label.sk-toggleable__label {background-color: #d4ebff;}#sk-container-id-2 div.sk-serial::before {content: \"\";position: absolute;border-left: 1px solid gray;box-sizing: border-box;top: 0;bottom: 0;left: 50%;z-index: 0;}#sk-container-id-2 div.sk-serial {display: flex;flex-direction: column;align-items: center;background-color: white;padding-right: 0.2em;padding-left: 0.2em;position: relative;}#sk-container-id-2 div.sk-item {position: relative;z-index: 1;}#sk-container-id-2 div.sk-parallel {display: flex;align-items: stretch;justify-content: center;background-color: white;position: relative;}#sk-container-id-2 div.sk-item::before, #sk-container-id-2 div.sk-parallel-item::before {content: \"\";position: absolute;border-left: 1px solid gray;box-sizing: border-box;top: 0;bottom: 0;left: 50%;z-index: -1;}#sk-container-id-2 div.sk-parallel-item {display: flex;flex-direction: column;z-index: 1;position: relative;background-color: white;}#sk-container-id-2 div.sk-parallel-item:first-child::after {align-self: flex-end;width: 50%;}#sk-container-id-2 div.sk-parallel-item:last-child::after {align-self: flex-start;width: 50%;}#sk-container-id-2 div.sk-parallel-item:only-child::after {width: 0;}#sk-container-id-2 div.sk-dashed-wrapped {border: 1px dashed gray;margin: 0 0.4em 0.5em 0.4em;box-sizing: border-box;padding-bottom: 0.4em;background-color: white;}#sk-container-id-2 div.sk-label label {font-family: monospace;font-weight: bold;display: inline-block;line-height: 1.2em;}#sk-container-id-2 div.sk-label-container {text-align: center;}#sk-container-id-2 div.sk-container {/* jupyter's `normalize.less` sets `[hidden] { display: none; }` but bootstrap.min.css set `[hidden] { display: none !important; }` so we also need the `!important` here to be able to override the default hidden behavior on the sphinx rendered scikit-learn.org. See: https://github.com/scikit-learn/scikit-learn/issues/21755 */display: inline-block !important;position: relative;}#sk-container-id-2 div.sk-text-repr-fallback {display: none;}</style><div id=\"sk-container-id-2\" class=\"sk-top-container\"><div class=\"sk-text-repr-fallback\"><pre>Pipeline(steps=[(&#x27;standardscaler&#x27;, StandardScaler()),\n",
       "                (&#x27;logisticregression&#x27;, LogisticRegression())])</pre><b>In a Jupyter environment, please rerun this cell to show the HTML representation or trust the notebook. <br />On GitHub, the HTML representation is unable to render, please try loading this page with nbviewer.org.</b></div><div class=\"sk-container\" hidden><div class=\"sk-item sk-dashed-wrapped\"><div class=\"sk-label-container\"><div class=\"sk-label sk-toggleable\"><input class=\"sk-toggleable__control sk-hidden--visually\" id=\"sk-estimator-id-2\" type=\"checkbox\" ><label for=\"sk-estimator-id-2\" class=\"sk-toggleable__label sk-toggleable__label-arrow\">Pipeline</label><div class=\"sk-toggleable__content\"><pre>Pipeline(steps=[(&#x27;standardscaler&#x27;, StandardScaler()),\n",
       "                (&#x27;logisticregression&#x27;, LogisticRegression())])</pre></div></div></div><div class=\"sk-serial\"><div class=\"sk-item\"><div class=\"sk-estimator sk-toggleable\"><input class=\"sk-toggleable__control sk-hidden--visually\" id=\"sk-estimator-id-3\" type=\"checkbox\" ><label for=\"sk-estimator-id-3\" class=\"sk-toggleable__label sk-toggleable__label-arrow\">StandardScaler</label><div class=\"sk-toggleable__content\"><pre>StandardScaler()</pre></div></div></div><div class=\"sk-item\"><div class=\"sk-estimator sk-toggleable\"><input class=\"sk-toggleable__control sk-hidden--visually\" id=\"sk-estimator-id-4\" type=\"checkbox\" ><label for=\"sk-estimator-id-4\" class=\"sk-toggleable__label sk-toggleable__label-arrow\">LogisticRegression</label><div class=\"sk-toggleable__content\"><pre>LogisticRegression()</pre></div></div></div></div></div></div></div>"
      ],
      "text/plain": [
       "Pipeline(steps=[('standardscaler', StandardScaler()),\n",
       "                ('logisticregression', LogisticRegression())])"
      ]
     },
     "execution_count": 24,
     "metadata": {},
     "output_type": "execute_result"
    }
   ],
   "source": [
    "scaler = preprocessing.StandardScaler()\n",
    "\n",
    "pipe = make_pipeline(StandardScaler(), LogisticRegression())\n",
    "pipe.fit(x_train, y_train)"
   ]
  },
  {
   "cell_type": "code",
   "execution_count": 25,
   "id": "f7e15909",
   "metadata": {},
   "outputs": [
    {
     "data": {
      "text/plain": [
       "0.9726027397260274"
      ]
     },
     "execution_count": 25,
     "metadata": {},
     "output_type": "execute_result"
    }
   ],
   "source": [
    "y_pred = pipe.predict(x_test)\n",
    "accuracy_scores_all_attributes.append(accuracy_score(y_test, y_pred))\n",
    "accuracy_score(y_test, y_pred)"
   ]
  },
  {
   "cell_type": "code",
   "execution_count": 26,
   "id": "31e288eb",
   "metadata": {},
   "outputs": [
    {
     "data": {
      "text/html": [
       "<style>#sk-container-id-3 {color: black;background-color: white;}#sk-container-id-3 pre{padding: 0;}#sk-container-id-3 div.sk-toggleable {background-color: white;}#sk-container-id-3 label.sk-toggleable__label {cursor: pointer;display: block;width: 100%;margin-bottom: 0;padding: 0.3em;box-sizing: border-box;text-align: center;}#sk-container-id-3 label.sk-toggleable__label-arrow:before {content: \"▸\";float: left;margin-right: 0.25em;color: #696969;}#sk-container-id-3 label.sk-toggleable__label-arrow:hover:before {color: black;}#sk-container-id-3 div.sk-estimator:hover label.sk-toggleable__label-arrow:before {color: black;}#sk-container-id-3 div.sk-toggleable__content {max-height: 0;max-width: 0;overflow: hidden;text-align: left;background-color: #f0f8ff;}#sk-container-id-3 div.sk-toggleable__content pre {margin: 0.2em;color: black;border-radius: 0.25em;background-color: #f0f8ff;}#sk-container-id-3 input.sk-toggleable__control:checked~div.sk-toggleable__content {max-height: 200px;max-width: 100%;overflow: auto;}#sk-container-id-3 input.sk-toggleable__control:checked~label.sk-toggleable__label-arrow:before {content: \"▾\";}#sk-container-id-3 div.sk-estimator input.sk-toggleable__control:checked~label.sk-toggleable__label {background-color: #d4ebff;}#sk-container-id-3 div.sk-label input.sk-toggleable__control:checked~label.sk-toggleable__label {background-color: #d4ebff;}#sk-container-id-3 input.sk-hidden--visually {border: 0;clip: rect(1px 1px 1px 1px);clip: rect(1px, 1px, 1px, 1px);height: 1px;margin: -1px;overflow: hidden;padding: 0;position: absolute;width: 1px;}#sk-container-id-3 div.sk-estimator {font-family: monospace;background-color: #f0f8ff;border: 1px dotted black;border-radius: 0.25em;box-sizing: border-box;margin-bottom: 0.5em;}#sk-container-id-3 div.sk-estimator:hover {background-color: #d4ebff;}#sk-container-id-3 div.sk-parallel-item::after {content: \"\";width: 100%;border-bottom: 1px solid gray;flex-grow: 1;}#sk-container-id-3 div.sk-label:hover label.sk-toggleable__label {background-color: #d4ebff;}#sk-container-id-3 div.sk-serial::before {content: \"\";position: absolute;border-left: 1px solid gray;box-sizing: border-box;top: 0;bottom: 0;left: 50%;z-index: 0;}#sk-container-id-3 div.sk-serial {display: flex;flex-direction: column;align-items: center;background-color: white;padding-right: 0.2em;padding-left: 0.2em;position: relative;}#sk-container-id-3 div.sk-item {position: relative;z-index: 1;}#sk-container-id-3 div.sk-parallel {display: flex;align-items: stretch;justify-content: center;background-color: white;position: relative;}#sk-container-id-3 div.sk-item::before, #sk-container-id-3 div.sk-parallel-item::before {content: \"\";position: absolute;border-left: 1px solid gray;box-sizing: border-box;top: 0;bottom: 0;left: 50%;z-index: -1;}#sk-container-id-3 div.sk-parallel-item {display: flex;flex-direction: column;z-index: 1;position: relative;background-color: white;}#sk-container-id-3 div.sk-parallel-item:first-child::after {align-self: flex-end;width: 50%;}#sk-container-id-3 div.sk-parallel-item:last-child::after {align-self: flex-start;width: 50%;}#sk-container-id-3 div.sk-parallel-item:only-child::after {width: 0;}#sk-container-id-3 div.sk-dashed-wrapped {border: 1px dashed gray;margin: 0 0.4em 0.5em 0.4em;box-sizing: border-box;padding-bottom: 0.4em;background-color: white;}#sk-container-id-3 div.sk-label label {font-family: monospace;font-weight: bold;display: inline-block;line-height: 1.2em;}#sk-container-id-3 div.sk-label-container {text-align: center;}#sk-container-id-3 div.sk-container {/* jupyter's `normalize.less` sets `[hidden] { display: none; }` but bootstrap.min.css set `[hidden] { display: none !important; }` so we also need the `!important` here to be able to override the default hidden behavior on the sphinx rendered scikit-learn.org. See: https://github.com/scikit-learn/scikit-learn/issues/21755 */display: inline-block !important;position: relative;}#sk-container-id-3 div.sk-text-repr-fallback {display: none;}</style><div id=\"sk-container-id-3\" class=\"sk-top-container\"><div class=\"sk-text-repr-fallback\"><pre>RandomForestClassifier()</pre><b>In a Jupyter environment, please rerun this cell to show the HTML representation or trust the notebook. <br />On GitHub, the HTML representation is unable to render, please try loading this page with nbviewer.org.</b></div><div class=\"sk-container\" hidden><div class=\"sk-item\"><div class=\"sk-estimator sk-toggleable\"><input class=\"sk-toggleable__control sk-hidden--visually\" id=\"sk-estimator-id-5\" type=\"checkbox\" checked><label for=\"sk-estimator-id-5\" class=\"sk-toggleable__label sk-toggleable__label-arrow\">RandomForestClassifier</label><div class=\"sk-toggleable__content\"><pre>RandomForestClassifier()</pre></div></div></div></div></div>"
      ],
      "text/plain": [
       "RandomForestClassifier()"
      ]
     },
     "execution_count": 26,
     "metadata": {},
     "output_type": "execute_result"
    }
   ],
   "source": [
    "randomForestClassifier = RandomForestClassifier()\n",
    "\n",
    "randomForestClassifier.fit(x_train, y_train)"
   ]
  },
  {
   "cell_type": "code",
   "execution_count": 27,
   "id": "e9461301",
   "metadata": {},
   "outputs": [
    {
     "data": {
      "text/plain": [
       "0.9691780821917808"
      ]
     },
     "execution_count": 27,
     "metadata": {},
     "output_type": "execute_result"
    }
   ],
   "source": [
    "y_pred = randomForestClassifier.predict(x_test)\n",
    "accuracy_scores_all_attributes.append(accuracy_score(y_test, y_pred))\n",
    "accuracy_score(y_test, y_pred)"
   ]
  },
  {
   "cell_type": "code",
   "execution_count": 28,
   "id": "7a923f9e",
   "metadata": {},
   "outputs": [
    {
     "data": {
      "text/plain": [
       "<AxesSubplot:>"
      ]
     },
     "execution_count": 28,
     "metadata": {},
     "output_type": "execute_result"
    },
    {
     "data": {
      "image/png": "[encoded data removed]",
      "text/plain": [
       "<Figure size 432x288 with 1 Axes>"
      ]
     },
     "metadata": {
      "needs_background": "light"
     },
     "output_type": "display_data"
    }
   ],
   "source": [
    "(pd.Series(randomForestClassifier.feature_importances_, index=x.columns)).nlargest(10).plot(kind='barh')\n",
    "\n",
    "list_of_important_features_all = randomForestClassifier.feature_importances_"
   ]
  },
  {
   "cell_type": "code",
   "execution_count": 29,
   "id": "d70ca511",
   "metadata": {},
   "outputs": [
    {
     "data": {
      "text/html": [
       "<style>#sk-container-id-4 {color: black;background-color: white;}#sk-container-id-4 pre{padding: 0;}#sk-container-id-4 div.sk-toggleable {background-color: white;}#sk-container-id-4 label.sk-toggleable__label {cursor: pointer;display: block;width: 100%;margin-bottom: 0;padding: 0.3em;box-sizing: border-box;text-align: center;}#sk-container-id-4 label.sk-toggleable__label-arrow:before {content: \"▸\";float: left;margin-right: 0.25em;color: #696969;}#sk-container-id-4 label.sk-toggleable__label-arrow:hover:before {color: black;}#sk-container-id-4 div.sk-estimator:hover label.sk-toggleable__label-arrow:before {color: black;}#sk-container-id-4 div.sk-toggleable__content {max-height: 0;max-width: 0;overflow: hidden;text-align: left;background-color: #f0f8ff;}#sk-container-id-4 div.sk-toggleable__content pre {margin: 0.2em;color: black;border-radius: 0.25em;background-color: #f0f8ff;}#sk-container-id-4 input.sk-toggleable__control:checked~div.sk-toggleable__content {max-height: 200px;max-width: 100%;overflow: auto;}#sk-container-id-4 input.sk-toggleable__control:checked~label.sk-toggleable__label-arrow:before {content: \"▾\";}#sk-container-id-4 div.sk-estimator input.sk-toggleable__control:checked~label.sk-toggleable__label {background-color: #d4ebff;}#sk-container-id-4 div.sk-label input.sk-toggleable__control:checked~label.sk-toggleable__label {background-color: #d4ebff;}#sk-container-id-4 input.sk-hidden--visually {border: 0;clip: rect(1px 1px 1px 1px);clip: rect(1px, 1px, 1px, 1px);height: 1px;margin: -1px;overflow: hidden;padding: 0;position: absolute;width: 1px;}#sk-container-id-4 div.sk-estimator {font-family: monospace;background-color: #f0f8ff;border: 1px dotted black;border-radius: 0.25em;box-sizing: border-box;margin-bottom: 0.5em;}#sk-container-id-4 div.sk-estimator:hover {background-color: #d4ebff;}#sk-container-id-4 div.sk-parallel-item::after {content: \"\";width: 100%;border-bottom: 1px solid gray;flex-grow: 1;}#sk-container-id-4 div.sk-label:hover label.sk-toggleable__label {background-color: #d4ebff;}#sk-container-id-4 div.sk-serial::before {content: \"\";position: absolute;border-left: 1px solid gray;box-sizing: border-box;top: 0;bottom: 0;left: 50%;z-index: 0;}#sk-container-id-4 div.sk-serial {display: flex;flex-direction: column;align-items: center;background-color: white;padding-right: 0.2em;padding-left: 0.2em;position: relative;}#sk-container-id-4 div.sk-item {position: relative;z-index: 1;}#sk-container-id-4 div.sk-parallel {display: flex;align-items: stretch;justify-content: center;background-color: white;position: relative;}#sk-container-id-4 div.sk-item::before, #sk-container-id-4 div.sk-parallel-item::before {content: \"\";position: absolute;border-left: 1px solid gray;box-sizing: border-box;top: 0;bottom: 0;left: 50%;z-index: -1;}#sk-container-id-4 div.sk-parallel-item {display: flex;flex-direction: column;z-index: 1;position: relative;background-color: white;}#sk-container-id-4 div.sk-parallel-item:first-child::after {align-self: flex-end;width: 50%;}#sk-container-id-4 div.sk-parallel-item:last-child::after {align-self: flex-start;width: 50%;}#sk-container-id-4 div.sk-parallel-item:only-child::after {width: 0;}#sk-container-id-4 div.sk-dashed-wrapped {border: 1px dashed gray;margin: 0 0.4em 0.5em 0.4em;box-sizing: border-box;padding-bottom: 0.4em;background-color: white;}#sk-container-id-4 div.sk-label label {font-family: monospace;font-weight: bold;display: inline-block;line-height: 1.2em;}#sk-container-id-4 div.sk-label-container {text-align: center;}#sk-container-id-4 div.sk-container {/* jupyter's `normalize.less` sets `[hidden] { display: none; }` but bootstrap.min.css set `[hidden] { display: none !important; }` so we also need the `!important` here to be able to override the default hidden behavior on the sphinx rendered scikit-learn.org. See: https://github.com/scikit-learn/scikit-learn/issues/21755 */display: inline-block !important;position: relative;}#sk-container-id-4 div.sk-text-repr-fallback {display: none;}</style><div id=\"sk-container-id-4\" class=\"sk-top-container\"><div class=\"sk-text-repr-fallback\"><pre>SVC(kernel=&#x27;linear&#x27;)</pre><b>In a Jupyter environment, please rerun this cell to show the HTML representation or trust the notebook. <br />On GitHub, the HTML representation is unable to render, please try loading this page with nbviewer.org.</b></div><div class=\"sk-container\" hidden><div class=\"sk-item\"><div class=\"sk-estimator sk-toggleable\"><input class=\"sk-toggleable__control sk-hidden--visually\" id=\"sk-estimator-id-6\" type=\"checkbox\" checked><label for=\"sk-estimator-id-6\" class=\"sk-toggleable__label sk-toggleable__label-arrow\">SVC</label><div class=\"sk-toggleable__content\"><pre>SVC(kernel=&#x27;linear&#x27;)</pre></div></div></div></div></div>"
      ],
      "text/plain": [
       "SVC(kernel='linear')"
      ]
     },
     "execution_count": 29,
     "metadata": {},
     "output_type": "execute_result"
    }
   ],
   "source": [
    "linear_svm = svm.SVC(kernel = 'linear')\n",
    "linear_svm.fit(x_train, y_train)"
   ]
  },
  {
   "cell_type": "code",
   "execution_count": 30,
   "id": "d8a14c35",
   "metadata": {},
   "outputs": [
    {
     "data": {
      "text/plain": [
       "0.952054794520548"
      ]
     },
     "execution_count": 30,
     "metadata": {},
     "output_type": "execute_result"
    }
   ],
   "source": [
    "y_pred = linear_svm.predict(x_test)\n",
    "accuracy_scores_all_attributes.append(accuracy_score(y_test, y_pred))\n",
    "accuracy_score(y_test, y_pred)"
   ]
  },
  {
   "cell_type": "code",
   "execution_count": 31,
   "id": "065f70b9",
   "metadata": {},
   "outputs": [
    {
     "data": {
      "text/plain": [
       "<AxesSubplot:>"
      ]
     },
     "execution_count": 31,
     "metadata": {},
     "output_type": "execute_result"
    },
    {
     "data": {
      "image/png": "[encoded data removed]",
      "text/plain": [
       "<Figure size 432x288 with 1 Axes>"
      ]
     },
     "metadata": {
      "needs_background": "light"
     },
     "output_type": "display_data"
    }
   ],
   "source": [
    "importance = linear_svm.coef_[0]\n",
    "\n",
    "(pd.Series(importance, index=x.columns)).nlargest(10).plot(kind='barh')"
   ]
  },
  {
   "cell_type": "code",
   "execution_count": 32,
   "id": "0873387d",
   "metadata": {},
   "outputs": [],
   "source": [
    "# pipe : model for logistic regression\n",
    "# randomForestClassifier : model for random forest classifier\n",
    "# linear_svm : model for support vector machine"
   ]
  },
  {
   "cell_type": "code",
   "execution_count": 47,
   "id": "8c21450f",
   "metadata": {},
   "outputs": [],
   "source": [
    "x = clinical_df\n",
    "y = class_code\n",
    "\n",
    "x_train, x_test, y_train, y_test = train_test_split(x, y, random_state=0, train_size=0.2)"
   ]
  },
  {
   "cell_type": "code",
   "execution_count": 48,
   "id": "a65e5a8e",
   "metadata": {},
   "outputs": [
    {
     "name": "stdout",
     "output_type": "stream",
     "text": [
      "Accuracy of pipe :  0.815068493150685\n"
     ]
    }
   ],
   "source": [
    "pipe.fit(x_train, y_train)\n",
    "y_pred = pipe.predict(x_test)\n",
    "\n",
    "accuracy_scores_clinical_attributes.append(accuracy_score(y_test, y_pred))\n",
    "print(\"Accuracy of pipe : \", accuracy_score(y_test, y_pred))"
   ]
  },
  {
   "cell_type": "code",
   "execution_count": 49,
   "id": "8e477d62",
   "metadata": {},
   "outputs": [
    {
     "name": "stdout",
     "output_type": "stream",
     "text": [
      "Accuracy of random forest classifier :  0.797945205479452\n"
     ]
    }
   ],
   "source": [
    "randomForestClassifier.fit(x_train, y_train)\n",
    "y_pred = randomForestClassifier.predict(x_test)\n",
    "\n",
    "accuracy_scores_clinical_attributes.append(accuracy_score(y_test, y_pred))\n",
    "print(\"Accuracy of random forest classifier : \", accuracy_score(y_test, y_pred))"
   ]
  },
  {
   "cell_type": "code",
   "execution_count": 36,
   "id": "27f19679",
   "metadata": {},
   "outputs": [
    {
     "data": {
      "text/plain": [
       "<AxesSubplot:>"
      ]
     },
     "execution_count": 36,
     "metadata": {},
     "output_type": "execute_result"
    },
    {
     "data": {
      "image/png": "[encoded data removed]",
      "text/plain": [
       "<Figure size 432x288 with 1 Axes>"
      ]
     },
     "metadata": {
      "needs_background": "light"
     },
     "output_type": "display_data"
    }
   ],
   "source": [
    "(pd.Series(randomForestClassifier.feature_importances_, index=x.columns)).nlargest(10).plot(kind='barh')"
   ]
  },
  {
   "cell_type": "code",
   "execution_count": 37,
   "id": "c38a5094",
   "metadata": {},
   "outputs": [
    {
     "name": "stdout",
     "output_type": "stream",
     "text": [
      "Accuracy of linear svm :  0.773972602739726\n"
     ]
    }
   ],
   "source": [
    "linear_svm.fit(x_train, y_train)\n",
    "y_pred = linear_svm.predict(x_test)\n",
    "\n",
    "accuracy_scores_clinical_attributes.append(accuracy_score(y_test, y_pred))\n",
    "print(\"Accuracy of linear svm : \", accuracy_score(y_test, y_pred))"
   ]
  },
  {
   "cell_type": "code",
   "execution_count": 38,
   "id": "3e606549",
   "metadata": {},
   "outputs": [
    {
     "data": {
      "text/plain": [
       "<AxesSubplot:>"
      ]
     },
     "execution_count": 38,
     "metadata": {},
     "output_type": "execute_result"
    },
    {
     "data": {
      "image/png": "[encoded data removed]",
      "text/plain": [
       "<Figure size 432x288 with 1 Axes>"
      ]
     },
     "metadata": {
      "needs_background": "light"
     },
     "output_type": "display_data"
    }
   ],
   "source": [
    "importance = linear_svm.coef_[0]\n",
    "\n",
    "(pd.Series(importance, index=x.columns)).nlargest(10).plot(kind='barh')"
   ]
  },
  {
   "cell_type": "code",
   "execution_count": 39,
   "id": "c1f2fcad",
   "metadata": {},
   "outputs": [],
   "source": [
    "x = histopathological_df\n",
    "y = class_code\n",
    "\n",
    "x_train, x_test, y_train, y_test = train_test_split(x, y, random_state=0, train_size=0.2)"
   ]
  },
  {
   "cell_type": "code",
   "execution_count": 40,
   "id": "cd725b61",
   "metadata": {},
   "outputs": [
    {
     "name": "stdout",
     "output_type": "stream",
     "text": [
      "Accuracy of pipe :  0.934931506849315\n"
     ]
    }
   ],
   "source": [
    "pipe.fit(x_train, y_train)\n",
    "y_pred = pipe.predict(x_test)\n",
    "\n",
    "accuracy_scores_histopathological_attributes.append(accuracy_score(y_test, y_pred))\n",
    "print(\"Accuracy of pipe : \", accuracy_score(y_test, y_pred))"
   ]
  },
  {
   "cell_type": "code",
   "execution_count": 41,
   "id": "f260aa2a",
   "metadata": {},
   "outputs": [
    {
     "name": "stdout",
     "output_type": "stream",
     "text": [
      "Accuracy of random forest classifier :  0.9143835616438356\n"
     ]
    }
   ],
   "source": [
    "randomForestClassifier.fit(x_train, y_train)\n",
    "y_pred = randomForestClassifier.predict(x_test)\n",
    "\n",
    "accuracy_scores_histopathological_attributes.append(accuracy_score(y_test, y_pred))\n",
    "print(\"Accuracy of random forest classifier : \", accuracy_score(y_test, y_pred))"
   ]
  },
  {
   "cell_type": "code",
   "execution_count": 42,
   "id": "6d567400",
   "metadata": {},
   "outputs": [
    {
     "data": {
      "text/plain": [
       "<AxesSubplot:>"
      ]
     },
     "execution_count": 42,
     "metadata": {},
     "output_type": "execute_result"
    },
    {
     "data": {
      "image/png": "[encoded data removed]",
      "text/plain": [
       "<Figure size 432x288 with 1 Axes>"
      ]
     },
     "metadata": {
      "needs_background": "light"
     },
     "output_type": "display_data"
    }
   ],
   "source": [
    "(pd.Series(randomForestClassifier.feature_importances_, index=x.columns)).nlargest(10).plot(kind='barh')"
   ]
  },
  {
   "cell_type": "code",
   "execution_count": 43,
   "id": "172dc832",
   "metadata": {},
   "outputs": [
    {
     "name": "stdout",
     "output_type": "stream",
     "text": [
      "Accuracy of linear svm :  0.9246575342465754\n"
     ]
    }
   ],
   "source": [
    "linear_svm.fit(x_train, y_train)\n",
    "y_pred = linear_svm.predict(x_test)\n",
    "\n",
    "accuracy_scores_histopathological_attributes.append(accuracy_score(y_test, y_pred))\n",
    "print(\"Accuracy of linear svm : \", accuracy_score(y_test, y_pred))"
   ]
  },
  {
   "cell_type": "code",
   "execution_count": 44,
   "id": "a9b550fc",
   "metadata": {},
   "outputs": [
    {
     "data": {
      "text/plain": [
       "<AxesSubplot:>"
      ]
     },
     "execution_count": 44,
     "metadata": {},
     "output_type": "execute_result"
    },
    {
     "data": {
      "image/png": "[encoded data removed]",
      "text/plain": [
       "<Figure size 432x288 with 1 Axes>"
      ]
     },
     "metadata": {
      "needs_background": "light"
     },
     "output_type": "display_data"
    }
   ],
   "source": [
    "importance = linear_svm.coef_[0]\n",
    "\n",
    "(pd.Series(importance, index=x.columns)).nlargest(10).plot(kind='barh')"
   ]
  },
  {
   "cell_type": "code",
   "execution_count": 45,
   "id": "b674a3e0",
   "metadata": {},
   "outputs": [
    {
     "name": "stdout",
     "output_type": "stream",
     "text": [
      "['Logistic Regression', 'Random Forest Classifier', 'Linear Support Vector Machine']\n",
      "[0.9726027397260274, 0.9691780821917808, 0.952054794520548]\n",
      "[0.815068493150685, 0.797945205479452, 0.773972602739726]\n",
      "[0.934931506849315, 0.9143835616438356, 0.9246575342465754]\n"
     ]
    }
   ],
   "source": [
    "print(models_used)\n",
    "print(accuracy_scores_all_attributes)\n",
    "print(accuracy_scores_clinical_attributes)\n",
    "print(accuracy_scores_histopathological_attributes)"
   ]
  },
  {
   "cell_type": "code",
   "execution_count": 46,
   "id": "bb0254ad",
   "metadata": {},
   "outputs": [
    {
     "data": {
      "text/plain": [
       "<matplotlib.legend.Legend at 0x7fb9658eb190>"
      ]
     },
     "execution_count": 46,
     "metadata": {},
     "output_type": "execute_result"
    },
    {
     "data": {
      "image/png": "[encoded data removed]",
      "text/plain": [
       "<Figure size 432x288 with 1 Axes>"
      ]
     },
     "metadata": {
      "needs_background": "light"
     },
     "output_type": "display_data"
    }
   ],
   "source": [
    "plt.plot(models_used, accuracy_scores_all_attributes, label='All attributes')\n",
    "plt.plot(models_used, accuracy_scores_clinical_attributes, label='Clinical attributes')\n",
    "plt.plot(models_used, accuracy_scores_histopathological_attributes, label='Histopathological attributes')\n",
    "plt.legend()"
   ]
  }
 ],
 "metadata": {
  "kernelspec": {
   "display_name": "Python 3 (ipykernel)",
   "language": "python",
   "name": "python3"
  },
  "language_info": {
   "codemirror_mode": {
    "name": "ipython",
    "version": 3
   },
   "file_extension": ".py",
   "mimetype": "text/x-python",
   "name": "python",
   "nbconvert_exporter": "python",
   "pygments_lexer": "ipython3",
   "version": "3.8.10"
  },
  "varInspector": {
   "cols": {
    "lenName": 16,
    "lenType": 16,
    "lenVar": 40
   },
   "kernels_config": {
    "python": {
     "delete_cmd_postfix": "",
     "delete_cmd_prefix": "del ",
     "library": "var_list.py",
     "varRefreshCmd": "print(var_dic_list())"
    },
    "r": {
     "delete_cmd_postfix": ") ",
     "delete_cmd_prefix": "rm(",
     "library": "var_list.r",
     "varRefreshCmd": "cat(var_dic_list()) "
    }
   },
   "types_to_exclude": [
    "module",
    "function",
    "builtin_function_or_method",
    "instance",
    "_Feature"
   ],
   "window_display": false
  }
 },
 "nbformat": 4,
 "nbformat_minor": 5
}
