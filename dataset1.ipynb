{
 "cells": [
  {
   "cell_type": "code",
   "execution_count": 49,
   "id": "eb2efeea",
   "metadata": {},
   "outputs": [],
   "source": [
    "# Importing the necessary libraries\n",
    "\n",
    "import numpy as np\n",
    "import pandas as pd\n",
    "from sklearn.linear_model import LinearRegression\n",
    "from sklearn.model_selection import train_test_split\n",
    "import matplotlib.pyplot as plt\n",
    "import seaborn\n",
    "from sklearn.metrics import accuracy_score"
   ]
  },
  {
   "cell_type": "code",
   "execution_count": 50,
   "id": "968f562a",
   "metadata": {},
   "outputs": [],
   "source": [
    "# reading the csv file\n",
    "\n",
    "df = pd.read_csv(\"data/dermatology_data.data\")"
   ]
  },
  {
   "cell_type": "code",
   "execution_count": 51,
   "id": "98f376d4",
   "metadata": {},
   "outputs": [],
   "source": [
    "#columns\n",
    "\n",
    "\"\"\"We tried to insert the columns directly into the csv file in our local host,\n",
    "   but when opened the file in excel, the excel is filling the unknown or empty cells\n",
    "   with zeros(0).\n",
    "   So we are expilcitly coding the columns in the code.\n",
    "\"\"\"\n",
    "\n",
    "df.columns = ['erythema', 'scaling', 'definite borders', 'itching',\n",
    "       'koebner phenomenon', 'polygonal papules', 'follicular papules',\n",
    "       'oral mucosal involvement', 'knee and elbow involvement',\n",
    "       'scalp involvement', 'family history', 'melanin incontinence',\n",
    "       'eosinophils in the infiltrate', 'PNL infiltrate',\n",
    "       'fibrosis of the papillary dermis', 'exocytosis', 'acanthosis',\n",
    "       'hyperkeratosis', 'parakeratosis', 'clubbing of the rete ridges',\n",
    "       'elongation of the rete ridges',\n",
    "       'thinning of the suprapapillary epidermis', 'spongiform pustule',\n",
    "       'munro microabcess', 'focal hypergranulosis',\n",
    "       'disappearance of the granular layer',\n",
    "       'vacuolisation and damage of basal layer', 'spongiosis',\n",
    "       'saw-tooth appearance of retes', 'follicular horn plug',\n",
    "       'perifollicular parakeratosis', 'inflammatory monoluclear inflitrate',\n",
    "       'band-like infiltrate', 'Age', 'Class Code']"
   ]
  },
  {
   "cell_type": "code",
   "execution_count": 52,
   "id": "e697f609",
   "metadata": {},
   "outputs": [
    {
     "data": {
      "text/plain": [
       "<bound method NDFrame.describe of      erythema  scaling  definite borders  itching  koebner phenomenon   \n",
       "0           3        3                 3        2                   1  \\\n",
       "1           2        1                 2        3                   1   \n",
       "2           2        2                 2        0                   0   \n",
       "3           2        3                 2        2                   2   \n",
       "4           2        3                 2        0                   0   \n",
       "..        ...      ...               ...      ...                 ...   \n",
       "360         2        1                 1        0                   1   \n",
       "361         3        2                 1        0                   1   \n",
       "362         3        2                 2        2                   3   \n",
       "363         2        1                 3        1                   2   \n",
       "364         3        2                 2        0                   0   \n",
       "\n",
       "     polygonal papules  follicular papules  oral mucosal involvement   \n",
       "0                    0                   0                         0  \\\n",
       "1                    3                   0                         3   \n",
       "2                    0                   0                         0   \n",
       "3                    2                   0                         2   \n",
       "4                    0                   0                         0   \n",
       "..                 ...                 ...                       ...   \n",
       "360                  0                   0                         0   \n",
       "361                  0                   0                         0   \n",
       "362                  2                   0                         2   \n",
       "363                  3                   0                         2   \n",
       "364                  0                   0                         0   \n",
       "\n",
       "     knee and elbow involvement  scalp involvement  ...   \n",
       "0                             1                  1  ...  \\\n",
       "1                             0                  0  ...   \n",
       "2                             3                  2  ...   \n",
       "3                             0                  0  ...   \n",
       "4                             0                  0  ...   \n",
       "..                          ...                ...  ...   \n",
       "360                           0                  0  ...   \n",
       "361                           0                  0  ...   \n",
       "362                           0                  0  ...   \n",
       "363                           0                  0  ...   \n",
       "364                           3                  3  ...   \n",
       "\n",
       "     disappearance of the granular layer   \n",
       "0                                      0  \\\n",
       "1                                      0   \n",
       "2                                      3   \n",
       "3                                      2   \n",
       "4                                      0   \n",
       "..                                   ...   \n",
       "360                                    0   \n",
       "361                                    1   \n",
       "362                                    0   \n",
       "363                                    0   \n",
       "364                                    2   \n",
       "\n",
       "     vacuolisation and damage of basal layer  spongiosis   \n",
       "0                                          0           0  \\\n",
       "1                                          2           3   \n",
       "2                                          0           0   \n",
       "3                                          3           2   \n",
       "4                                          0           2   \n",
       "..                                       ...         ...   \n",
       "360                                        0           1   \n",
       "361                                        0           1   \n",
       "362                                        3           0   \n",
       "363                                        2           0   \n",
       "364                                        0           0   \n",
       "\n",
       "     saw-tooth appearance of retes  follicular horn plug   \n",
       "0                                0                     0  \\\n",
       "1                                2                     0   \n",
       "2                                0                     0   \n",
       "3                                3                     0   \n",
       "4                                0                     0   \n",
       "..                             ...                   ...   \n",
       "360                              0                     0   \n",
       "361                              0                     0   \n",
       "362                              3                     0   \n",
       "363                              1                     0   \n",
       "364                              0                     0   \n",
       "\n",
       "     perifollicular parakeratosis  inflammatory monoluclear inflitrate   \n",
       "0                               0                                    1  \\\n",
       "1                               0                                    2   \n",
       "2                               0                                    3   \n",
       "3                               0                                    2   \n",
       "4                               0                                    1   \n",
       "..                            ...                                  ...   \n",
       "360                             0                                    2   \n",
       "361                             0                                    2   \n",
       "362                             0                                    2   \n",
       "363                             0                                    2   \n",
       "364                             0                                    3   \n",
       "\n",
       "     band-like infiltrate  Age  Class Code  \n",
       "0                       0    8           1  \n",
       "1                       3   26           3  \n",
       "2                       0   40           1  \n",
       "3                       3   45           3  \n",
       "4                       0   41           2  \n",
       "..                    ...  ...         ...  \n",
       "360                     0   25           4  \n",
       "361                     0   36           4  \n",
       "362                     3   28           3  \n",
       "363                     3   50           3  \n",
       "364                     0   35           1  \n",
       "\n",
       "[365 rows x 35 columns]>"
      ]
     },
     "execution_count": 52,
     "metadata": {},
     "output_type": "execute_result"
    }
   ],
   "source": [
    "df.describe"
   ]
  },
  {
   "cell_type": "code",
   "execution_count": 53,
   "id": "5fc07a83",
   "metadata": {},
   "outputs": [
    {
     "data": {
      "text/plain": [
       "erythema                                     int64\n",
       "scaling                                      int64\n",
       "definite borders                             int64\n",
       "itching                                      int64\n",
       "koebner phenomenon                           int64\n",
       "polygonal papules                            int64\n",
       "follicular papules                           int64\n",
       "oral mucosal involvement                     int64\n",
       "knee and elbow involvement                   int64\n",
       "scalp involvement                            int64\n",
       "family history                               int64\n",
       "melanin incontinence                         int64\n",
       "eosinophils in the infiltrate                int64\n",
       "PNL infiltrate                               int64\n",
       "fibrosis of the papillary dermis             int64\n",
       "exocytosis                                   int64\n",
       "acanthosis                                   int64\n",
       "hyperkeratosis                               int64\n",
       "parakeratosis                                int64\n",
       "clubbing of the rete ridges                  int64\n",
       "elongation of the rete ridges                int64\n",
       "thinning of the suprapapillary epidermis     int64\n",
       "spongiform pustule                           int64\n",
       "munro microabcess                            int64\n",
       "focal hypergranulosis                        int64\n",
       "disappearance of the granular layer          int64\n",
       "vacuolisation and damage of basal layer      int64\n",
       "spongiosis                                   int64\n",
       "saw-tooth appearance of retes                int64\n",
       "follicular horn plug                         int64\n",
       "perifollicular parakeratosis                 int64\n",
       "inflammatory monoluclear inflitrate          int64\n",
       "band-like infiltrate                         int64\n",
       "Age                                         object\n",
       "Class Code                                   int64\n",
       "dtype: object"
      ]
     },
     "execution_count": 53,
     "metadata": {},
     "output_type": "execute_result"
    }
   ],
   "source": [
    "df.dtypes"
   ]
  },
  {
   "cell_type": "code",
   "execution_count": 54,
   "id": "9ce3566b",
   "metadata": {},
   "outputs": [
    {
     "ename": "ValueError",
     "evalue": "could not convert string to float: '?'",
     "output_type": "error",
     "traceback": [
      "\u001b[1;31m---------------------------------------------------------------------------\u001b[0m",
      "\u001b[1;31mValueError\u001b[0m                                Traceback (most recent call last)",
      "Cell \u001b[1;32mIn[54], line 3\u001b[0m\n\u001b[0;32m      1\u001b[0m \u001b[38;5;66;03m# preparing the correlation matrix\u001b[39;00m\n\u001b[1;32m----> 3\u001b[0m \u001b[38;5;28mprint\u001b[39m(\u001b[43mdf\u001b[49m\u001b[38;5;241;43m.\u001b[39;49m\u001b[43mcorr\u001b[49m\u001b[43m(\u001b[49m\u001b[43m)\u001b[49m)\n",
      "File \u001b[1;32m~\\AppData\\Local\\Programs\\Python\\Python38\\lib\\site-packages\\pandas\\core\\frame.py:10054\u001b[0m, in \u001b[0;36mDataFrame.corr\u001b[1;34m(self, method, min_periods, numeric_only)\u001b[0m\n\u001b[0;32m  10052\u001b[0m cols \u001b[38;5;241m=\u001b[39m data\u001b[38;5;241m.\u001b[39mcolumns\n\u001b[0;32m  10053\u001b[0m idx \u001b[38;5;241m=\u001b[39m cols\u001b[38;5;241m.\u001b[39mcopy()\n\u001b[1;32m> 10054\u001b[0m mat \u001b[38;5;241m=\u001b[39m \u001b[43mdata\u001b[49m\u001b[38;5;241;43m.\u001b[39;49m\u001b[43mto_numpy\u001b[49m\u001b[43m(\u001b[49m\u001b[43mdtype\u001b[49m\u001b[38;5;241;43m=\u001b[39;49m\u001b[38;5;28;43mfloat\u001b[39;49m\u001b[43m,\u001b[49m\u001b[43m \u001b[49m\u001b[43mna_value\u001b[49m\u001b[38;5;241;43m=\u001b[39;49m\u001b[43mnp\u001b[49m\u001b[38;5;241;43m.\u001b[39;49m\u001b[43mnan\u001b[49m\u001b[43m,\u001b[49m\u001b[43m \u001b[49m\u001b[43mcopy\u001b[49m\u001b[38;5;241;43m=\u001b[39;49m\u001b[38;5;28;43;01mFalse\u001b[39;49;00m\u001b[43m)\u001b[49m\n\u001b[0;32m  10056\u001b[0m \u001b[38;5;28;01mif\u001b[39;00m method \u001b[38;5;241m==\u001b[39m \u001b[38;5;124m\"\u001b[39m\u001b[38;5;124mpearson\u001b[39m\u001b[38;5;124m\"\u001b[39m:\n\u001b[0;32m  10057\u001b[0m     correl \u001b[38;5;241m=\u001b[39m libalgos\u001b[38;5;241m.\u001b[39mnancorr(mat, minp\u001b[38;5;241m=\u001b[39mmin_periods)\n",
      "File \u001b[1;32m~\\AppData\\Local\\Programs\\Python\\Python38\\lib\\site-packages\\pandas\\core\\frame.py:1837\u001b[0m, in \u001b[0;36mDataFrame.to_numpy\u001b[1;34m(self, dtype, copy, na_value)\u001b[0m\n\u001b[0;32m   1835\u001b[0m \u001b[38;5;28;01mif\u001b[39;00m dtype \u001b[38;5;129;01mis\u001b[39;00m \u001b[38;5;129;01mnot\u001b[39;00m \u001b[38;5;28;01mNone\u001b[39;00m:\n\u001b[0;32m   1836\u001b[0m     dtype \u001b[38;5;241m=\u001b[39m np\u001b[38;5;241m.\u001b[39mdtype(dtype)\n\u001b[1;32m-> 1837\u001b[0m result \u001b[38;5;241m=\u001b[39m \u001b[38;5;28;43mself\u001b[39;49m\u001b[38;5;241;43m.\u001b[39;49m\u001b[43m_mgr\u001b[49m\u001b[38;5;241;43m.\u001b[39;49m\u001b[43mas_array\u001b[49m\u001b[43m(\u001b[49m\u001b[43mdtype\u001b[49m\u001b[38;5;241;43m=\u001b[39;49m\u001b[43mdtype\u001b[49m\u001b[43m,\u001b[49m\u001b[43m \u001b[49m\u001b[43mcopy\u001b[49m\u001b[38;5;241;43m=\u001b[39;49m\u001b[43mcopy\u001b[49m\u001b[43m,\u001b[49m\u001b[43m \u001b[49m\u001b[43mna_value\u001b[49m\u001b[38;5;241;43m=\u001b[39;49m\u001b[43mna_value\u001b[49m\u001b[43m)\u001b[49m\n\u001b[0;32m   1838\u001b[0m \u001b[38;5;28;01mif\u001b[39;00m result\u001b[38;5;241m.\u001b[39mdtype \u001b[38;5;129;01mis\u001b[39;00m \u001b[38;5;129;01mnot\u001b[39;00m dtype:\n\u001b[0;32m   1839\u001b[0m     result \u001b[38;5;241m=\u001b[39m np\u001b[38;5;241m.\u001b[39marray(result, dtype\u001b[38;5;241m=\u001b[39mdtype, copy\u001b[38;5;241m=\u001b[39m\u001b[38;5;28;01mFalse\u001b[39;00m)\n",
      "File \u001b[1;32m~\\AppData\\Local\\Programs\\Python\\Python38\\lib\\site-packages\\pandas\\core\\internals\\managers.py:1732\u001b[0m, in \u001b[0;36mBlockManager.as_array\u001b[1;34m(self, dtype, copy, na_value)\u001b[0m\n\u001b[0;32m   1730\u001b[0m         arr\u001b[38;5;241m.\u001b[39mflags\u001b[38;5;241m.\u001b[39mwriteable \u001b[38;5;241m=\u001b[39m \u001b[38;5;28;01mFalse\u001b[39;00m\n\u001b[0;32m   1731\u001b[0m \u001b[38;5;28;01melse\u001b[39;00m:\n\u001b[1;32m-> 1732\u001b[0m     arr \u001b[38;5;241m=\u001b[39m \u001b[38;5;28;43mself\u001b[39;49m\u001b[38;5;241;43m.\u001b[39;49m\u001b[43m_interleave\u001b[49m\u001b[43m(\u001b[49m\u001b[43mdtype\u001b[49m\u001b[38;5;241;43m=\u001b[39;49m\u001b[43mdtype\u001b[49m\u001b[43m,\u001b[49m\u001b[43m \u001b[49m\u001b[43mna_value\u001b[49m\u001b[38;5;241;43m=\u001b[39;49m\u001b[43mna_value\u001b[49m\u001b[43m)\u001b[49m\n\u001b[0;32m   1733\u001b[0m     \u001b[38;5;66;03m# The underlying data was copied within _interleave, so no need\u001b[39;00m\n\u001b[0;32m   1734\u001b[0m     \u001b[38;5;66;03m# to further copy if copy=True or setting na_value\u001b[39;00m\n\u001b[0;32m   1736\u001b[0m \u001b[38;5;28;01mif\u001b[39;00m na_value \u001b[38;5;129;01mis\u001b[39;00m \u001b[38;5;129;01mnot\u001b[39;00m lib\u001b[38;5;241m.\u001b[39mno_default:\n",
      "File \u001b[1;32m~\\AppData\\Local\\Programs\\Python\\Python38\\lib\\site-packages\\pandas\\core\\internals\\managers.py:1794\u001b[0m, in \u001b[0;36mBlockManager._interleave\u001b[1;34m(self, dtype, na_value)\u001b[0m\n\u001b[0;32m   1792\u001b[0m     \u001b[38;5;28;01melse\u001b[39;00m:\n\u001b[0;32m   1793\u001b[0m         arr \u001b[38;5;241m=\u001b[39m blk\u001b[38;5;241m.\u001b[39mget_values(dtype)\n\u001b[1;32m-> 1794\u001b[0m     \u001b[43mresult\u001b[49m\u001b[43m[\u001b[49m\u001b[43mrl\u001b[49m\u001b[38;5;241;43m.\u001b[39;49m\u001b[43mindexer\u001b[49m\u001b[43m]\u001b[49m \u001b[38;5;241m=\u001b[39m arr\n\u001b[0;32m   1795\u001b[0m     itemmask[rl\u001b[38;5;241m.\u001b[39mindexer] \u001b[38;5;241m=\u001b[39m \u001b[38;5;241m1\u001b[39m\n\u001b[0;32m   1797\u001b[0m \u001b[38;5;28;01mif\u001b[39;00m \u001b[38;5;129;01mnot\u001b[39;00m itemmask\u001b[38;5;241m.\u001b[39mall():\n",
      "\u001b[1;31mValueError\u001b[0m: could not convert string to float: '?'"
     ]
    }
   ],
   "source": [
    "# preparing the correlation matrix\n",
    "\n",
    "print(df.corr())"
   ]
  },
  {
   "cell_type": "code",
   "execution_count": null,
   "id": "c6d268c1",
   "metadata": {},
   "outputs": [],
   "source": [
    "plt.matshow(df.corr())\n",
    "plt.show()"
   ]
  },
  {
   "cell_type": "code",
   "execution_count": null,
   "id": "8e606a9e",
   "metadata": {},
   "outputs": [],
   "source": [
    "seaborn.heatmap(df.corr())\n",
    "plt.savefig(\"plots/Correlation Matrix.png\")"
   ]
  },
  {
   "cell_type": "code",
   "execution_count": 55,
   "id": "6d5fe5d5",
   "metadata": {},
   "outputs": [
    {
     "name": "stdout",
     "output_type": "stream",
     "text": [
      "8\n",
      "[32, 33, 34, 35, 261, 262, 263, 264]\n"
     ]
    }
   ],
   "source": [
    "# Data Cleaning\n",
    "\n",
    "\"\"\"\n",
    "Link to the source of data : https://archive.ics.uci.edu/ml/datasets/Dermatology\n",
    "In the resource itself they provided that there are 8 missing values in Age attribute.\n",
    "This data is part of an intensive reasearch project.\n",
    "So there may not be a lot of missing data.\n",
    "\"\"\"\n",
    "\n",
    "\"\"\"\n",
    "Here I am using regression and I am training the model with all the attributes except 'Age'.\n",
    "\"\"\"\n",
    "\n",
    "df_copy = df.copy(deep=True)\n",
    "\n",
    "list_of_indexes = []  # to strore the indexes where the data is '?'\n",
    "count = 0 \n",
    "\n",
    "for i in range(len(df_copy)):\n",
    "    if(df_copy['Age'][i]=='?'):\n",
    "        count = count + 1\n",
    "        list_of_indexes.append(i)\n",
    "\n",
    "print(count)\n",
    "print(list_of_indexes)"
   ]
  },
  {
   "cell_type": "code",
   "execution_count": 56,
   "id": "a9cc9af5",
   "metadata": {},
   "outputs": [
    {
     "data": {
      "text/html": [
       "<div>\n",
       "<style scoped>\n",
       "    .dataframe tbody tr th:only-of-type {\n",
       "        vertical-align: middle;\n",
       "    }\n",
       "\n",
       "    .dataframe tbody tr th {\n",
       "        vertical-align: top;\n",
       "    }\n",
       "\n",
       "    .dataframe thead th {\n",
       "        text-align: right;\n",
       "    }\n",
       "</style>\n",
       "<table border=\"1\" class=\"dataframe\">\n",
       "  <thead>\n",
       "    <tr style=\"text-align: right;\">\n",
       "      <th></th>\n",
       "      <th>erythema</th>\n",
       "      <th>scaling</th>\n",
       "      <th>definite borders</th>\n",
       "      <th>itching</th>\n",
       "      <th>koebner phenomenon</th>\n",
       "      <th>polygonal papules</th>\n",
       "      <th>follicular papules</th>\n",
       "      <th>oral mucosal involvement</th>\n",
       "      <th>knee and elbow involvement</th>\n",
       "      <th>scalp involvement</th>\n",
       "      <th>...</th>\n",
       "      <th>disappearance of the granular layer</th>\n",
       "      <th>vacuolisation and damage of basal layer</th>\n",
       "      <th>spongiosis</th>\n",
       "      <th>saw-tooth appearance of retes</th>\n",
       "      <th>follicular horn plug</th>\n",
       "      <th>perifollicular parakeratosis</th>\n",
       "      <th>inflammatory monoluclear inflitrate</th>\n",
       "      <th>band-like infiltrate</th>\n",
       "      <th>Age</th>\n",
       "      <th>Class Code</th>\n",
       "    </tr>\n",
       "  </thead>\n",
       "  <tbody>\n",
       "    <tr>\n",
       "      <th>32</th>\n",
       "      <td>2</td>\n",
       "      <td>2</td>\n",
       "      <td>1</td>\n",
       "      <td>0</td>\n",
       "      <td>0</td>\n",
       "      <td>0</td>\n",
       "      <td>0</td>\n",
       "      <td>0</td>\n",
       "      <td>1</td>\n",
       "      <td>0</td>\n",
       "      <td>...</td>\n",
       "      <td>0</td>\n",
       "      <td>0</td>\n",
       "      <td>0</td>\n",
       "      <td>0</td>\n",
       "      <td>0</td>\n",
       "      <td>0</td>\n",
       "      <td>0</td>\n",
       "      <td>0</td>\n",
       "      <td>?</td>\n",
       "      <td>1</td>\n",
       "    </tr>\n",
       "    <tr>\n",
       "      <th>33</th>\n",
       "      <td>2</td>\n",
       "      <td>1</td>\n",
       "      <td>0</td>\n",
       "      <td>0</td>\n",
       "      <td>2</td>\n",
       "      <td>0</td>\n",
       "      <td>0</td>\n",
       "      <td>0</td>\n",
       "      <td>0</td>\n",
       "      <td>0</td>\n",
       "      <td>...</td>\n",
       "      <td>0</td>\n",
       "      <td>0</td>\n",
       "      <td>0</td>\n",
       "      <td>0</td>\n",
       "      <td>0</td>\n",
       "      <td>0</td>\n",
       "      <td>0</td>\n",
       "      <td>0</td>\n",
       "      <td>?</td>\n",
       "      <td>4</td>\n",
       "    </tr>\n",
       "    <tr>\n",
       "      <th>34</th>\n",
       "      <td>2</td>\n",
       "      <td>2</td>\n",
       "      <td>1</td>\n",
       "      <td>2</td>\n",
       "      <td>0</td>\n",
       "      <td>0</td>\n",
       "      <td>0</td>\n",
       "      <td>0</td>\n",
       "      <td>0</td>\n",
       "      <td>0</td>\n",
       "      <td>...</td>\n",
       "      <td>0</td>\n",
       "      <td>0</td>\n",
       "      <td>0</td>\n",
       "      <td>0</td>\n",
       "      <td>0</td>\n",
       "      <td>0</td>\n",
       "      <td>0</td>\n",
       "      <td>0</td>\n",
       "      <td>?</td>\n",
       "      <td>2</td>\n",
       "    </tr>\n",
       "    <tr>\n",
       "      <th>35</th>\n",
       "      <td>2</td>\n",
       "      <td>1</td>\n",
       "      <td>2</td>\n",
       "      <td>3</td>\n",
       "      <td>2</td>\n",
       "      <td>3</td>\n",
       "      <td>0</td>\n",
       "      <td>2</td>\n",
       "      <td>0</td>\n",
       "      <td>0</td>\n",
       "      <td>...</td>\n",
       "      <td>0</td>\n",
       "      <td>2</td>\n",
       "      <td>0</td>\n",
       "      <td>2</td>\n",
       "      <td>0</td>\n",
       "      <td>0</td>\n",
       "      <td>0</td>\n",
       "      <td>3</td>\n",
       "      <td>?</td>\n",
       "      <td>3</td>\n",
       "    </tr>\n",
       "    <tr>\n",
       "      <th>261</th>\n",
       "      <td>2</td>\n",
       "      <td>1</td>\n",
       "      <td>0</td>\n",
       "      <td>2</td>\n",
       "      <td>0</td>\n",
       "      <td>0</td>\n",
       "      <td>0</td>\n",
       "      <td>0</td>\n",
       "      <td>0</td>\n",
       "      <td>0</td>\n",
       "      <td>...</td>\n",
       "      <td>0</td>\n",
       "      <td>0</td>\n",
       "      <td>2</td>\n",
       "      <td>0</td>\n",
       "      <td>0</td>\n",
       "      <td>0</td>\n",
       "      <td>3</td>\n",
       "      <td>0</td>\n",
       "      <td>?</td>\n",
       "      <td>5</td>\n",
       "    </tr>\n",
       "    <tr>\n",
       "      <th>262</th>\n",
       "      <td>1</td>\n",
       "      <td>1</td>\n",
       "      <td>1</td>\n",
       "      <td>3</td>\n",
       "      <td>0</td>\n",
       "      <td>0</td>\n",
       "      <td>0</td>\n",
       "      <td>0</td>\n",
       "      <td>0</td>\n",
       "      <td>0</td>\n",
       "      <td>...</td>\n",
       "      <td>0</td>\n",
       "      <td>0</td>\n",
       "      <td>3</td>\n",
       "      <td>0</td>\n",
       "      <td>0</td>\n",
       "      <td>0</td>\n",
       "      <td>2</td>\n",
       "      <td>0</td>\n",
       "      <td>?</td>\n",
       "      <td>5</td>\n",
       "    </tr>\n",
       "    <tr>\n",
       "      <th>263</th>\n",
       "      <td>1</td>\n",
       "      <td>1</td>\n",
       "      <td>0</td>\n",
       "      <td>2</td>\n",
       "      <td>0</td>\n",
       "      <td>0</td>\n",
       "      <td>0</td>\n",
       "      <td>0</td>\n",
       "      <td>1</td>\n",
       "      <td>0</td>\n",
       "      <td>...</td>\n",
       "      <td>0</td>\n",
       "      <td>0</td>\n",
       "      <td>2</td>\n",
       "      <td>0</td>\n",
       "      <td>0</td>\n",
       "      <td>0</td>\n",
       "      <td>3</td>\n",
       "      <td>0</td>\n",
       "      <td>?</td>\n",
       "      <td>5</td>\n",
       "    </tr>\n",
       "    <tr>\n",
       "      <th>264</th>\n",
       "      <td>1</td>\n",
       "      <td>1</td>\n",
       "      <td>0</td>\n",
       "      <td>3</td>\n",
       "      <td>0</td>\n",
       "      <td>0</td>\n",
       "      <td>0</td>\n",
       "      <td>0</td>\n",
       "      <td>0</td>\n",
       "      <td>0</td>\n",
       "      <td>...</td>\n",
       "      <td>0</td>\n",
       "      <td>0</td>\n",
       "      <td>2</td>\n",
       "      <td>0</td>\n",
       "      <td>0</td>\n",
       "      <td>0</td>\n",
       "      <td>3</td>\n",
       "      <td>0</td>\n",
       "      <td>?</td>\n",
       "      <td>5</td>\n",
       "    </tr>\n",
       "  </tbody>\n",
       "</table>\n",
       "<p>8 rows × 35 columns</p>\n",
       "</div>"
      ],
      "text/plain": [
       "     erythema  scaling  definite borders  itching  koebner phenomenon   \n",
       "32          2        2                 1        0                   0  \\\n",
       "33          2        1                 0        0                   2   \n",
       "34          2        2                 1        2                   0   \n",
       "35          2        1                 2        3                   2   \n",
       "261         2        1                 0        2                   0   \n",
       "262         1        1                 1        3                   0   \n",
       "263         1        1                 0        2                   0   \n",
       "264         1        1                 0        3                   0   \n",
       "\n",
       "     polygonal papules  follicular papules  oral mucosal involvement   \n",
       "32                   0                   0                         0  \\\n",
       "33                   0                   0                         0   \n",
       "34                   0                   0                         0   \n",
       "35                   3                   0                         2   \n",
       "261                  0                   0                         0   \n",
       "262                  0                   0                         0   \n",
       "263                  0                   0                         0   \n",
       "264                  0                   0                         0   \n",
       "\n",
       "     knee and elbow involvement  scalp involvement  ...   \n",
       "32                            1                  0  ...  \\\n",
       "33                            0                  0  ...   \n",
       "34                            0                  0  ...   \n",
       "35                            0                  0  ...   \n",
       "261                           0                  0  ...   \n",
       "262                           0                  0  ...   \n",
       "263                           1                  0  ...   \n",
       "264                           0                  0  ...   \n",
       "\n",
       "     disappearance of the granular layer   \n",
       "32                                     0  \\\n",
       "33                                     0   \n",
       "34                                     0   \n",
       "35                                     0   \n",
       "261                                    0   \n",
       "262                                    0   \n",
       "263                                    0   \n",
       "264                                    0   \n",
       "\n",
       "     vacuolisation and damage of basal layer  spongiosis   \n",
       "32                                         0           0  \\\n",
       "33                                         0           0   \n",
       "34                                         0           0   \n",
       "35                                         2           0   \n",
       "261                                        0           2   \n",
       "262                                        0           3   \n",
       "263                                        0           2   \n",
       "264                                        0           2   \n",
       "\n",
       "     saw-tooth appearance of retes  follicular horn plug   \n",
       "32                               0                     0  \\\n",
       "33                               0                     0   \n",
       "34                               0                     0   \n",
       "35                               2                     0   \n",
       "261                              0                     0   \n",
       "262                              0                     0   \n",
       "263                              0                     0   \n",
       "264                              0                     0   \n",
       "\n",
       "     perifollicular parakeratosis  inflammatory monoluclear inflitrate   \n",
       "32                              0                                    0  \\\n",
       "33                              0                                    0   \n",
       "34                              0                                    0   \n",
       "35                              0                                    0   \n",
       "261                             0                                    3   \n",
       "262                             0                                    2   \n",
       "263                             0                                    3   \n",
       "264                             0                                    3   \n",
       "\n",
       "     band-like infiltrate  Age  Class Code  \n",
       "32                      0    ?           1  \n",
       "33                      0    ?           4  \n",
       "34                      0    ?           2  \n",
       "35                      3    ?           3  \n",
       "261                     0    ?           5  \n",
       "262                     0    ?           5  \n",
       "263                     0    ?           5  \n",
       "264                     0    ?           5  \n",
       "\n",
       "[8 rows x 35 columns]"
      ]
     },
     "execution_count": 56,
     "metadata": {},
     "output_type": "execute_result"
    }
   ],
   "source": [
    "# finding the rows where there is missing data\n",
    "\n",
    "df_copy[df_copy['Age'] == '?']"
   ]
  },
  {
   "cell_type": "code",
   "execution_count": 57,
   "id": "590cabde",
   "metadata": {},
   "outputs": [],
   "source": [
    "# dropping the columns from the deep copy of the df to train the model\n",
    "\n",
    "for i in range(len(df_copy)):\n",
    "    if(df_copy['Age'][i]=='?'):\n",
    "        df_copy.drop(i, axis=0, inplace=True)"
   ]
  },
  {
   "cell_type": "code",
   "execution_count": 58,
   "id": "c37b5aa8",
   "metadata": {},
   "outputs": [
    {
     "data": {
      "text/html": [
       "<div>\n",
       "<style scoped>\n",
       "    .dataframe tbody tr th:only-of-type {\n",
       "        vertical-align: middle;\n",
       "    }\n",
       "\n",
       "    .dataframe tbody tr th {\n",
       "        vertical-align: top;\n",
       "    }\n",
       "\n",
       "    .dataframe thead th {\n",
       "        text-align: right;\n",
       "    }\n",
       "</style>\n",
       "<table border=\"1\" class=\"dataframe\">\n",
       "  <thead>\n",
       "    <tr style=\"text-align: right;\">\n",
       "      <th></th>\n",
       "      <th>erythema</th>\n",
       "      <th>scaling</th>\n",
       "      <th>definite borders</th>\n",
       "      <th>itching</th>\n",
       "      <th>koebner phenomenon</th>\n",
       "      <th>polygonal papules</th>\n",
       "      <th>follicular papules</th>\n",
       "      <th>oral mucosal involvement</th>\n",
       "      <th>knee and elbow involvement</th>\n",
       "      <th>scalp involvement</th>\n",
       "      <th>...</th>\n",
       "      <th>disappearance of the granular layer</th>\n",
       "      <th>vacuolisation and damage of basal layer</th>\n",
       "      <th>spongiosis</th>\n",
       "      <th>saw-tooth appearance of retes</th>\n",
       "      <th>follicular horn plug</th>\n",
       "      <th>perifollicular parakeratosis</th>\n",
       "      <th>inflammatory monoluclear inflitrate</th>\n",
       "      <th>band-like infiltrate</th>\n",
       "      <th>Age</th>\n",
       "      <th>Class Code</th>\n",
       "    </tr>\n",
       "  </thead>\n",
       "  <tbody>\n",
       "  </tbody>\n",
       "</table>\n",
       "<p>0 rows × 35 columns</p>\n",
       "</div>"
      ],
      "text/plain": [
       "Empty DataFrame\n",
       "Columns: [erythema, scaling, definite borders, itching, koebner phenomenon, polygonal papules, follicular papules, oral mucosal involvement, knee and elbow involvement, scalp involvement, family history, melanin incontinence, eosinophils in the infiltrate, PNL infiltrate, fibrosis of the papillary dermis, exocytosis, acanthosis, hyperkeratosis, parakeratosis, clubbing of the rete ridges, elongation of the rete ridges, thinning of the suprapapillary epidermis, spongiform pustule, munro microabcess, focal hypergranulosis, disappearance of the granular layer, vacuolisation and damage of basal layer, spongiosis, saw-tooth appearance of retes, follicular horn plug, perifollicular parakeratosis, inflammatory monoluclear inflitrate, band-like infiltrate, Age, Class Code]\n",
       "Index: []\n",
       "\n",
       "[0 rows x 35 columns]"
      ]
     },
     "execution_count": 58,
     "metadata": {},
     "output_type": "execute_result"
    }
   ],
   "source": [
    "# ensuring the data was cleaned\n",
    "\n",
    "df_copy[df_copy['Age'] == '?']"
   ]
  },
  {
   "cell_type": "code",
   "execution_count": 59,
   "id": "8a93918e",
   "metadata": {},
   "outputs": [
    {
     "data": {
      "text/html": [
       "<style>#sk-container-id-4 {color: black;background-color: white;}#sk-container-id-4 pre{padding: 0;}#sk-container-id-4 div.sk-toggleable {background-color: white;}#sk-container-id-4 label.sk-toggleable__label {cursor: pointer;display: block;width: 100%;margin-bottom: 0;padding: 0.3em;box-sizing: border-box;text-align: center;}#sk-container-id-4 label.sk-toggleable__label-arrow:before {content: \"▸\";float: left;margin-right: 0.25em;color: #696969;}#sk-container-id-4 label.sk-toggleable__label-arrow:hover:before {color: black;}#sk-container-id-4 div.sk-estimator:hover label.sk-toggleable__label-arrow:before {color: black;}#sk-container-id-4 div.sk-toggleable__content {max-height: 0;max-width: 0;overflow: hidden;text-align: left;background-color: #f0f8ff;}#sk-container-id-4 div.sk-toggleable__content pre {margin: 0.2em;color: black;border-radius: 0.25em;background-color: #f0f8ff;}#sk-container-id-4 input.sk-toggleable__control:checked~div.sk-toggleable__content {max-height: 200px;max-width: 100%;overflow: auto;}#sk-container-id-4 input.sk-toggleable__control:checked~label.sk-toggleable__label-arrow:before {content: \"▾\";}#sk-container-id-4 div.sk-estimator input.sk-toggleable__control:checked~label.sk-toggleable__label {background-color: #d4ebff;}#sk-container-id-4 div.sk-label input.sk-toggleable__control:checked~label.sk-toggleable__label {background-color: #d4ebff;}#sk-container-id-4 input.sk-hidden--visually {border: 0;clip: rect(1px 1px 1px 1px);clip: rect(1px, 1px, 1px, 1px);height: 1px;margin: -1px;overflow: hidden;padding: 0;position: absolute;width: 1px;}#sk-container-id-4 div.sk-estimator {font-family: monospace;background-color: #f0f8ff;border: 1px dotted black;border-radius: 0.25em;box-sizing: border-box;margin-bottom: 0.5em;}#sk-container-id-4 div.sk-estimator:hover {background-color: #d4ebff;}#sk-container-id-4 div.sk-parallel-item::after {content: \"\";width: 100%;border-bottom: 1px solid gray;flex-grow: 1;}#sk-container-id-4 div.sk-label:hover label.sk-toggleable__label {background-color: #d4ebff;}#sk-container-id-4 div.sk-serial::before {content: \"\";position: absolute;border-left: 1px solid gray;box-sizing: border-box;top: 0;bottom: 0;left: 50%;z-index: 0;}#sk-container-id-4 div.sk-serial {display: flex;flex-direction: column;align-items: center;background-color: white;padding-right: 0.2em;padding-left: 0.2em;position: relative;}#sk-container-id-4 div.sk-item {position: relative;z-index: 1;}#sk-container-id-4 div.sk-parallel {display: flex;align-items: stretch;justify-content: center;background-color: white;position: relative;}#sk-container-id-4 div.sk-item::before, #sk-container-id-4 div.sk-parallel-item::before {content: \"\";position: absolute;border-left: 1px solid gray;box-sizing: border-box;top: 0;bottom: 0;left: 50%;z-index: -1;}#sk-container-id-4 div.sk-parallel-item {display: flex;flex-direction: column;z-index: 1;position: relative;background-color: white;}#sk-container-id-4 div.sk-parallel-item:first-child::after {align-self: flex-end;width: 50%;}#sk-container-id-4 div.sk-parallel-item:last-child::after {align-self: flex-start;width: 50%;}#sk-container-id-4 div.sk-parallel-item:only-child::after {width: 0;}#sk-container-id-4 div.sk-dashed-wrapped {border: 1px dashed gray;margin: 0 0.4em 0.5em 0.4em;box-sizing: border-box;padding-bottom: 0.4em;background-color: white;}#sk-container-id-4 div.sk-label label {font-family: monospace;font-weight: bold;display: inline-block;line-height: 1.2em;}#sk-container-id-4 div.sk-label-container {text-align: center;}#sk-container-id-4 div.sk-container {/* jupyter's `normalize.less` sets `[hidden] { display: none; }` but bootstrap.min.css set `[hidden] { display: none !important; }` so we also need the `!important` here to be able to override the default hidden behavior on the sphinx rendered scikit-learn.org. See: https://github.com/scikit-learn/scikit-learn/issues/21755 */display: inline-block !important;position: relative;}#sk-container-id-4 div.sk-text-repr-fallback {display: none;}</style><div id=\"sk-container-id-4\" class=\"sk-top-container\"><div class=\"sk-text-repr-fallback\"><pre>LinearRegression()</pre><b>In a Jupyter environment, please rerun this cell to show the HTML representation or trust the notebook. <br />On GitHub, the HTML representation is unable to render, please try loading this page with nbviewer.org.</b></div><div class=\"sk-container\" hidden><div class=\"sk-item\"><div class=\"sk-estimator sk-toggleable\"><input class=\"sk-toggleable__control sk-hidden--visually\" id=\"sk-estimator-id-6\" type=\"checkbox\" checked><label for=\"sk-estimator-id-6\" class=\"sk-toggleable__label sk-toggleable__label-arrow\">LinearRegression</label><div class=\"sk-toggleable__content\"><pre>LinearRegression()</pre></div></div></div></div></div>"
      ],
      "text/plain": [
       "LinearRegression()"
      ]
     },
     "execution_count": 59,
     "metadata": {},
     "output_type": "execute_result"
    }
   ],
   "source": [
    "x = df_copy.drop('Age', axis=1) # x -> dataframe without 'Age' attribute\n",
    "y = df_copy['Age'] # y -> dataframe with just the 'Age' attribute\n",
    "\n",
    "#x_train, x_test, y_train, y_test = train_test_split(x, y, test_size=0.2)\n",
    "\n",
    "model = LinearRegression(fit_intercept=True) # defining the linear regression model\n",
    "model.fit(x,y) # training the model with the cleaned data"
   ]
  },
  {
   "cell_type": "code",
   "execution_count": 60,
   "id": "79fdd40f",
   "metadata": {},
   "outputs": [
    {
     "name": "stderr",
     "output_type": "stream",
     "text": [
      "C:\\Users\\Work\\AppData\\Local\\Programs\\Python\\Python38\\lib\\site-packages\\sklearn\\base.py:439: UserWarning: X does not have valid feature names, but LinearRegression was fitted with feature names\n",
      "  warnings.warn(\n",
      "C:\\Users\\Work\\AppData\\Local\\Programs\\Python\\Python38\\lib\\site-packages\\sklearn\\base.py:439: UserWarning: X does not have valid feature names, but LinearRegression was fitted with feature names\n",
      "  warnings.warn(\n",
      "C:\\Users\\Work\\AppData\\Local\\Programs\\Python\\Python38\\lib\\site-packages\\sklearn\\base.py:439: UserWarning: X does not have valid feature names, but LinearRegression was fitted with feature names\n",
      "  warnings.warn(\n",
      "C:\\Users\\Work\\AppData\\Local\\Programs\\Python\\Python38\\lib\\site-packages\\sklearn\\base.py:439: UserWarning: X does not have valid feature names, but LinearRegression was fitted with feature names\n",
      "  warnings.warn(\n",
      "C:\\Users\\Work\\AppData\\Local\\Programs\\Python\\Python38\\lib\\site-packages\\sklearn\\base.py:439: UserWarning: X does not have valid feature names, but LinearRegression was fitted with feature names\n",
      "  warnings.warn(\n",
      "C:\\Users\\Work\\AppData\\Local\\Programs\\Python\\Python38\\lib\\site-packages\\sklearn\\base.py:439: UserWarning: X does not have valid feature names, but LinearRegression was fitted with feature names\n",
      "  warnings.warn(\n",
      "C:\\Users\\Work\\AppData\\Local\\Programs\\Python\\Python38\\lib\\site-packages\\sklearn\\base.py:439: UserWarning: X does not have valid feature names, but LinearRegression was fitted with feature names\n",
      "  warnings.warn(\n",
      "C:\\Users\\Work\\AppData\\Local\\Programs\\Python\\Python38\\lib\\site-packages\\sklearn\\base.py:439: UserWarning: X does not have valid feature names, but LinearRegression was fitted with feature names\n",
      "  warnings.warn(\n"
     ]
    }
   ],
   "source": [
    "x_df = df.drop('Age', axis=1).values.reshape(-1,1)\n",
    "y_df = df['Age']\n",
    "\n",
    "\n",
    "#predicted_values = model.predict(x_df)\n",
    "\n",
    "list_of_predicted_values = []\n",
    "\n",
    "for idx, row in df[df[\"Age\"] == \"?\"].iterrows():\n",
    "    x = df.iloc[idx, list(range(33))+[34]]\n",
    "    age = int (model.predict([x])[0])\n",
    "    list_of_predicted_values.append([idx, age])\n",
    "    df.iloc[idx, 33] = age"
   ]
  },
  {
   "cell_type": "code",
   "execution_count": 61,
   "id": "5eabee50",
   "metadata": {},
   "outputs": [
    {
     "data": {
      "text/plain": [
       "[[32, 38],\n",
       " [33, 34],\n",
       " [34, 36],\n",
       " [35, 34],\n",
       " [261, 37],\n",
       " [262, 40],\n",
       " [263, 39],\n",
       " [264, 36]]"
      ]
     },
     "execution_count": 61,
     "metadata": {},
     "output_type": "execute_result"
    }
   ],
   "source": [
    "list_of_predicted_values # Predicted values by the model along with the row numbers"
   ]
  },
  {
   "cell_type": "code",
   "execution_count": 62,
   "id": "95f96efc",
   "metadata": {},
   "outputs": [],
   "source": [
    "# The data consists of different set of attributes\n",
    "# One is clinical attributes and second is histopathological attributes\n",
    "\n",
    "# Selecting the clinical data attributes and creating the clinical dataframe\n",
    "\n",
    "clinical_df = df[['erythema', 'scaling', 'definite borders', 'itching',\n",
    "       'koebner phenomenon', 'polygonal papules', 'follicular papules',\n",
    "       'oral mucosal involvement', 'knee and elbow involvement',\n",
    "       'scalp involvement', 'family history', 'Age']]"
   ]
  },
  {
   "cell_type": "code",
   "execution_count": 63,
   "id": "1521bd21",
   "metadata": {},
   "outputs": [],
   "source": [
    "# Selecting the histopathological data attributes and creating the histopathological dataframe\n",
    "\n",
    "histopathological_df = df[['melanin incontinence',\n",
    "       'eosinophils in the infiltrate', 'PNL infiltrate',\n",
    "       'fibrosis of the papillary dermis', 'exocytosis', 'acanthosis',\n",
    "       'hyperkeratosis', 'parakeratosis', 'clubbing of the rete ridges',\n",
    "       'elongation of the rete ridges',\n",
    "       'thinning of the suprapapillary epidermis', 'spongiform pustule',\n",
    "       'munro microabcess', 'focal hypergranulosis',\n",
    "       'disappearance of the granular layer',\n",
    "       'vacuolisation and damage of basal layer', 'spongiosis',\n",
    "       'saw-tooth appearance of retes', 'follicular horn plug',\n",
    "       'perifollicular parakeratosis', 'inflammatory monoluclear inflitrate',\n",
    "       'band-like infiltrate']]"
   ]
  },
  {
   "cell_type": "code",
   "execution_count": 64,
   "id": "c7adcad3",
   "metadata": {},
   "outputs": [
    {
     "data": {
      "text/plain": [
       "<bound method NDFrame.describe of      erythema  scaling  definite borders  itching  koebner phenomenon   \n",
       "0           3        3                 3        2                   1  \\\n",
       "1           2        1                 2        3                   1   \n",
       "2           2        2                 2        0                   0   \n",
       "3           2        3                 2        2                   2   \n",
       "4           2        3                 2        0                   0   \n",
       "..        ...      ...               ...      ...                 ...   \n",
       "360         2        1                 1        0                   1   \n",
       "361         3        2                 1        0                   1   \n",
       "362         3        2                 2        2                   3   \n",
       "363         2        1                 3        1                   2   \n",
       "364         3        2                 2        0                   0   \n",
       "\n",
       "     polygonal papules  follicular papules  oral mucosal involvement   \n",
       "0                    0                   0                         0  \\\n",
       "1                    3                   0                         3   \n",
       "2                    0                   0                         0   \n",
       "3                    2                   0                         2   \n",
       "4                    0                   0                         0   \n",
       "..                 ...                 ...                       ...   \n",
       "360                  0                   0                         0   \n",
       "361                  0                   0                         0   \n",
       "362                  2                   0                         2   \n",
       "363                  3                   0                         2   \n",
       "364                  0                   0                         0   \n",
       "\n",
       "     knee and elbow involvement  scalp involvement  family history Age  \n",
       "0                             1                  1               1   8  \n",
       "1                             0                  0               0  26  \n",
       "2                             3                  2               0  40  \n",
       "3                             0                  0               0  45  \n",
       "4                             0                  0               0  41  \n",
       "..                          ...                ...             ...  ..  \n",
       "360                           0                  0               0  25  \n",
       "361                           0                  0               0  36  \n",
       "362                           0                  0               0  28  \n",
       "363                           0                  0               0  50  \n",
       "364                           3                  3               0  35  \n",
       "\n",
       "[365 rows x 12 columns]>"
      ]
     },
     "execution_count": 64,
     "metadata": {},
     "output_type": "execute_result"
    }
   ],
   "source": [
    "clinical_df.describe"
   ]
  },
  {
   "cell_type": "code",
   "execution_count": 65,
   "id": "f8ab275c",
   "metadata": {},
   "outputs": [
    {
     "data": {
      "text/plain": [
       "<bound method NDFrame.describe of      melanin incontinence  eosinophils in the infiltrate  PNL infiltrate   \n",
       "0                       0                              0               1  \\\n",
       "1                       1                              0               0   \n",
       "2                       0                              0               3   \n",
       "3                       1                              0               0   \n",
       "4                       0                              2               1   \n",
       "..                    ...                            ...             ...   \n",
       "360                     0                              0               1   \n",
       "361                     0                              0               0   \n",
       "362                     2                              2               0   \n",
       "363                     2                              0               0   \n",
       "364                     0                              0               1   \n",
       "\n",
       "     fibrosis of the papillary dermis  exocytosis  acanthosis  hyperkeratosis   \n",
       "0                                   0           1           2               0  \\\n",
       "1                                   0           1           2               0   \n",
       "2                                   0           0           2               0   \n",
       "3                                   0           1           2               0   \n",
       "4                                   0           2           2               0   \n",
       "..                                ...         ...         ...             ...   \n",
       "360                                 0           1           1               0   \n",
       "361                                 0           2           2               0   \n",
       "362                                 0           3           3               0   \n",
       "363                                 0           3           2               0   \n",
       "364                                 0           0           2               0   \n",
       "\n",
       "     parakeratosis  clubbing of the rete ridges   \n",
       "0                2                            2  \\\n",
       "1                2                            0   \n",
       "2                3                            2   \n",
       "3                0                            0   \n",
       "4                2                            0   \n",
       "..             ...                          ...   \n",
       "360              0                            0   \n",
       "361              0                            0   \n",
       "362              0                            0   \n",
       "363              0                            0   \n",
       "364              2                            3   \n",
       "\n",
       "     elongation of the rete ridges  ...  munro microabcess   \n",
       "0                                2  ...                  1  \\\n",
       "1                                0  ...                  0   \n",
       "2                                2  ...                  0   \n",
       "3                                0  ...                  0   \n",
       "4                                0  ...                  0   \n",
       "..                             ...  ...                ...   \n",
       "360                              0  ...                  0   \n",
       "361                              0  ...                  0   \n",
       "362                              0  ...                  0   \n",
       "363                              0  ...                  0   \n",
       "364                              2  ...                  2   \n",
       "\n",
       "     focal hypergranulosis  disappearance of the granular layer   \n",
       "0                        0                                    0  \\\n",
       "1                        2                                    0   \n",
       "2                        0                                    3   \n",
       "3                        2                                    2   \n",
       "4                        0                                    0   \n",
       "..                     ...                                  ...   \n",
       "360                      0                                    0   \n",
       "361                      0                                    1   \n",
       "362                      3                                    0   \n",
       "363                      3                                    0   \n",
       "364                      0                                    2   \n",
       "\n",
       "     vacuolisation and damage of basal layer  spongiosis   \n",
       "0                                          0           0  \\\n",
       "1                                          2           3   \n",
       "2                                          0           0   \n",
       "3                                          3           2   \n",
       "4                                          0           2   \n",
       "..                                       ...         ...   \n",
       "360                                        0           1   \n",
       "361                                        0           1   \n",
       "362                                        3           0   \n",
       "363                                        2           0   \n",
       "364                                        0           0   \n",
       "\n",
       "     saw-tooth appearance of retes  follicular horn plug   \n",
       "0                                0                     0  \\\n",
       "1                                2                     0   \n",
       "2                                0                     0   \n",
       "3                                3                     0   \n",
       "4                                0                     0   \n",
       "..                             ...                   ...   \n",
       "360                              0                     0   \n",
       "361                              0                     0   \n",
       "362                              3                     0   \n",
       "363                              1                     0   \n",
       "364                              0                     0   \n",
       "\n",
       "     perifollicular parakeratosis  inflammatory monoluclear inflitrate   \n",
       "0                               0                                    1  \\\n",
       "1                               0                                    2   \n",
       "2                               0                                    3   \n",
       "3                               0                                    2   \n",
       "4                               0                                    1   \n",
       "..                            ...                                  ...   \n",
       "360                             0                                    2   \n",
       "361                             0                                    2   \n",
       "362                             0                                    2   \n",
       "363                             0                                    2   \n",
       "364                             0                                    3   \n",
       "\n",
       "     band-like infiltrate  \n",
       "0                       0  \n",
       "1                       3  \n",
       "2                       0  \n",
       "3                       3  \n",
       "4                       0  \n",
       "..                    ...  \n",
       "360                     0  \n",
       "361                     0  \n",
       "362                     3  \n",
       "363                     3  \n",
       "364                     0  \n",
       "\n",
       "[365 rows x 22 columns]>"
      ]
     },
     "execution_count": 65,
     "metadata": {},
     "output_type": "execute_result"
    }
   ],
   "source": [
    "histopathological_df.describe"
   ]
  },
  {
   "cell_type": "code",
   "execution_count": 66,
   "id": "33928122",
   "metadata": {},
   "outputs": [],
   "source": [
    "# Class code is something we want to predict\n",
    "# But the class code is already provided \n",
    "# We want to isolate the data so that we can vrify the output data.\n",
    "\n",
    "class_code = df['Class Code']"
   ]
  },
  {
   "cell_type": "code",
   "execution_count": 67,
   "id": "9d2149c6",
   "metadata": {},
   "outputs": [
    {
     "data": {
      "text/plain": [
       "<bound method NDFrame.describe of 0      1\n",
       "1      3\n",
       "2      1\n",
       "3      3\n",
       "4      2\n",
       "      ..\n",
       "360    4\n",
       "361    4\n",
       "362    3\n",
       "363    3\n",
       "364    1\n",
       "Name: Class Code, Length: 365, dtype: int64>"
      ]
     },
     "execution_count": 67,
     "metadata": {},
     "output_type": "execute_result"
    }
   ],
   "source": [
    "class_code.describe"
   ]
  },
  {
   "cell_type": "code",
   "execution_count": 68,
   "id": "9b5bd4ab",
   "metadata": {},
   "outputs": [],
   "source": [
    "from sklearn.model_selection import train_test_split\n",
    "from sklearn.linear_model import LogisticRegression\n",
    "from sklearn import preprocessing\n",
    "from sklearn.pipeline import make_pipeline\n",
    "from sklearn.preprocessing import StandardScaler"
   ]
  },
  {
   "cell_type": "code",
   "execution_count": 69,
   "id": "33008c20",
   "metadata": {},
   "outputs": [],
   "source": [
    "x =  df.drop('Class Code', axis=1)\n",
    "y = df['Class Code']\n",
    "\n",
    "x_train, x_test, y_train, y_test = train_test_split(x, y, random_state=0, train_size=0.2)"
   ]
  },
  {
   "cell_type": "code",
   "execution_count": 70,
   "id": "42354f52",
   "metadata": {},
   "outputs": [
    {
     "data": {
      "text/html": [
       "<style>#sk-container-id-5 {color: black;background-color: white;}#sk-container-id-5 pre{padding: 0;}#sk-container-id-5 div.sk-toggleable {background-color: white;}#sk-container-id-5 label.sk-toggleable__label {cursor: pointer;display: block;width: 100%;margin-bottom: 0;padding: 0.3em;box-sizing: border-box;text-align: center;}#sk-container-id-5 label.sk-toggleable__label-arrow:before {content: \"▸\";float: left;margin-right: 0.25em;color: #696969;}#sk-container-id-5 label.sk-toggleable__label-arrow:hover:before {color: black;}#sk-container-id-5 div.sk-estimator:hover label.sk-toggleable__label-arrow:before {color: black;}#sk-container-id-5 div.sk-toggleable__content {max-height: 0;max-width: 0;overflow: hidden;text-align: left;background-color: #f0f8ff;}#sk-container-id-5 div.sk-toggleable__content pre {margin: 0.2em;color: black;border-radius: 0.25em;background-color: #f0f8ff;}#sk-container-id-5 input.sk-toggleable__control:checked~div.sk-toggleable__content {max-height: 200px;max-width: 100%;overflow: auto;}#sk-container-id-5 input.sk-toggleable__control:checked~label.sk-toggleable__label-arrow:before {content: \"▾\";}#sk-container-id-5 div.sk-estimator input.sk-toggleable__control:checked~label.sk-toggleable__label {background-color: #d4ebff;}#sk-container-id-5 div.sk-label input.sk-toggleable__control:checked~label.sk-toggleable__label {background-color: #d4ebff;}#sk-container-id-5 input.sk-hidden--visually {border: 0;clip: rect(1px 1px 1px 1px);clip: rect(1px, 1px, 1px, 1px);height: 1px;margin: -1px;overflow: hidden;padding: 0;position: absolute;width: 1px;}#sk-container-id-5 div.sk-estimator {font-family: monospace;background-color: #f0f8ff;border: 1px dotted black;border-radius: 0.25em;box-sizing: border-box;margin-bottom: 0.5em;}#sk-container-id-5 div.sk-estimator:hover {background-color: #d4ebff;}#sk-container-id-5 div.sk-parallel-item::after {content: \"\";width: 100%;border-bottom: 1px solid gray;flex-grow: 1;}#sk-container-id-5 div.sk-label:hover label.sk-toggleable__label {background-color: #d4ebff;}#sk-container-id-5 div.sk-serial::before {content: \"\";position: absolute;border-left: 1px solid gray;box-sizing: border-box;top: 0;bottom: 0;left: 50%;z-index: 0;}#sk-container-id-5 div.sk-serial {display: flex;flex-direction: column;align-items: center;background-color: white;padding-right: 0.2em;padding-left: 0.2em;position: relative;}#sk-container-id-5 div.sk-item {position: relative;z-index: 1;}#sk-container-id-5 div.sk-parallel {display: flex;align-items: stretch;justify-content: center;background-color: white;position: relative;}#sk-container-id-5 div.sk-item::before, #sk-container-id-5 div.sk-parallel-item::before {content: \"\";position: absolute;border-left: 1px solid gray;box-sizing: border-box;top: 0;bottom: 0;left: 50%;z-index: -1;}#sk-container-id-5 div.sk-parallel-item {display: flex;flex-direction: column;z-index: 1;position: relative;background-color: white;}#sk-container-id-5 div.sk-parallel-item:first-child::after {align-self: flex-end;width: 50%;}#sk-container-id-5 div.sk-parallel-item:last-child::after {align-self: flex-start;width: 50%;}#sk-container-id-5 div.sk-parallel-item:only-child::after {width: 0;}#sk-container-id-5 div.sk-dashed-wrapped {border: 1px dashed gray;margin: 0 0.4em 0.5em 0.4em;box-sizing: border-box;padding-bottom: 0.4em;background-color: white;}#sk-container-id-5 div.sk-label label {font-family: monospace;font-weight: bold;display: inline-block;line-height: 1.2em;}#sk-container-id-5 div.sk-label-container {text-align: center;}#sk-container-id-5 div.sk-container {/* jupyter's `normalize.less` sets `[hidden] { display: none; }` but bootstrap.min.css set `[hidden] { display: none !important; }` so we also need the `!important` here to be able to override the default hidden behavior on the sphinx rendered scikit-learn.org. See: https://github.com/scikit-learn/scikit-learn/issues/21755 */display: inline-block !important;position: relative;}#sk-container-id-5 div.sk-text-repr-fallback {display: none;}</style><div id=\"sk-container-id-5\" class=\"sk-top-container\"><div class=\"sk-text-repr-fallback\"><pre>Pipeline(steps=[(&#x27;standardscaler&#x27;, StandardScaler()),\n",
       "                (&#x27;logisticregression&#x27;, LogisticRegression())])</pre><b>In a Jupyter environment, please rerun this cell to show the HTML representation or trust the notebook. <br />On GitHub, the HTML representation is unable to render, please try loading this page with nbviewer.org.</b></div><div class=\"sk-container\" hidden><div class=\"sk-item sk-dashed-wrapped\"><div class=\"sk-label-container\"><div class=\"sk-label sk-toggleable\"><input class=\"sk-toggleable__control sk-hidden--visually\" id=\"sk-estimator-id-7\" type=\"checkbox\" ><label for=\"sk-estimator-id-7\" class=\"sk-toggleable__label sk-toggleable__label-arrow\">Pipeline</label><div class=\"sk-toggleable__content\"><pre>Pipeline(steps=[(&#x27;standardscaler&#x27;, StandardScaler()),\n",
       "                (&#x27;logisticregression&#x27;, LogisticRegression())])</pre></div></div></div><div class=\"sk-serial\"><div class=\"sk-item\"><div class=\"sk-estimator sk-toggleable\"><input class=\"sk-toggleable__control sk-hidden--visually\" id=\"sk-estimator-id-8\" type=\"checkbox\" ><label for=\"sk-estimator-id-8\" class=\"sk-toggleable__label sk-toggleable__label-arrow\">StandardScaler</label><div class=\"sk-toggleable__content\"><pre>StandardScaler()</pre></div></div></div><div class=\"sk-item\"><div class=\"sk-estimator sk-toggleable\"><input class=\"sk-toggleable__control sk-hidden--visually\" id=\"sk-estimator-id-9\" type=\"checkbox\" ><label for=\"sk-estimator-id-9\" class=\"sk-toggleable__label sk-toggleable__label-arrow\">LogisticRegression</label><div class=\"sk-toggleable__content\"><pre>LogisticRegression()</pre></div></div></div></div></div></div></div>"
      ],
      "text/plain": [
       "Pipeline(steps=[('standardscaler', StandardScaler()),\n",
       "                ('logisticregression', LogisticRegression())])"
      ]
     },
     "execution_count": 70,
     "metadata": {},
     "output_type": "execute_result"
    }
   ],
   "source": [
    "scaler = preprocessing.StandardScaler()\n",
    "\n",
    "pipe = make_pipeline(StandardScaler(), LogisticRegression())\n",
    "pipe.fit(x_train, y_train)"
   ]
  },
  {
   "cell_type": "code",
   "execution_count": 71,
   "id": "f7e15909",
   "metadata": {},
   "outputs": [],
   "source": [
    "y_pred = pipe.predict(x_test)"
   ]
  },
  {
   "cell_type": "code",
   "execution_count": 72,
   "id": "ff4823a7",
   "metadata": {},
   "outputs": [
    {
     "name": "stdout",
     "output_type": "stream",
     "text": [
      "[1 4 4 5 5 6 2 3 6 3 5 1 5 3 3 1 5 1 5 1 3 5 6 1 4 3 1 5 3 3 2 2 2 3 1 5 1\n",
      " 5 5 3 1 1 3 4 2 4 3 3 1 1 3 4 1 1 1 2 1 2 2 1 3 4 4 5 2 6 3 1 4 4 2 1 5 5\n",
      " 2 1 4 1 1 1 5 3 5 3 4 5 1 1 4 1 3 3 1 2 5 2 3 4 1 1 5 2 5 1 3 4 2 1 1 4 2\n",
      " 1 2 2 2 1 3 1 5 2 3 5 4 6 1 2 3 2 5 1 4 4 4 2 1 1 1 3 1 6 1 2 3 1 6 1 1 4\n",
      " 3 6 4 1 1 5 3 5 4 2 2 2 3 1 1 3 2 1 3 3 2 3 1 1 3 1 1 3 5 3 3 5 5 4 1 1 3\n",
      " 2 4 1 2 2 2 3 5 3 3 1 4 1 5 3 2 2 1 1 6 2 1 5 1 3 4 2 2 5 4 5 5 1 2 3 5 2\n",
      " 1 1 2 3 3 3 5 4 3 3 6 1 2 3 1 1 2 6 1 2 6 3 1 1 4 2 1 1 2 1 1 3 2 2 6 2 1\n",
      " 4 1 1 3 3 1 5 1 1 1 2 5 5 1 5 1 6 3 2 4 1 2 1 3 2 3 1 4 5 2 3 1 3]\n"
     ]
    }
   ],
   "source": [
    "print(y_pred)"
   ]
  },
  {
   "cell_type": "code",
   "execution_count": 73,
   "id": "9f55a35a",
   "metadata": {},
   "outputs": [],
   "source": [
    "list_of_test_values = list()\n",
    "\n",
    "for i in y_test:\n",
    "    list_of_test_values.append(i)"
   ]
  },
  {
   "cell_type": "code",
   "execution_count": 74,
   "id": "604c79ad",
   "metadata": {},
   "outputs": [
    {
     "name": "stdout",
     "output_type": "stream",
     "text": [
      "[1, 4, 4, 5, 5, 6, 2, 3, 6, 3, 5, 1, 5, 3, 3, 1, 5, 1, 5, 1, 3, 5, 6, 1, 4, 3, 1, 5, 3, 3, 2, 2, 2, 3, 1, 5, 1, 5, 5, 3, 1, 1, 3, 4, 2, 4, 3, 3, 1, 1, 3, 4, 1, 1, 1, 2, 1, 4, 2, 1, 3, 4, 4, 5, 4, 6, 3, 1, 4, 4, 2, 1, 5, 5, 2, 1, 4, 1, 1, 1, 5, 3, 5, 3, 4, 5, 1, 1, 4, 1, 3, 3, 1, 2, 5, 2, 3, 4, 1, 1, 5, 2, 5, 1, 3, 4, 2, 1, 1, 4, 2, 1, 2, 2, 4, 1, 3, 1, 5, 2, 3, 5, 4, 6, 1, 2, 3, 2, 5, 1, 4, 4, 4, 2, 1, 1, 1, 3, 1, 6, 1, 2, 3, 1, 6, 1, 1, 4, 3, 6, 4, 1, 1, 5, 3, 5, 4, 2, 2, 2, 3, 1, 1, 3, 2, 1, 3, 3, 2, 3, 1, 1, 3, 1, 1, 3, 5, 3, 3, 5, 5, 4, 1, 1, 3, 2, 4, 1, 2, 2, 2, 3, 5, 3, 3, 1, 4, 1, 5, 3, 2, 2, 1, 1, 6, 2, 1, 5, 1, 3, 2, 2, 2, 5, 4, 5, 5, 1, 2, 3, 5, 4, 1, 1, 4, 3, 3, 3, 5, 4, 3, 3, 6, 1, 2, 3, 1, 1, 2, 6, 1, 4, 6, 3, 1, 1, 4, 2, 1, 1, 2, 1, 1, 3, 2, 2, 6, 2, 1, 4, 1, 1, 3, 3, 1, 5, 1, 1, 1, 2, 5, 5, 1, 5, 1, 6, 3, 4, 4, 1, 2, 1, 3, 2, 3, 1, 4, 5, 2, 3, 1, 3]\n"
     ]
    }
   ],
   "source": [
    "print(list_of_test_values)"
   ]
  },
  {
   "cell_type": "code",
   "execution_count": 75,
   "id": "7855f3bd",
   "metadata": {},
   "outputs": [
    {
     "name": "stdout",
     "output_type": "stream",
     "text": [
      "292\n",
      "292\n"
     ]
    }
   ],
   "source": [
    "print(len(y_pred))\n",
    "print(len(list_of_test_values))"
   ]
  },
  {
   "cell_type": "code",
   "execution_count": 76,
   "id": "337fe65b",
   "metadata": {},
   "outputs": [
    {
     "name": "stdout",
     "output_type": "stream",
     "text": [
      "8\n"
     ]
    }
   ],
   "source": [
    "count = 0\n",
    "\n",
    "for i in range(292):\n",
    "    if (y_pred[i] != list_of_test_values[i]):\n",
    "        count = count + 1\n",
    "\n",
    "print(count)"
   ]
  },
  {
   "cell_type": "code",
   "execution_count": 77,
   "id": "884f41fd",
   "metadata": {},
   "outputs": [
    {
     "data": {
      "text/plain": [
       "0.9726027397260274"
      ]
     },
     "execution_count": 77,
     "metadata": {},
     "output_type": "execute_result"
    }
   ],
   "source": [
    "accuracy_score(y_test, y_pred)"
   ]
  },
  {
   "cell_type": "code",
   "execution_count": 78,
   "id": "12aecdfb",
   "metadata": {},
   "outputs": [],
   "source": [
    "from sklearn.ensemble import RandomForestClassifier"
   ]
  },
  {
   "cell_type": "code",
   "execution_count": 79,
   "id": "31e288eb",
   "metadata": {},
   "outputs": [
    {
     "data": {
      "text/html": [
       "<style>#sk-container-id-6 {color: black;background-color: white;}#sk-container-id-6 pre{padding: 0;}#sk-container-id-6 div.sk-toggleable {background-color: white;}#sk-container-id-6 label.sk-toggleable__label {cursor: pointer;display: block;width: 100%;margin-bottom: 0;padding: 0.3em;box-sizing: border-box;text-align: center;}#sk-container-id-6 label.sk-toggleable__label-arrow:before {content: \"▸\";float: left;margin-right: 0.25em;color: #696969;}#sk-container-id-6 label.sk-toggleable__label-arrow:hover:before {color: black;}#sk-container-id-6 div.sk-estimator:hover label.sk-toggleable__label-arrow:before {color: black;}#sk-container-id-6 div.sk-toggleable__content {max-height: 0;max-width: 0;overflow: hidden;text-align: left;background-color: #f0f8ff;}#sk-container-id-6 div.sk-toggleable__content pre {margin: 0.2em;color: black;border-radius: 0.25em;background-color: #f0f8ff;}#sk-container-id-6 input.sk-toggleable__control:checked~div.sk-toggleable__content {max-height: 200px;max-width: 100%;overflow: auto;}#sk-container-id-6 input.sk-toggleable__control:checked~label.sk-toggleable__label-arrow:before {content: \"▾\";}#sk-container-id-6 div.sk-estimator input.sk-toggleable__control:checked~label.sk-toggleable__label {background-color: #d4ebff;}#sk-container-id-6 div.sk-label input.sk-toggleable__control:checked~label.sk-toggleable__label {background-color: #d4ebff;}#sk-container-id-6 input.sk-hidden--visually {border: 0;clip: rect(1px 1px 1px 1px);clip: rect(1px, 1px, 1px, 1px);height: 1px;margin: -1px;overflow: hidden;padding: 0;position: absolute;width: 1px;}#sk-container-id-6 div.sk-estimator {font-family: monospace;background-color: #f0f8ff;border: 1px dotted black;border-radius: 0.25em;box-sizing: border-box;margin-bottom: 0.5em;}#sk-container-id-6 div.sk-estimator:hover {background-color: #d4ebff;}#sk-container-id-6 div.sk-parallel-item::after {content: \"\";width: 100%;border-bottom: 1px solid gray;flex-grow: 1;}#sk-container-id-6 div.sk-label:hover label.sk-toggleable__label {background-color: #d4ebff;}#sk-container-id-6 div.sk-serial::before {content: \"\";position: absolute;border-left: 1px solid gray;box-sizing: border-box;top: 0;bottom: 0;left: 50%;z-index: 0;}#sk-container-id-6 div.sk-serial {display: flex;flex-direction: column;align-items: center;background-color: white;padding-right: 0.2em;padding-left: 0.2em;position: relative;}#sk-container-id-6 div.sk-item {position: relative;z-index: 1;}#sk-container-id-6 div.sk-parallel {display: flex;align-items: stretch;justify-content: center;background-color: white;position: relative;}#sk-container-id-6 div.sk-item::before, #sk-container-id-6 div.sk-parallel-item::before {content: \"\";position: absolute;border-left: 1px solid gray;box-sizing: border-box;top: 0;bottom: 0;left: 50%;z-index: -1;}#sk-container-id-6 div.sk-parallel-item {display: flex;flex-direction: column;z-index: 1;position: relative;background-color: white;}#sk-container-id-6 div.sk-parallel-item:first-child::after {align-self: flex-end;width: 50%;}#sk-container-id-6 div.sk-parallel-item:last-child::after {align-self: flex-start;width: 50%;}#sk-container-id-6 div.sk-parallel-item:only-child::after {width: 0;}#sk-container-id-6 div.sk-dashed-wrapped {border: 1px dashed gray;margin: 0 0.4em 0.5em 0.4em;box-sizing: border-box;padding-bottom: 0.4em;background-color: white;}#sk-container-id-6 div.sk-label label {font-family: monospace;font-weight: bold;display: inline-block;line-height: 1.2em;}#sk-container-id-6 div.sk-label-container {text-align: center;}#sk-container-id-6 div.sk-container {/* jupyter's `normalize.less` sets `[hidden] { display: none; }` but bootstrap.min.css set `[hidden] { display: none !important; }` so we also need the `!important` here to be able to override the default hidden behavior on the sphinx rendered scikit-learn.org. See: https://github.com/scikit-learn/scikit-learn/issues/21755 */display: inline-block !important;position: relative;}#sk-container-id-6 div.sk-text-repr-fallback {display: none;}</style><div id=\"sk-container-id-6\" class=\"sk-top-container\"><div class=\"sk-text-repr-fallback\"><pre>RandomForestClassifier()</pre><b>In a Jupyter environment, please rerun this cell to show the HTML representation or trust the notebook. <br />On GitHub, the HTML representation is unable to render, please try loading this page with nbviewer.org.</b></div><div class=\"sk-container\" hidden><div class=\"sk-item\"><div class=\"sk-estimator sk-toggleable\"><input class=\"sk-toggleable__control sk-hidden--visually\" id=\"sk-estimator-id-10\" type=\"checkbox\" checked><label for=\"sk-estimator-id-10\" class=\"sk-toggleable__label sk-toggleable__label-arrow\">RandomForestClassifier</label><div class=\"sk-toggleable__content\"><pre>RandomForestClassifier()</pre></div></div></div></div></div>"
      ],
      "text/plain": [
       "RandomForestClassifier()"
      ]
     },
     "execution_count": 79,
     "metadata": {},
     "output_type": "execute_result"
    }
   ],
   "source": [
    "randomForestClassifier = RandomForestClassifier()\n",
    "\n",
    "randomForestClassifier.fit(x_train, y_train)"
   ]
  },
  {
   "cell_type": "code",
   "execution_count": 80,
   "id": "e9461301",
   "metadata": {},
   "outputs": [
    {
     "data": {
      "text/plain": [
       "array([1, 4, 4, 5, 5, 6, 2, 3, 6, 3, 5, 1, 5, 3, 3, 1, 5, 1, 5, 1, 3, 5,\n",
       "       1, 1, 4, 3, 1, 5, 3, 3, 2, 2, 2, 3, 1, 5, 1, 5, 5, 3, 1, 1, 3, 2,\n",
       "       2, 4, 3, 3, 1, 1, 3, 4, 1, 1, 1, 2, 1, 4, 2, 1, 3, 2, 4, 5, 2, 6,\n",
       "       3, 1, 4, 4, 2, 1, 5, 5, 2, 1, 4, 1, 1, 1, 5, 3, 5, 3, 4, 5, 1, 1,\n",
       "       4, 1, 3, 3, 1, 2, 5, 2, 3, 4, 1, 1, 5, 2, 5, 1, 3, 4, 2, 1, 1, 4,\n",
       "       2, 1, 2, 2, 2, 1, 3, 1, 5, 2, 3, 5, 4, 6, 1, 2, 3, 2, 5, 1, 4, 4,\n",
       "       4, 2, 1, 1, 1, 3, 1, 6, 1, 2, 3, 1, 6, 1, 1, 4, 3, 6, 4, 1, 1, 5,\n",
       "       3, 5, 4, 2, 2, 2, 3, 1, 1, 3, 2, 1, 3, 3, 2, 3, 1, 1, 3, 1, 1, 3,\n",
       "       5, 3, 3, 5, 5, 4, 1, 1, 3, 2, 4, 1, 2, 2, 2, 3, 5, 3, 3, 1, 4, 1,\n",
       "       5, 3, 2, 2, 1, 1, 6, 2, 1, 5, 1, 3, 4, 2, 2, 5, 4, 5, 5, 1, 2, 3,\n",
       "       5, 2, 1, 1, 2, 3, 3, 3, 5, 4, 3, 3, 6, 1, 2, 3, 1, 1, 2, 6, 1, 2,\n",
       "       6, 3, 1, 1, 4, 2, 1, 1, 2, 1, 1, 3, 2, 2, 6, 2, 1, 4, 1, 1, 3, 3,\n",
       "       1, 5, 1, 1, 1, 2, 5, 5, 1, 5, 1, 6, 3, 2, 4, 1, 2, 1, 3, 2, 3, 1,\n",
       "       4, 5, 2, 3, 1, 3], dtype=int64)"
      ]
     },
     "execution_count": 80,
     "metadata": {},
     "output_type": "execute_result"
    }
   ],
   "source": [
    "y_pred = randomForestClassifier.predict(x_test)\n",
    "\n",
    "y_pred"
   ]
  },
  {
   "cell_type": "code",
   "execution_count": 35,
   "id": "09af1eff",
   "metadata": {},
   "outputs": [
    {
     "name": "stdout",
     "output_type": "stream",
     "text": [
      "8\n"
     ]
    }
   ],
   "source": [
    "count = 0\n",
    "\n",
    "for i in range(292):\n",
    "    if(y_pred[i] != list_of_test_values[i]):\n",
    "        count = count + 1\n",
    "        \n",
    "print(count)"
   ]
  },
  {
   "cell_type": "code",
   "execution_count": 81,
   "id": "d00477c2",
   "metadata": {},
   "outputs": [
    {
     "data": {
      "text/plain": [
       "0.9657534246575342"
      ]
     },
     "execution_count": 81,
     "metadata": {},
     "output_type": "execute_result"
    }
   ],
   "source": [
    "accuracy_score(y_test, y_pred)"
   ]
  },
  {
   "cell_type": "code",
   "execution_count": 83,
   "id": "396119a0",
   "metadata": {},
   "outputs": [],
   "source": [
    "from sklearn import svm\n",
    "from sklearn.svm import SVC"
   ]
  },
  {
   "cell_type": "code",
   "execution_count": 84,
   "id": "d70ca511",
   "metadata": {},
   "outputs": [
    {
     "data": {
      "text/html": [
       "<style>#sk-container-id-7 {color: black;background-color: white;}#sk-container-id-7 pre{padding: 0;}#sk-container-id-7 div.sk-toggleable {background-color: white;}#sk-container-id-7 label.sk-toggleable__label {cursor: pointer;display: block;width: 100%;margin-bottom: 0;padding: 0.3em;box-sizing: border-box;text-align: center;}#sk-container-id-7 label.sk-toggleable__label-arrow:before {content: \"▸\";float: left;margin-right: 0.25em;color: #696969;}#sk-container-id-7 label.sk-toggleable__label-arrow:hover:before {color: black;}#sk-container-id-7 div.sk-estimator:hover label.sk-toggleable__label-arrow:before {color: black;}#sk-container-id-7 div.sk-toggleable__content {max-height: 0;max-width: 0;overflow: hidden;text-align: left;background-color: #f0f8ff;}#sk-container-id-7 div.sk-toggleable__content pre {margin: 0.2em;color: black;border-radius: 0.25em;background-color: #f0f8ff;}#sk-container-id-7 input.sk-toggleable__control:checked~div.sk-toggleable__content {max-height: 200px;max-width: 100%;overflow: auto;}#sk-container-id-7 input.sk-toggleable__control:checked~label.sk-toggleable__label-arrow:before {content: \"▾\";}#sk-container-id-7 div.sk-estimator input.sk-toggleable__control:checked~label.sk-toggleable__label {background-color: #d4ebff;}#sk-container-id-7 div.sk-label input.sk-toggleable__control:checked~label.sk-toggleable__label {background-color: #d4ebff;}#sk-container-id-7 input.sk-hidden--visually {border: 0;clip: rect(1px 1px 1px 1px);clip: rect(1px, 1px, 1px, 1px);height: 1px;margin: -1px;overflow: hidden;padding: 0;position: absolute;width: 1px;}#sk-container-id-7 div.sk-estimator {font-family: monospace;background-color: #f0f8ff;border: 1px dotted black;border-radius: 0.25em;box-sizing: border-box;margin-bottom: 0.5em;}#sk-container-id-7 div.sk-estimator:hover {background-color: #d4ebff;}#sk-container-id-7 div.sk-parallel-item::after {content: \"\";width: 100%;border-bottom: 1px solid gray;flex-grow: 1;}#sk-container-id-7 div.sk-label:hover label.sk-toggleable__label {background-color: #d4ebff;}#sk-container-id-7 div.sk-serial::before {content: \"\";position: absolute;border-left: 1px solid gray;box-sizing: border-box;top: 0;bottom: 0;left: 50%;z-index: 0;}#sk-container-id-7 div.sk-serial {display: flex;flex-direction: column;align-items: center;background-color: white;padding-right: 0.2em;padding-left: 0.2em;position: relative;}#sk-container-id-7 div.sk-item {position: relative;z-index: 1;}#sk-container-id-7 div.sk-parallel {display: flex;align-items: stretch;justify-content: center;background-color: white;position: relative;}#sk-container-id-7 div.sk-item::before, #sk-container-id-7 div.sk-parallel-item::before {content: \"\";position: absolute;border-left: 1px solid gray;box-sizing: border-box;top: 0;bottom: 0;left: 50%;z-index: -1;}#sk-container-id-7 div.sk-parallel-item {display: flex;flex-direction: column;z-index: 1;position: relative;background-color: white;}#sk-container-id-7 div.sk-parallel-item:first-child::after {align-self: flex-end;width: 50%;}#sk-container-id-7 div.sk-parallel-item:last-child::after {align-self: flex-start;width: 50%;}#sk-container-id-7 div.sk-parallel-item:only-child::after {width: 0;}#sk-container-id-7 div.sk-dashed-wrapped {border: 1px dashed gray;margin: 0 0.4em 0.5em 0.4em;box-sizing: border-box;padding-bottom: 0.4em;background-color: white;}#sk-container-id-7 div.sk-label label {font-family: monospace;font-weight: bold;display: inline-block;line-height: 1.2em;}#sk-container-id-7 div.sk-label-container {text-align: center;}#sk-container-id-7 div.sk-container {/* jupyter's `normalize.less` sets `[hidden] { display: none; }` but bootstrap.min.css set `[hidden] { display: none !important; }` so we also need the `!important` here to be able to override the default hidden behavior on the sphinx rendered scikit-learn.org. See: https://github.com/scikit-learn/scikit-learn/issues/21755 */display: inline-block !important;position: relative;}#sk-container-id-7 div.sk-text-repr-fallback {display: none;}</style><div id=\"sk-container-id-7\" class=\"sk-top-container\"><div class=\"sk-text-repr-fallback\"><pre>SVC(kernel=&#x27;linear&#x27;)</pre><b>In a Jupyter environment, please rerun this cell to show the HTML representation or trust the notebook. <br />On GitHub, the HTML representation is unable to render, please try loading this page with nbviewer.org.</b></div><div class=\"sk-container\" hidden><div class=\"sk-item\"><div class=\"sk-estimator sk-toggleable\"><input class=\"sk-toggleable__control sk-hidden--visually\" id=\"sk-estimator-id-11\" type=\"checkbox\" checked><label for=\"sk-estimator-id-11\" class=\"sk-toggleable__label sk-toggleable__label-arrow\">SVC</label><div class=\"sk-toggleable__content\"><pre>SVC(kernel=&#x27;linear&#x27;)</pre></div></div></div></div></div>"
      ],
      "text/plain": [
       "SVC(kernel='linear')"
      ]
     },
     "execution_count": 84,
     "metadata": {},
     "output_type": "execute_result"
    }
   ],
   "source": [
    "linear_svm = svm.SVC(kernel = 'linear')\n",
    "linear_svm.fit(x_train, y_train)"
   ]
  },
  {
   "cell_type": "code",
   "execution_count": 85,
   "id": "d8a14c35",
   "metadata": {},
   "outputs": [],
   "source": [
    "y_pred = linear_svm.predict(x_test)"
   ]
  },
  {
   "cell_type": "code",
   "execution_count": 86,
   "id": "8c15457a",
   "metadata": {},
   "outputs": [
    {
     "name": "stdout",
     "output_type": "stream",
     "text": [
      "[1 4 4 5 5 2 4 3 6 3 5 1 5 3 3 1 6 1 5 1 4 5 6 1 4 3 1 5 3 3 2 2 2 3 1 5 1\n",
      " 5 5 3 1 1 3 2 2 4 3 3 1 1 3 4 1 1 1 2 1 2 2 1 3 4 4 5 2 6 3 1 4 4 2 1 5 5\n",
      " 2 1 4 1 1 1 5 3 5 3 4 5 1 1 4 1 3 3 1 2 5 2 3 4 1 1 5 2 5 1 3 4 2 1 1 4 2\n",
      " 1 2 2 4 1 3 1 5 2 3 5 4 6 1 2 3 2 5 1 4 4 4 4 1 1 1 3 1 6 1 2 3 1 6 1 1 4\n",
      " 3 6 4 1 1 5 3 5 4 2 1 2 3 1 1 3 2 1 3 3 2 3 1 1 3 1 1 3 5 3 3 5 5 4 1 1 3\n",
      " 2 4 1 2 2 2 3 5 3 3 6 4 1 5 3 2 2 1 1 6 2 1 5 1 3 4 2 2 5 4 5 5 1 2 3 5 2\n",
      " 1 1 2 3 3 3 5 4 3 3 6 1 2 3 1 1 2 6 1 2 6 3 1 1 4 2 1 1 2 1 1 3 2 2 6 2 1\n",
      " 4 1 1 3 3 1 5 1 1 1 2 5 5 1 5 1 6 3 4 4 1 2 1 3 2 3 1 4 5 2 3 1 3]\n"
     ]
    }
   ],
   "source": [
    "print(y_pred)"
   ]
  },
  {
   "cell_type": "code",
   "execution_count": 87,
   "id": "1f60ecb9",
   "metadata": {},
   "outputs": [
    {
     "name": "stdout",
     "output_type": "stream",
     "text": [
      "[1, 4, 4, 5, 5, 6, 2, 3, 6, 3, 5, 1, 5, 3, 3, 1, 5, 1, 5, 1, 3, 5, 6, 1, 4, 3, 1, 5, 3, 3, 2, 2, 2, 3, 1, 5, 1, 5, 5, 3, 1, 1, 3, 4, 2, 4, 3, 3, 1, 1, 3, 4, 1, 1, 1, 2, 1, 4, 2, 1, 3, 4, 4, 5, 4, 6, 3, 1, 4, 4, 2, 1, 5, 5, 2, 1, 4, 1, 1, 1, 5, 3, 5, 3, 4, 5, 1, 1, 4, 1, 3, 3, 1, 2, 5, 2, 3, 4, 1, 1, 5, 2, 5, 1, 3, 4, 2, 1, 1, 4, 2, 1, 2, 2, 4, 1, 3, 1, 5, 2, 3, 5, 4, 6, 1, 2, 3, 2, 5, 1, 4, 4, 4, 2, 1, 1, 1, 3, 1, 6, 1, 2, 3, 1, 6, 1, 1, 4, 3, 6, 4, 1, 1, 5, 3, 5, 4, 2, 2, 2, 3, 1, 1, 3, 2, 1, 3, 3, 2, 3, 1, 1, 3, 1, 1, 3, 5, 3, 3, 5, 5, 4, 1, 1, 3, 2, 4, 1, 2, 2, 2, 3, 5, 3, 3, 1, 4, 1, 5, 3, 2, 2, 1, 1, 6, 2, 1, 5, 1, 3, 2, 2, 2, 5, 4, 5, 5, 1, 2, 3, 5, 4, 1, 1, 4, 3, 3, 3, 5, 4, 3, 3, 6, 1, 2, 3, 1, 1, 2, 6, 1, 4, 6, 3, 1, 1, 4, 2, 1, 1, 2, 1, 1, 3, 2, 2, 6, 2, 1, 4, 1, 1, 3, 3, 1, 5, 1, 1, 1, 2, 5, 5, 1, 5, 1, 6, 3, 4, 4, 1, 2, 1, 3, 2, 3, 1, 4, 5, 2, 3, 1, 3]\n"
     ]
    }
   ],
   "source": [
    "print(list_of_test_values)"
   ]
  },
  {
   "cell_type": "code",
   "execution_count": 88,
   "id": "6f4b1482",
   "metadata": {},
   "outputs": [
    {
     "data": {
      "text/plain": [
       "0.952054794520548"
      ]
     },
     "execution_count": 88,
     "metadata": {},
     "output_type": "execute_result"
    }
   ],
   "source": [
    "accuracy_score(y_test, y_pred)"
   ]
  },
  {
   "cell_type": "code",
   "execution_count": null,
   "id": "42a7de4d",
   "metadata": {},
   "outputs": [],
   "source": []
  }
 ],
 "metadata": {
  "kernelspec": {
   "display_name": "Python 3 (ipykernel)",
   "language": "python",
   "name": "python3"
  },
  "language_info": {
   "codemirror_mode": {
    "name": "ipython",
    "version": 3
   },
   "file_extension": ".py",
   "mimetype": "text/x-python",
   "name": "python",
   "nbconvert_exporter": "python",
   "pygments_lexer": "ipython3",
   "version": "3.8.10"
  },
  "varInspector": {
   "cols": {
    "lenName": 16,
    "lenType": 16,
    "lenVar": 40
   },
   "kernels_config": {
    "python": {
     "delete_cmd_postfix": "",
     "delete_cmd_prefix": "del ",
     "library": "var_list.py",
     "varRefreshCmd": "print(var_dic_list())"
    },
    "r": {
     "delete_cmd_postfix": ") ",
     "delete_cmd_prefix": "rm(",
     "library": "var_list.r",
     "varRefreshCmd": "cat(var_dic_list()) "
    }
   },
   "types_to_exclude": [
    "module",
    "function",
    "builtin_function_or_method",
    "instance",
    "_Feature"
   ],
   "window_display": false
  }
 },
 "nbformat": 4,
 "nbformat_minor": 5
}
